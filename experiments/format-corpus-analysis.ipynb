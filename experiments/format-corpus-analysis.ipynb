{
 "metadata": {
  "name": "",
  "signature": "sha256:f7023c6d7b2dda4cd56bfb24233c0f3e4f798b6230114f6d1be9a96712c92b37"
 },
 "nbformat": 3,
 "nbformat_minor": 0,
 "worksheets": [
  {
   "cells": [
    {
     "cell_type": "markdown",
     "metadata": {},
     "source": [
      "Format Corpus Analysis\n",
      "======================\n",
      "\n",
      "Here, we can run Python scripts to scan through the contents of [various test corpora](http://www.digipres.org/real-data/), invoking various tools and analysing the results.\n",
      "\n",
      "Using an [IPython Notebook](http://ipython.org/notebook.html) makes it very easy to regenerate the results by [re-running](https://github.com/paulgb/runipy) these analyses as part of a [continious integration process](https://travis-ci.org/openplanets/format-corpus). Furthermore, because it's an IPython Notebook it generates output that is easy to publish on the web as static pages.\n",
      "\n",
      "Outline of the process\n",
      "----------------------\n",
      "\n",
      "### 1. Update the remote corpora\n",
      "\n",
      "Where appropriate, the format corpus pull existing corpora by remote reference rather than duplicating them in the main repository. Therefore, the first step is to create/update the local copies of those resources.\n",
      "\n",
      "### 2. Run the tools\n",
      "\n",
      "We then run various tools of interest, and collect the results.\n",
      "\n",
      "### 3. Summarise the results\n",
      "\n",
      "We then summarise the results from the various tools.\n",
      "\n",
      "### 4. Compare with previous results\n",
      "\n",
      "We take the latest results and combine them with earlier sets of results, in order to see how things have changed over time.\n",
      "\n",
      "### 5. Generate website\n",
      "\n",
      "The data and graphs generated in this way are then used to generate a static website generated via Jekyll."
     ]
    },
    {
     "cell_type": "markdown",
     "metadata": {},
     "source": [
      "1. Update the remote corpora\n",
      "----------------------------\n",
      "\n",
      "...???...\n",
      "\n",
      "2. Run the tools\n",
      "----------------\n",
      "\n",
      "..."
     ]
    },
    {
     "cell_type": "code",
     "collapsed": false,
     "input": [
      "import os\n",
      "import subprocess\n",
      "import time\n",
      "from __future__ import print_function\n",
      "\n",
      "def run_command(cmd):\n",
      "    '''given shell command, returns communication tuple of stdout and stderr'''\n",
      "    return subprocess.Popen(cmd, \n",
      "                            stdout=subprocess.PIPE, \n",
      "                            stderr=subprocess.PIPE, \n",
      "                            stdin=subprocess.PIPE)\n",
      "\n",
      "def run_tika(fp,out_fp):\n",
      "    start_time = os.times()[4]\n",
      "    p = run_command([\"tika\", \"-m\", fp])\n",
      "    of = open(out_fp+\".out\",'wb')\n",
      "    tika_type = None\n",
      "    while p.poll() is None:\n",
      "        line = p.stdout.readline()\n",
      "        of.write(line)\n",
      "        # Convert bytes to string, as UTF-8:\n",
      "        line = line.decode()\n",
      "        if \"Content-Type\" in line:\n",
      "            tika_type = line.rstrip().split(':')[1].strip()\n",
      "    of.close()\n",
      "    # Determine run-time:\n",
      "    end_time = os.times()[4]\n",
      "    run_time = end_time - start_time\n",
      "    # Check for stderr\n",
      "    errs = p.stderr.readlines()\n",
      "    has_stderr = False\n",
      "    if len(errs) > 0:\n",
      "        ef = open(out_fp+\".err\",'wb')\n",
      "        ef.writelines(errs)\n",
      "        ef.close()\n",
      "        has_stderr = True\n",
      "    # Note return code:\n",
      "    #print(p.returncode)\n",
      "    # Return:\n",
      "    return { 'type': tika_type, 'returncode': p.returncode, 'has_stderr': has_stderr, 'duration': run_time }\n",
      "\n",
      "\n",
      "prefix = '/Users/andy/Documents/workspace/format-corpus/'\n",
      "indir = prefix+'corpora/'\n",
      "outdir = prefix+'tool-output/tika/'\n",
      "count = 0\n",
      "\n",
      "of = open(prefix+\"scan-results.out\",'w')\n",
      "\n",
      "for root, dirs, filenames in os.walk(indir):\n",
      "    rel_path = root.replace(indir, \"\")\n",
      "    out_name = rel_path.replace(\"/\",\".\")\n",
      "    \n",
      "    for f in filenames:\n",
      "        # Set up input and output filenames:\n",
      "        fp = os.path.join(root, f)\n",
      "        rel_fp = os.path.join(rel_path,f)\n",
      "        out_fp = os.path.join(outdir,out_name+\".\"+f)\n",
      "        out_fp = out_fp.replace(\" \",\"_\")\n",
      "        # Run tools\n",
      "        print(\"Running Tika on\",f)\n",
      "        tika = run_tika(fp,out_fp)\n",
      "        of.write(\"%s\\t%s\\t%s\\t%s\\t%s\\n\" % (rel_fp, tika['type'], tika['returncode'], tika['has_stderr'], tika['duration']))\n",
      "        # Count files processed:\n",
      "        count+=1\n",
      "        # Only process one folder per file right now:\n",
      "        break\n",
      "    \n",
      "of.close()\n",
      "\n",
      "print(\"DONE\")\n",
      "        "
     ],
     "language": "python",
     "metadata": {},
     "outputs": [
      {
       "output_type": "stream",
       "stream": "stdout",
       "text": [
        "Running Tika on Curation outline3.nmind.tar\n",
        "Running Tika on"
       ]
      },
      {
       "output_type": "stream",
       "stream": "stdout",
       "text": [
        " 00000019.300.tif\n",
        "Running Tika on"
       ]
      },
      {
       "output_type": "stream",
       "stream": "stdout",
       "text": [
        " Neddy_Flyer_ft_HeatherRyan.jpg\n",
        "Running Tika on"
       ]
      },
      {
       "output_type": "stream",
       "stream": "stdout",
       "text": [
        " Aesops-Fables.azw\n",
        "Running Tika on"
       ]
      },
      {
       "output_type": "stream",
       "stream": "stdout",
       "text": [
        " .DS_Store\n",
        "Running Tika on"
       ]
      },
      {
       "output_type": "stream",
       "stream": "stdout",
       "text": [
        " create-variations.sh\n",
        "Running Tika on"
       ]
      },
      {
       "output_type": "stream",
       "stream": "stdout",
       "text": [
        " lorem-ipsum-openprintcopypw.pdf\n",
        "Running Tika on"
       ]
      },
      {
       "output_type": "stream",
       "stream": "stdout",
       "text": [
        " lorem-ipsum-plus-image-updated-opencopyprintpw.pdf\n",
        "Running Tika on"
       ]
      },
      {
       "output_type": "stream",
       "stream": "stdout",
       "text": [
        " readme.md\n",
        "Running Tika on"
       ]
      },
      {
       "output_type": "stream",
       "stream": "stdout",
       "text": [
        " MAPS.ARJ\n",
        "Running Tika on"
       ]
      },
      {
       "output_type": "stream",
       "stream": "stdout",
       "text": [
        " readme.md\n",
        "Running Tika on"
       ]
      },
      {
       "output_type": "stream",
       "stream": "stdout",
       "text": [
        " !\n",
        "Running Tika on"
       ]
      },
      {
       "output_type": "stream",
       "stream": "stdout",
       "text": [
        " .gitignore\n",
        "Running Tika on"
       ]
      },
      {
       "output_type": "stream",
       "stream": "stdout",
       "text": [
        " null\n",
        "Running Tika on"
       ]
      },
      {
       "output_type": "stream",
       "stream": "stdout",
       "text": [
        " readme.md\n",
        "Running Tika on"
       ]
      },
      {
       "output_type": "stream",
       "stream": "stdout",
       "text": [
        " 008677.pdf\n",
        "Running Tika on"
       ]
      },
      {
       "output_type": "stream",
       "stream": "stdout",
       "text": [
        " 020747.pdf\n",
        "Running Tika on"
       ]
      },
      {
       "output_type": "stream",
       "stream": "stdout",
       "text": [
        " balloon.j2c\n",
        "Running Tika on"
       ]
      },
      {
       "output_type": "stream",
       "stream": "stdout",
       "text": [
        " diagram.png\n",
        "Running Tika on"
       ]
      },
      {
       "output_type": "stream",
       "stream": "stdout",
       "text": [
        " balloon.jpg\n",
        "Running Tika on"
       ]
      },
      {
       "output_type": "stream",
       "stream": "stdout",
       "text": [
        " balloon_eciRGBv2.tif\n",
        "Running Tika on"
       ]
      },
      {
       "output_type": "stream",
       "stream": "stdout",
       "text": [
        " balloon.tif\n",
        "Running Tika on"
       ]
      },
      {
       "output_type": "stream",
       "stream": "stdout",
       "text": [
        " ConceptDraw Format metadata template.csv\n",
        "Running Tika on"
       ]
      },
      {
       "output_type": "stream",
       "stream": "stdout",
       "text": [
        " copac-uknuc.mmp\n",
        "Running Tika on"
       ]
      },
      {
       "output_type": "stream",
       "stream": "stdout",
       "text": [
        " Curation outline 3.nmind\n",
        "Running Tika on"
       ]
      },
      {
       "output_type": "stream",
       "stream": "stdout",
       "text": [
        " readme.md\n",
        "Running Tika on"
       ]
      },
      {
       "output_type": "stream",
       "stream": "stdout",
       "text": [
        " KSBASE.WK1\n",
        "Running Tika on"
       ]
      },
      {
       "output_type": "stream",
       "stream": "stdout",
       "text": [
        " PEYTREND.WK3\n",
        "Running Tika on"
       ]
      },
      {
       "output_type": "stream",
       "stream": "stdout",
       "text": [
        " KSBASE.WQ1\n",
        "Running Tika on"
       ]
      },
      {
       "output_type": "stream",
       "stream": "stdout",
       "text": [
        " KS4000.WQ2\n",
        "Running Tika on"
       ]
      },
      {
       "output_type": "stream",
       "stream": "stdout",
       "text": [
        " MonteCarlo.xls\n",
        "Running Tika on"
       ]
      },
      {
       "output_type": "stream",
       "stream": "stdout",
       "text": [
        " demoLibreOfficeImagePasteBug.odt\n",
        "Running Tika on"
       ]
      },
      {
       "output_type": "stream",
       "stream": "stdout",
       "text": [
        " readme.md\n",
        "Running Tika on"
       ]
      },
      {
       "output_type": "stream",
       "stream": "stdout",
       "text": [
        " .DS_Store\n",
        "Running Tika on"
       ]
      },
      {
       "output_type": "stream",
       "stream": "stdout",
       "text": [
        " lorem-ipsum-lossless.jp2\n",
        "Running Tika on"
       ]
      },
      {
       "output_type": "stream",
       "stream": "stdout",
       "text": [
        " convert-version.txt\n",
        "Running Tika on"
       ]
      },
      {
       "output_type": "stream",
       "stream": "stdout",
       "text": [
        " index.md\n",
        "Running Tika on"
       ]
      },
      {
       "output_type": "stream",
       "stream": "stdout",
       "text": [
        " MS Access Format metadata template.csv\n",
        "Running Tika on"
       ]
      },
      {
       "output_type": "stream",
       "stream": "stdout",
       "text": [
        " acc95.mdb\n",
        "Running Tika on"
       ]
      },
      {
       "output_type": "stream",
       "stream": "stdout",
       "text": [
        " MS Word 5 Format metadata template.csv\n",
        "Running Tika on"
       ]
      },
      {
       "output_type": "stream",
       "stream": "stdout",
       "text": [
        " README.md\n",
        "Running Tika on"
       ]
      },
      {
       "output_type": "stream",
       "stream": "stdout",
       "text": [
        " embedded-lucinda-sans-PDFA-1a.pdf\n",
        "Running Tika on"
       ]
      },
      {
       "output_type": "stream",
       "stream": "stdout",
       "text": [
        " jap_91055688_japredcross_ss_ue_fnl_12212011.pdf\n",
        "Running Tika on"
       ]
      },
      {
       "output_type": "stream",
       "stream": "stdout",
       "text": [
        " application-manifest.sha1\n",
        "Running Tika on"
       ]
      },
      {
       "output_type": "stream",
       "stream": "stdout",
       "text": [
        " simple.odt\n",
        "Running Tika on"
       ]
      },
      {
       "output_type": "stream",
       "stream": "stdout",
       "text": [
        " .DS_Store\n",
        "Running Tika on"
       ]
      },
      {
       "output_type": "stream",
       "stream": "stdout",
       "text": [
        " ripole-0.1.4.tar.gz\n",
        "Running Tika on"
       ]
      },
      {
       "output_type": "stream",
       "stream": "stdout",
       "text": [
        " bt-int.c\n",
        "Running Tika on"
       ]
      },
      {
       "output_type": "stream",
       "stream": "stdout",
       "text": [
        " bt-int.c\n",
        "Running Tika on"
       ]
      },
      {
       "output_type": "stream",
       "stream": "stdout",
       "text": [
        " bt-int.c\n",
        "Running Tika on"
       ]
      },
      {
       "output_type": "stream",
       "stream": "stdout",
       "text": [
        " ecdl paris. 1997-2003.ppt\n",
        "Running Tika on"
       ]
      },
      {
       "output_type": "stream",
       "stream": "stdout",
       "text": [
        " AREA2.MAP\n",
        "Running Tika on"
       ]
      },
      {
       "output_type": "stream",
       "stream": "stdout",
       "text": [
        " corruptionOneByteMissing.pdf\n",
        "Running Tika on"
       ]
      },
      {
       "output_type": "stream",
       "stream": "stdout",
       "text": [
        " .DS_Store\n",
        "Running Tika on"
       ]
      },
      {
       "output_type": "stream",
       "stream": "stdout",
       "text": [
        " .DS_Store\n",
        "Running Tika on"
       ]
      },
      {
       "output_type": "stream",
       "stream": "stdout",
       "text": [
        " .DS_Store\n",
        "Running Tika on"
       ]
      },
      {
       "output_type": "stream",
       "stream": "stdout",
       "text": [
        " convert-dependencies.txt\n",
        "Running Tika on"
       ]
      },
      {
       "output_type": "stream",
       "stream": "stdout",
       "text": [
        " corkam-osx\n",
        "Running Tika on"
       ]
      },
      {
       "output_type": "stream",
       "stream": "stdout",
       "text": [
        " bmpjs.asm\n",
        "Running Tika on"
       ]
      },
      {
       "output_type": "stream",
       "stream": "stdout",
       "text": [
        " BOXLAAG.STG\n",
        "Running Tika on"
       ]
      },
      {
       "output_type": "stream",
       "stream": "stdout",
       "text": [
        " .history\n",
        "Running Tika on"
       ]
      },
      {
       "output_type": "stream",
       "stream": "stdout",
       "text": [
        " test-hw.doc\n",
        "Running Tika on"
       ]
      },
      {
       "output_type": "stream",
       "stream": "stdout",
       "text": [
        " .DS_Store\n",
        "Running Tika on"
       ]
      },
      {
       "output_type": "stream",
       "stream": "stdout",
       "text": [
        " grayscale_8bpp_wrong_bpptag.tif\n",
        "Running Tika on"
       ]
      },
      {
       "output_type": "stream",
       "stream": "stdout",
       "text": [
        " lorem-ipsum.txt\n",
        "Running Tika on"
       ]
      },
      {
       "output_type": "stream",
       "stream": "stdout",
       "text": [
        " lorem-ipsum-pages-09-4.1-923.epub\n",
        "Running Tika on"
       ]
      },
      {
       "output_type": "stream",
       "stream": "stdout",
       "text": [
        " lorem-ipsum-pages-09-4.1-923.doc\n",
        "Running Tika on"
       ]
      },
      {
       "output_type": "stream",
       "stream": "stdout",
       "text": [
        " lorem-ipsum-pages-09-4.1-923.pdf\n",
        "Running Tika on"
       ]
      },
      {
       "output_type": "stream",
       "stream": "stdout",
       "text": [
        " lorem-ipsum.rtf\n",
        "Running Tika on"
       ]
      },
      {
       "output_type": "stream",
       "stream": "stdout",
       "text": [
        " lorem-ipsum.oo3.2.odt\n",
        "Running Tika on"
       ]
      },
      {
       "output_type": "stream",
       "stream": "stdout",
       "text": [
        " lorem-ipsum.docx\n",
        "Running Tika on"
       ]
      },
      {
       "output_type": "stream",
       "stream": "stdout",
       "text": [
        " About Pages '08 3.0.3.png\n",
        "Running Tika on"
       ]
      },
      {
       "output_type": "stream",
       "stream": "stdout",
       "text": [
        " index.xml.gz\n",
        "Running Tika on"
       ]
      },
      {
       "output_type": "stream",
       "stream": "stdout",
       "text": [
        " PkgInfo\n",
        "Running Tika on"
       ]
      },
      {
       "output_type": "stream",
       "stream": "stdout",
       "text": [
        " Thumbnail.jpg\n",
        "Running Tika on"
       ]
      },
      {
       "output_type": "stream",
       "stream": "stdout",
       "text": [
        " lorem-ipsum.pages\n",
        "Running Tika on"
       ]
      },
      {
       "output_type": "stream",
       "stream": "stdout",
       "text": [
        " lorem-ipsum.pages\n",
        "Running Tika on"
       ]
      },
      {
       "output_type": "stream",
       "stream": "stdout",
       "text": [
        " .DS_Store\n",
        "Running Tika on"
       ]
      },
      {
       "output_type": "stream",
       "stream": "stdout",
       "text": [
        " Index.zip\n",
        "Running Tika on"
       ]
      },
      {
       "output_type": "stream",
       "stream": "stdout",
       "text": [
        " Hardcover_bullet_black-13.png\n",
        "Running Tika on"
       ]
      },
      {
       "output_type": "stream",
       "stream": "stdout",
       "text": [
        " BuildVersionHistory.plist\n",
        "Running Tika on"
       ]
      },
      {
       "output_type": "stream",
       "stream": "stdout",
       "text": [
        " lorem-ipsum.pages\n",
        "Running Tika on"
       ]
      },
      {
       "output_type": "stream",
       "stream": "stdout",
       "text": [
        " lorem-ipsum.im.jpg\n",
        "Running Tika on"
       ]
      },
      {
       "output_type": "stream",
       "stream": "stdout",
       "text": [
        " lorem-ipsum.im.png\n",
        "Running Tika on"
       ]
      },
      {
       "output_type": "stream",
       "stream": "stdout",
       "text": [
        " create-variations.sh\n",
        "Running Tika on"
       ]
      },
      {
       "output_type": "stream",
       "stream": "stdout",
       "text": [
        " index.md\n",
        "Running Tika on"
       ]
      },
      {
       "output_type": "stream",
       "stream": "stdout",
       "text": [
        " lorem-ipsum.htm\n",
        "Running Tika on"
       ]
      },
      {
       "output_type": "stream",
       "stream": "stdout",
       "text": [
        " filelist.xml\n",
        "Running Tika on"
       ]
      },
      {
       "output_type": "stream",
       "stream": "stdout",
       "text": [
        " animation.mov\n",
        "Running Tika on"
       ]
      },
      {
       "output_type": "stream",
       "stream": "stdout",
       "text": [
        " www-original-proposal-MacWord-1989\n"
       ]
      }
     ],
     "prompt_number": 7
    },
    {
     "cell_type": "code",
     "collapsed": false,
     "input": [],
     "language": "python",
     "metadata": {},
     "outputs": []
    }
   ],
   "metadata": {}
  }
 ]
}