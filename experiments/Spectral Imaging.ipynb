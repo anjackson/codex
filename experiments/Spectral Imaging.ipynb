{
 "metadata": {
  "name": ""
 },
 "nbformat": 3,
 "nbformat_minor": 0,
 "worksheets": [
  {
   "cells": [
    {
     "cell_type": "markdown",
     "metadata": {},
     "source": [
      "We start by pulling in the Spectrum tapes via a metadata query on our internal Solr server. This uses a combination of file extensions and leading bytes to identify SNA, Z80, TAP and TZX files:\n",
      "\n",
      "```xml\n",
      "content_type_ext:.z80 OR content_type_ext:.sna OR content_type_ext:.tzx OR content_ffb:5a585461 OR content_ffb:13000000\n",
      "```\n",
      "\n",
      "and downloads selected fields from matching records as CSV."
     ]
    },
    {
     "cell_type": "code",
     "collapsed": false,
     "input": [
      "solrUrl = \"http://192.168.1.151:8984/solr/jisc/select?q=content_type_ext%3A.z80+OR+content_type_ext%3A.sna+OR+content_type_ext%3A.tzx+OR+content_ffb%3A5a585461+OR+content_ffb%3A13000000&sort=crawl_date+asc&rows=2000&fl=url%2Ccontent_type_ext%2Ccontent_ffb%2Cwayback_date%2Ccrawl_date&wt=csv&indent=true&facet=true\""
     ],
     "language": "python",
     "metadata": {},
     "outputs": []
    },
    {
     "cell_type": "markdown",
     "metadata": {},
     "source": [
      "That server is not generally accessible, so the file has been cached locally.\n",
      "\n",
      "Now we take that list and build the Internet Archive URLs for each item, but prefixed by the URL of the screenshotter:"
     ]
    },
    {
     "cell_type": "code",
     "collapsed": false,
     "input": [
      "import csv\n",
      "\n",
      "urls = {}\n",
      "iaurls = {}\n",
      "with open('./spectral-imaging/spectrum_files.csv', 'r') as f:\n",
      "    reader = csv.reader(f)\n",
      "    # Skip the header line\n",
      "    next(reader)\n",
      "    # Build the URLs\n",
      "    for row in reader:\n",
      "        if row[1] != \".tzx\":\n",
      "            key = row[3]+row[1]\n",
      "            urls[key]  = \"http://www.webarchive.org.uk/interject/action/qaop/http://web.archive.org/web/\"+row[3]+\"/\"+row[0]\n",
      "            iaurls[key] = row[0]"
     ],
     "language": "python",
     "metadata": {},
     "outputs": [],
     "prompt_number": 71
    },
    {
     "cell_type": "code",
     "collapsed": false,
     "input": [
      "display(len(urls.keys()))"
     ],
     "language": "python",
     "metadata": {},
     "outputs": [
      {
       "metadata": {},
       "output_type": "display_data",
       "text": [
        "295"
       ]
      }
     ],
     "prompt_number": 68
    },
    {
     "cell_type": "markdown",
     "metadata": {},
     "source": [
      "Now we look over the items, and download them as screenshots (if we've not done so already)."
     ]
    },
    {
     "cell_type": "code",
     "collapsed": false,
     "input": [
      "import urllib.request\n",
      "from urllib.parse import urlparse\n",
      "import time\n",
      "import os\n",
      "\n",
      "with open('spectral-imaging/index.body.html', 'w') as f:\n",
      "    for key in urls.keys():\n",
      "        imgfile = key+\".png\"\n",
      "        outfile = \"spectral-imaging/\"+imgfile\n",
      "        display(outfile,urls[key])\n",
      "        if not os.path.exists(outfile):\n",
      "            urllib.request.urlretrieve(urls[key],outfile)\n",
      "            time.sleep(5)\n",
      "        # TODO Write out a.img tags to an index.html\n",
      "        lurl = iaurls[key]\n",
      "        filename = os.path.basename(urlparse(lurl).path)\n",
      "        f.write(\"<a href='http://www.webarchive.org.uk/interject/action/jsspeccy/http://web.archive.org/web/%s' title='%s'><img src='%s'/></a>\\n\" % ( lurl, filename, imgfile ) )\n",
      "        display(filename)\n",
      "    \n",
      "    f.close()\n",
      "    "
     ],
     "language": "python",
     "metadata": {},
     "outputs": [
      {
       "metadata": {},
       "output_type": "display_data",
       "text": [
        "'spectral-imaging/20010514025154.z80.png'"
       ]
      },
      {
       "metadata": {},
       "output_type": "display_data",
       "text": [
        "'http://www.webarchive.org.uk/interject/action/qaop/http://web.archive.org/web/20010514025154/http://web.ukonline.co.uk:80/listener/ripe/Earthshk.z80'"
       ]
      },
      {
       "metadata": {},
       "output_type": "display_data",
       "text": [
        "'Earthshk.z80'"
       ]
      },
      {
       "metadata": {},
       "output_type": "display_data",
       "text": [
        "'spectral-imaging/20030519205909.tap.png'"
       ]
      },
      {
       "metadata": {},
       "output_type": "display_data",
       "text": [
        "'http://www.webarchive.org.uk/interject/action/qaop/http://web.archive.org/web/20030519205909/http://www.bigblack.org.uk:80/spectrum/C/CASEYJON.TAP'"
       ]
      },
      {
       "metadata": {},
       "output_type": "display_data",
       "text": [
        "'CASEYJON.TAP'"
       ]
      },
      {
       "metadata": {},
       "output_type": "display_data",
       "text": [
        "'spectral-imaging/20010505151559.tap.png'"
       ]
      },
      {
       "metadata": {},
       "output_type": "display_data",
       "text": [
        "'http://www.webarchive.org.uk/interject/action/qaop/http://web.archive.org/web/20010505151559/http://www.wizards1.freeserve.co.uk:80/MATCHPOI.TAP'"
       ]
      },
      {
       "metadata": {},
       "output_type": "display_data",
       "text": [
        "'MATCHPOI.TAP'"
       ]
      },
      {
       "metadata": {},
       "output_type": "display_data",
       "text": [
        "'spectral-imaging/20020116190416.sna.png'"
       ]
      },
      {
       "metadata": {},
       "output_type": "display_data",
       "text": [
        "'http://www.webarchive.org.uk/interject/action/qaop/http://web.archive.org/web/20020116190416/http://www.autolaunch.freeserve.co.uk:80/buggy.sna'"
       ]
      },
      {
       "metadata": {},
       "output_type": "display_data",
       "text": [
        "'buggy.sna'"
       ]
      },
      {
       "metadata": {},
       "output_type": "display_data",
       "text": [
        "'spectral-imaging/19990220131905.z80.png'"
       ]
      },
      {
       "metadata": {},
       "output_type": "display_data",
       "text": [
        "'http://www.webarchive.org.uk/interject/action/qaop/http://web.archive.org/web/19990220131905/http://www.zenn.demon.co.uk:80/com/reviews/games/Lostcave.z80'"
       ]
      },
      {
       "metadata": {},
       "output_type": "display_data",
       "text": [
        "'Lostcave.z80'"
       ]
      },
      {
       "metadata": {},
       "output_type": "display_data",
       "text": [
        "'spectral-imaging/20030522133505.tap.png'"
       ]
      },
      {
       "metadata": {},
       "output_type": "display_data",
       "text": [
        "'http://www.webarchive.org.uk/interject/action/qaop/http://web.archive.org/web/20030522133505/http://www.bigblack.org.uk:80/spectrum/C/CIRC_GAM.TAP'"
       ]
      },
      {
       "metadata": {},
       "output_type": "display_data",
       "text": [
        "'CIRC_GAM.TAP'"
       ]
      },
      {
       "metadata": {},
       "output_type": "display_data",
       "text": [
        "'spectral-imaging/20030516171827.sna.png'"
       ]
      },
      {
       "metadata": {},
       "output_type": "display_data",
       "text": [
        "'http://www.webarchive.org.uk/interject/action/qaop/http://web.archive.org/web/20030516171827/http://www.bigblack.org.uk:80/spectrum/A/assasini.sna'"
       ]
      },
      {
       "metadata": {},
       "output_type": "display_data",
       "text": [
        "'assasini.sna'"
       ]
      },
      {
       "metadata": {},
       "output_type": "display_data",
       "text": [
        "'spectral-imaging/20020504212538.sna.png'"
       ]
      },
      {
       "metadata": {},
       "output_type": "display_data",
       "text": [
        "'http://www.webarchive.org.uk/interject/action/qaop/http://web.archive.org/web/20020504212538/http://www.bigfatpanda.fsnet.co.uk:80/code/poacher.sna'"
       ]
      },
      {
       "metadata": {},
       "output_type": "display_data",
       "text": [
        "'poacher.sna'"
       ]
      },
      {
       "metadata": {},
       "output_type": "display_data",
       "text": [
        "'spectral-imaging/20030521160345.z80.png'"
       ]
      },
      {
       "metadata": {},
       "output_type": "display_data",
       "text": [
        "'http://www.webarchive.org.uk/interject/action/qaop/http://web.archive.org/web/20030521160345/http://www.bigblack.org.uk:80/spectrum/C/CHOPRESC.Z80'"
       ]
      },
      {
       "metadata": {},
       "output_type": "display_data",
       "text": [
        "'CHOPRESC.Z80'"
       ]
      },
      {
       "metadata": {},
       "output_type": "display_data",
       "text": [
        "'spectral-imaging/20030522133055.sna.png'"
       ]
      },
      {
       "metadata": {},
       "output_type": "display_data",
       "text": [
        "'http://www.webarchive.org.uk/interject/action/qaop/http://web.archive.org/web/20030522133055/http://www.bigblack.org.uk:80/spectrum/C/CIRCLE.SNA'"
       ]
      },
      {
       "metadata": {},
       "output_type": "display_data",
       "text": [
        "'CIRCLE.SNA'"
       ]
      },
      {
       "metadata": {},
       "output_type": "display_data",
       "text": [
        "'spectral-imaging/20081120021908.z80.png'"
       ]
      },
      {
       "metadata": {},
       "output_type": "display_data",
       "text": [
        "'http://www.webarchive.org.uk/interject/action/qaop/http://web.archive.org/web/20081120021908/http://www.barbelith.co.uk/downloads/FlushGordon.z80'"
       ]
      },
      {
       "metadata": {},
       "output_type": "display_data",
       "text": [
        "'FlushGordon.z80'"
       ]
      },
      {
       "metadata": {},
       "output_type": "display_data",
       "text": [
        "'spectral-imaging/20030516171258.z80.png'"
       ]
      },
      {
       "metadata": {},
       "output_type": "display_data",
       "text": [
        "'http://www.webarchive.org.uk/interject/action/qaop/http://web.archive.org/web/20030516171258/http://www.bigblack.org.uk:80/spectrum/A/arena.z80'"
       ]
      },
      {
       "metadata": {},
       "output_type": "display_data",
       "text": [
        "'arena.z80'"
       ]
      },
      {
       "metadata": {},
       "output_type": "display_data",
       "text": [
        "'spectral-imaging/20030520211554.tap.png'"
       ]
      },
      {
       "metadata": {},
       "output_type": "display_data",
       "text": [
        "'http://www.webarchive.org.uk/interject/action/qaop/http://web.archive.org/web/20030520211554/http://www.bigblack.org.uk:80/spectrum/C/CHAMPDAR.TAP'"
       ]
      },
      {
       "metadata": {},
       "output_type": "display_data",
       "text": [
        "'CHAMPDAR.TAP'"
       ]
      },
      {
       "metadata": {},
       "output_type": "display_data",
       "text": [
        "'spectral-imaging/20030501173015.tap.png'"
       ]
      },
      {
       "metadata": {},
       "output_type": "display_data",
       "text": [
        "'http://www.webarchive.org.uk/interject/action/qaop/http://web.archive.org/web/20030501173015/http://www.bigblack.org.uk:80/spectrum/A/AGENTX2.TAP'"
       ]
      },
      {
       "metadata": {},
       "output_type": "display_data",
       "text": [
        "'AGENTX2.TAP'"
       ]
      },
      {
       "metadata": {},
       "output_type": "display_data",
       "text": [
        "'spectral-imaging/20030514171028.sna.png'"
       ]
      },
      {
       "metadata": {},
       "output_type": "display_data",
       "text": [
        "'http://www.webarchive.org.uk/interject/action/qaop/http://web.archive.org/web/20030514171028/http://www.bigblack.org.uk:80/spectrum/A/a_mole2.sna'"
       ]
      },
      {
       "metadata": {},
       "output_type": "display_data",
       "text": [
        "'a_mole2.sna'"
       ]
      },
      {
       "metadata": {},
       "output_type": "display_data",
       "text": [
        "'spectral-imaging/20030516170819.sna.png'"
       ]
      },
      {
       "metadata": {},
       "output_type": "display_data",
       "text": [
        "'http://www.webarchive.org.uk/interject/action/qaop/http://web.archive.org/web/20030516170819/http://www.bigblack.org.uk:80/spectrum/A/artstudio.sna'"
       ]
      },
      {
       "metadata": {},
       "output_type": "display_data",
       "text": [
        "'artstudio.sna'"
       ]
      },
      {
       "metadata": {},
       "output_type": "display_data",
       "text": [
        "'spectral-imaging/20030910005330.tap.png'"
       ]
      },
      {
       "metadata": {},
       "output_type": "display_data",
       "text": [
        "'http://www.webarchive.org.uk/interject/action/qaop/http://web.archive.org/web/20030910005330/http://www.ysrnry.co.uk:80/ys3/issue5/tape/smash03.tap'"
       ]
      },
      {
       "metadata": {},
       "output_type": "display_data",
       "text": [
        "'smash03.tap'"
       ]
      },
      {
       "metadata": {},
       "output_type": "display_data",
       "text": [
        "'spectral-imaging/20030521161649.z80.png'"
       ]
      },
      {
       "metadata": {},
       "output_type": "display_data",
       "text": [
        "'http://www.webarchive.org.uk/interject/action/qaop/http://web.archive.org/web/20030521161649/http://www.bigblack.org.uk:80/spectrum/C/CHEVYCHA.Z80'"
       ]
      },
      {
       "metadata": {},
       "output_type": "display_data",
       "text": [
        "'CHEVYCHA.Z80'"
       ]
      },
      {
       "metadata": {},
       "output_type": "display_data",
       "text": [
        "'spectral-imaging/20020720000104.tap.png'"
       ]
      },
      {
       "metadata": {},
       "output_type": "display_data",
       "text": [
        "'http://www.webarchive.org.uk/interject/action/qaop/http://web.archive.org/web/20020720000104/http://www.users.globalnet.co.uk:80/~jimg/type-ins/sincprog/awari.tap'"
       ]
      },
      {
       "metadata": {},
       "output_type": "display_data",
       "text": [
        "'awari.tap'"
       ]
      },
      {
       "metadata": {},
       "output_type": "display_data",
       "text": [
        "'spectral-imaging/20030517192530.sna.png'"
       ]
      },
      {
       "metadata": {},
       "output_type": "display_data",
       "text": [
        "'http://www.webarchive.org.uk/interject/action/qaop/http://web.archive.org/web/20030517192530/http://www.bigblack.org.uk:80/spectrum/A/astronom.sna'"
       ]
      },
      {
       "metadata": {},
       "output_type": "display_data",
       "text": [
        "'astronom.sna'"
       ]
      },
      {
       "metadata": {},
       "output_type": "display_data",
       "text": [
        "'spectral-imaging/19991023091528.z80.png'"
       ]
      },
      {
       "metadata": {},
       "output_type": "display_data",
       "text": [
        "'http://www.webarchive.org.uk/interject/action/qaop/http://web.archive.org/web/19991023091528/http://wkweb1.cableinet.co.uk:80/malkc/Rhs.z80'"
       ]
      },
      {
       "metadata": {},
       "output_type": "display_data",
       "text": [
        "'Rhs.z80'"
       ]
      },
      {
       "metadata": {},
       "output_type": "display_data",
       "text": [
        "'spectral-imaging/20060924023044.z80.png'"
       ]
      },
      {
       "metadata": {},
       "output_type": "display_data",
       "text": [
        "'http://www.webarchive.org.uk/interject/action/qaop/http://web.archive.org/web/20060924023044/http://www.wearmouth.demon.co.uk/jav/flags.z80'"
       ]
      },
      {
       "metadata": {},
       "output_type": "display_data",
       "text": [
        "'flags.z80'"
       ]
      },
      {
       "metadata": {},
       "output_type": "display_data",
       "text": [
        "'spectral-imaging/20020308181131.tap.png'"
       ]
      },
      {
       "metadata": {},
       "output_type": "display_data",
       "text": [
        "'http://www.webarchive.org.uk/interject/action/qaop/http://web.archive.org/web/20020308181131/http://www.users.globalnet.co.uk:80/~jimg/type-ins/sincuser/target.tap'"
       ]
      },
      {
       "metadata": {},
       "output_type": "display_data",
       "text": [
        "'target.tap'"
       ]
      },
      {
       "metadata": {},
       "output_type": "display_data",
       "text": [
        "'spectral-imaging/20031002210429.sna.png'"
       ]
      },
      {
       "metadata": {},
       "output_type": "display_data",
       "text": [
        "'http://www.webarchive.org.uk/interject/action/qaop/http://web.archive.org/web/20031002210429/http://www.autolaunch.freeserve.co.uk:80/boat_run.sna'"
       ]
      },
      {
       "metadata": {},
       "output_type": "display_data",
       "text": [
        "'boat_run.sna'"
       ]
      },
      {
       "metadata": {},
       "output_type": "display_data",
       "text": [
        "'spectral-imaging/20030515181605.z80.png'"
       ]
      },
      {
       "metadata": {},
       "output_type": "display_data",
       "text": [
        "'http://www.webarchive.org.uk/interject/action/qaop/http://web.archive.org/web/20030515181605/http://www.bigblack.org.uk:80/spectrum/A/amaur128.z80'"
       ]
      },
      {
       "metadata": {},
       "output_type": "display_data",
       "text": [
        "'amaur128.z80'"
       ]
      },
      {
       "metadata": {},
       "output_type": "display_data",
       "text": [
        "'spectral-imaging/20030514171459.sna.png'"
       ]
      },
      {
       "metadata": {},
       "output_type": "display_data",
       "text": [
        "'http://www.webarchive.org.uk/interject/action/qaop/http://web.archive.org/web/20030514171459/http://www.bigblack.org.uk:80/spectrum/A/advent_b.sna'"
       ]
      },
      {
       "metadata": {},
       "output_type": "display_data",
       "text": [
        "'advent_b.sna'"
       ]
      },
      {
       "metadata": {},
       "output_type": "display_data",
       "text": [
        "'spectral-imaging/20060924023005.z80.png'"
       ]
      },
      {
       "metadata": {},
       "output_type": "display_data",
       "text": [
        "'http://www.webarchive.org.uk/interject/action/qaop/http://web.archive.org/web/20060924023005/http://www.wearmouth.demon.co.uk/jav/pangolin.z80'"
       ]
      },
      {
       "metadata": {},
       "output_type": "display_data",
       "text": [
        "'pangolin.z80'"
       ]
      },
      {
       "metadata": {},
       "output_type": "display_data",
       "text": [
        "'spectral-imaging/20030516171259.z80.png'"
       ]
      },
      {
       "metadata": {},
       "output_type": "display_data",
       "text": [
        "'http://www.webarchive.org.uk/interject/action/qaop/http://web.archive.org/web/20030516171259/http://www.bigblack.org.uk:80/spectrum/A/arma128.z80'"
       ]
      },
      {
       "metadata": {},
       "output_type": "display_data",
       "text": [
        "'arma128.z80'"
       ]
      },
      {
       "metadata": {},
       "output_type": "display_data",
       "text": [
        "'spectral-imaging/20030522133713.z80.png'"
       ]
      },
      {
       "metadata": {},
       "output_type": "display_data",
       "text": [
        "'http://www.webarchive.org.uk/interject/action/qaop/http://web.archive.org/web/20030522133713/http://www.bigblack.org.uk:80/spectrum/C/CIRCUS.Z80'"
       ]
      },
      {
       "metadata": {},
       "output_type": "display_data",
       "text": [
        "'CIRCUS.Z80'"
       ]
      },
      {
       "metadata": {},
       "output_type": "display_data",
       "text": [
        "'spectral-imaging/20010515103617.sna.png'"
       ]
      },
      {
       "metadata": {},
       "output_type": "display_data",
       "text": [
        "'http://www.webarchive.org.uk/interject/action/qaop/http://web.archive.org/web/20010515103617/http://www.antsplace.co.uk:80/Knightlore.sna'"
       ]
      },
      {
       "metadata": {},
       "output_type": "display_data",
       "text": [
        "'Knightlore.sna'"
       ]
      },
      {
       "metadata": {},
       "output_type": "display_data",
       "text": [
        "'spectral-imaging/20030930192734.z80.png'"
       ]
      },
      {
       "metadata": {},
       "output_type": "display_data",
       "text": [
        "'http://www.webarchive.org.uk/interject/action/qaop/http://web.archive.org/web/20030930192734/http://web.ukonline.co.uk:80/listener/ripe/Jetpac.z80'"
       ]
      },
      {
       "metadata": {},
       "output_type": "display_data",
       "text": [
        "'Jetpac.z80'"
       ]
      },
      {
       "metadata": {},
       "output_type": "display_data",
       "text": [
        "'spectral-imaging/20030428220510.z80.png'"
       ]
      },
      {
       "metadata": {},
       "output_type": "display_data",
       "text": [
        "'http://www.webarchive.org.uk/interject/action/qaop/http://web.archive.org/web/20030428220510/http://www.bigblack.org.uk:80/spectrum/A/ADDER_.Z80'"
       ]
      },
      {
       "metadata": {},
       "output_type": "display_data",
       "text": [
        "'ADDER_.Z80'"
       ]
      },
      {
       "metadata": {},
       "output_type": "display_data",
       "text": [
        "'spectral-imaging/20030517193502.z80.png'"
       ]
      },
      {
       "metadata": {},
       "output_type": "display_data",
       "text": [
        "'http://www.webarchive.org.uk/interject/action/qaop/http://web.archive.org/web/20030517193502/http://www.bigblack.org.uk:80/spectrum/A/astronut.z80'"
       ]
      },
      {
       "metadata": {},
       "output_type": "display_data",
       "text": [
        "'astronut.z80'"
       ]
      },
      {
       "metadata": {},
       "output_type": "display_data",
       "text": [
        "'spectral-imaging/20010521014748.sna.png'"
       ]
      },
      {
       "metadata": {},
       "output_type": "display_data",
       "text": [
        "'http://www.webarchive.org.uk/interject/action/qaop/http://web.archive.org/web/20010521014748/http://www.antsplace.co.uk:80/WizardsLair.sna'"
       ]
      },
      {
       "metadata": {},
       "output_type": "display_data",
       "text": [
        "'WizardsLair.sna'"
       ]
      },
      {
       "metadata": {},
       "output_type": "display_data",
       "text": [
        "'spectral-imaging/19991023040810.z80.png'"
       ]
      },
      {
       "metadata": {},
       "output_type": "display_data",
       "text": [
        "'http://www.webarchive.org.uk/interject/action/qaop/http://web.archive.org/web/19991023040810/http://wkweb1.cableinet.co.uk:80/malkc/Dizzy3.z80'"
       ]
      },
      {
       "metadata": {},
       "output_type": "display_data",
       "text": [
        "'Dizzy3.z80'"
       ]
      },
      {
       "metadata": {},
       "output_type": "display_data",
       "text": [
        "'spectral-imaging/20060924023806.z80.png'"
       ]
      },
      {
       "metadata": {},
       "output_type": "display_data",
       "text": [
        "'http://www.webarchive.org.uk/interject/action/qaop/http://web.archive.org/web/20060924023806/http://www.wearmouth.demon.co.uk/gw03/qsort.z80'"
       ]
      },
      {
       "metadata": {},
       "output_type": "display_data",
       "text": [
        "'qsort.z80'"
       ]
      },
      {
       "metadata": {},
       "output_type": "display_data",
       "text": [
        "'spectral-imaging/20030428215853.z80.png'"
       ]
      },
      {
       "metadata": {},
       "output_type": "display_data",
       "text": [
        "'http://www.webarchive.org.uk/interject/action/qaop/http://web.archive.org/web/20030428215853/http://www.bigblack.org.uk:80/spectrum/A/AFARCE2.Z80'"
       ]
      },
      {
       "metadata": {},
       "output_type": "display_data",
       "text": [
        "'AFARCE2.Z80'"
       ]
      },
      {
       "metadata": {},
       "output_type": "display_data",
       "text": [
        "'spectral-imaging/19970729095255.z80.png'"
       ]
      },
      {
       "metadata": {},
       "output_type": "display_data",
       "text": [
        "'http://www.webarchive.org.uk/interject/action/qaop/http://web.archive.org/web/19970729095255/http://wkweb4.cableinet.co.uk:80/hodder/jetpac.z80'"
       ]
      },
      {
       "metadata": {},
       "output_type": "display_data",
       "text": [
        "'jetpac.z80'"
       ]
      },
      {
       "metadata": {},
       "output_type": "display_data",
       "text": [
        "'spectral-imaging/20031003085056.sna.png'"
       ]
      },
      {
       "metadata": {},
       "output_type": "display_data",
       "text": [
        "'http://www.webarchive.org.uk/interject/action/qaop/http://web.archive.org/web/20031003085056/http://www.autolaunch.freeserve.co.uk:80/buggy.sna'"
       ]
      },
      {
       "metadata": {},
       "output_type": "display_data",
       "text": [
        "'buggy.sna'"
       ]
      },
      {
       "metadata": {},
       "output_type": "display_data",
       "text": [
        "'spectral-imaging/20020803113235.sna.png'"
       ]
      },
      {
       "metadata": {},
       "output_type": "display_data",
       "text": [
        "'http://www.webarchive.org.uk/interject/action/qaop/http://web.archive.org/web/20020803113235/http://www.bigfatpanda.fsnet.co.uk:80/code/kemshu.sna'"
       ]
      },
      {
       "metadata": {},
       "output_type": "display_data",
       "text": [
        "'kemshu.sna'"
       ]
      },
      {
       "metadata": {},
       "output_type": "display_data",
       "text": [
        "'spectral-imaging/20030517201027.sna.png'"
       ]
      },
      {
       "metadata": {},
       "output_type": "display_data",
       "text": [
        "'http://www.webarchive.org.uk/interject/action/qaop/http://web.archive.org/web/20030517201027/http://www.bigblack.org.uk:80/spectrum/A/austerli.sna'"
       ]
      },
      {
       "metadata": {},
       "output_type": "display_data",
       "text": [
        "'austerli.sna'"
       ]
      },
      {
       "metadata": {},
       "output_type": "display_data",
       "text": [
        "'spectral-imaging/20030516171604.sna.png'"
       ]
      },
      {
       "metadata": {},
       "output_type": "display_data",
       "text": [
        "'http://www.webarchive.org.uk/interject/action/qaop/http://web.archive.org/web/20030516171604/http://www.bigblack.org.uk:80/spectrum/A/astro_m1.sna'"
       ]
      },
      {
       "metadata": {},
       "output_type": "display_data",
       "text": [
        "'astro_m1.sna'"
       ]
      },
      {
       "metadata": {},
       "output_type": "display_data",
       "text": [
        "'spectral-imaging/20040719031038.z80.png'"
       ]
      },
      {
       "metadata": {},
       "output_type": "display_data",
       "text": [
        "'http://www.webarchive.org.uk/interject/action/qaop/http://web.archive.org/web/20040719031038/http://www.aetherflux.co.uk:80/games/brucelee.z80'"
       ]
      },
      {
       "metadata": {},
       "output_type": "display_data",
       "text": [
        "'brucelee.z80'"
       ]
      },
      {
       "metadata": {},
       "output_type": "display_data",
       "text": [
        "'spectral-imaging/20030924000002.tap.png'"
       ]
      },
      {
       "metadata": {},
       "output_type": "display_data",
       "text": [
        "'http://www.webarchive.org.uk/interject/action/qaop/http://web.archive.org/web/20030924000002/http://www.ysrnry.co.uk:80/ys3/issue13/scrmap.tap'"
       ]
      },
      {
       "metadata": {},
       "output_type": "display_data",
       "text": [
        "'scrmap.tap'"
       ]
      },
      {
       "metadata": {},
       "output_type": "display_data",
       "text": [
        "'spectral-imaging/20030520210940.z80.png'"
       ]
      },
      {
       "metadata": {},
       "output_type": "display_data",
       "text": [
        "'http://www.webarchive.org.uk/interject/action/qaop/http://web.archive.org/web/20030520210940/http://www.bigblack.org.uk:80/spectrum/C/CHASEHQ.Z80'"
       ]
      },
      {
       "metadata": {},
       "output_type": "display_data",
       "text": [
        "'CHASEHQ.Z80'"
       ]
      },
      {
       "metadata": {},
       "output_type": "display_data",
       "text": [
        "'spectral-imaging/19970729095304.z80.png'"
       ]
      },
      {
       "metadata": {},
       "output_type": "display_data",
       "text": [
        "'http://www.webarchive.org.uk/interject/action/qaop/http://web.archive.org/web/19970729095304/http://wkweb4.cableinet.co.uk:80/hodder/jetset.z80'"
       ]
      },
      {
       "metadata": {},
       "output_type": "display_data",
       "text": [
        "'jetset.z80'"
       ]
      },
      {
       "metadata": {},
       "output_type": "display_data",
       "text": [
        "'spectral-imaging/20020207075625.sna.png'"
       ]
      },
      {
       "metadata": {},
       "output_type": "display_data",
       "text": [
        "'http://www.webarchive.org.uk/interject/action/qaop/http://web.archive.org/web/20020207075625/http://www.bigfatpanda.fsnet.co.uk:80/code/kemshu.sna'"
       ]
      },
      {
       "metadata": {},
       "output_type": "display_data",
       "text": [
        "'kemshu.sna'"
       ]
      },
      {
       "metadata": {},
       "output_type": "display_data",
       "text": [
        "'spectral-imaging/20020325055049.tap.png'"
       ]
      },
      {
       "metadata": {},
       "output_type": "display_data",
       "text": [
        "'http://www.webarchive.org.uk/interject/action/qaop/http://web.archive.org/web/20020325055049/http://www.ysrnry.co.uk:80/ys3/issue5/tape/smash03.tap'"
       ]
      },
      {
       "metadata": {},
       "output_type": "display_data",
       "text": [
        "'smash03.tap'"
       ]
      },
      {
       "metadata": {},
       "output_type": "display_data",
       "text": [
        "'spectral-imaging/20031007210454.sna.png'"
       ]
      },
      {
       "metadata": {},
       "output_type": "display_data",
       "text": [
        "'http://www.webarchive.org.uk/interject/action/qaop/http://web.archive.org/web/20031007210454/http://www.bandstash.co.uk:80/jetsetgaming/JSWdemons.sna'"
       ]
      },
      {
       "metadata": {},
       "output_type": "display_data",
       "text": [
        "'JSWdemons.sna'"
       ]
      },
      {
       "metadata": {},
       "output_type": "display_data",
       "text": [
        "'spectral-imaging/20030521161620.tap.png'"
       ]
      },
      {
       "metadata": {},
       "output_type": "display_data",
       "text": [
        "'http://www.webarchive.org.uk/interject/action/qaop/http://web.archive.org/web/20030521161620/http://www.bigblack.org.uk:80/spectrum/C/CHICAGO.TAP'"
       ]
      },
      {
       "metadata": {},
       "output_type": "display_data",
       "text": [
        "'CHICAGO.TAP'"
       ]
      },
      {
       "metadata": {},
       "output_type": "display_data",
       "text": [
        "'spectral-imaging/20030518210741.tap.png'"
       ]
      },
      {
       "metadata": {},
       "output_type": "display_data",
       "text": [
        "'http://www.webarchive.org.uk/interject/action/qaop/http://web.archive.org/web/20030518210741/http://www.bigblack.org.uk:80/spectrum/C/CAPTFIZZ.TAP'"
       ]
      },
      {
       "metadata": {},
       "output_type": "display_data",
       "text": [
        "'CAPTFIZZ.TAP'"
       ]
      },
      {
       "metadata": {},
       "output_type": "display_data",
       "text": [
        "'spectral-imaging/20030321230900.tap.png'"
       ]
      },
      {
       "metadata": {},
       "output_type": "display_data",
       "text": [
        "'http://www.webarchive.org.uk/interject/action/qaop/http://web.archive.org/web/20030321230900/http://www.users.globalnet.co.uk:80/~jimg/type-ins/sincprog/contour.tap'"
       ]
      },
      {
       "metadata": {},
       "output_type": "display_data",
       "text": [
        "'contour.tap'"
       ]
      },
      {
       "metadata": {},
       "output_type": "display_data",
       "text": [
        "'spectral-imaging/20030515181517.z80.png'"
       ]
      },
      {
       "metadata": {},
       "output_type": "display_data",
       "text": [
        "'http://www.webarchive.org.uk/interject/action/qaop/http://web.archive.org/web/20030515181517/http://www.bigblack.org.uk:80/spectrum/A/alpharai.z80'"
       ]
      },
      {
       "metadata": {},
       "output_type": "display_data",
       "text": [
        "'alpharai.z80'"
       ]
      },
      {
       "metadata": {},
       "output_type": "display_data",
       "text": [
        "'spectral-imaging/20020128070614.tap.png'"
       ]
      },
      {
       "metadata": {},
       "output_type": "display_data",
       "text": [
        "'http://www.webarchive.org.uk/interject/action/qaop/http://web.archive.org/web/20020128070614/http://www.users.globalnet.co.uk:80/~jimg/type-ins/sincuser/solitair.tap'"
       ]
      },
      {
       "metadata": {},
       "output_type": "display_data",
       "text": [
        "'solitair.tap'"
       ]
      },
      {
       "metadata": {},
       "output_type": "display_data",
       "text": [
        "'spectral-imaging/20030311212148.sna.png'"
       ]
      },
      {
       "metadata": {},
       "output_type": "display_data",
       "text": [
        "'http://www.webarchive.org.uk/interject/action/qaop/http://web.archive.org/web/20030311212148/http://www.autolaunch.freeserve.co.uk:80/buggy.sna'"
       ]
      },
      {
       "metadata": {},
       "output_type": "display_data",
       "text": [
        "'buggy.sna'"
       ]
      },
      {
       "metadata": {},
       "output_type": "display_data",
       "text": [
        "'spectral-imaging/20010515104336.z80.png'"
       ]
      },
      {
       "metadata": {},
       "output_type": "display_data",
       "text": [
        "'http://www.webarchive.org.uk/interject/action/qaop/http://web.archive.org/web/20010515104336/http://www.antsplace.co.uk:80/MONTY.Z80'"
       ]
      },
      {
       "metadata": {},
       "output_type": "display_data",
       "text": [
        "'MONTY.Z80'"
       ]
      },
      {
       "metadata": {},
       "output_type": "display_data",
       "text": [
        "'spectral-imaging/20030518210551.sna.png'"
       ]
      },
      {
       "metadata": {},
       "output_type": "display_data",
       "text": [
        "'http://www.webarchive.org.uk/interject/action/qaop/http://web.archive.org/web/20030518210551/http://www.bigblack.org.uk:80/spectrum/C/CANY_WAR.SNA'"
       ]
      },
      {
       "metadata": {},
       "output_type": "display_data",
       "text": [
        "'CANY_WAR.SNA'"
       ]
      },
      {
       "metadata": {},
       "output_type": "display_data",
       "text": [
        "'spectral-imaging/20030517201355.z80.png'"
       ]
      },
      {
       "metadata": {},
       "output_type": "display_data",
       "text": [
        "'http://www.webarchive.org.uk/interject/action/qaop/http://web.archive.org/web/20030517201355/http://www.bigblack.org.uk:80/spectrum/C/CAD.Z80'"
       ]
      },
      {
       "metadata": {},
       "output_type": "display_data",
       "text": [
        "'CAD.Z80'"
       ]
      },
      {
       "metadata": {},
       "output_type": "display_data",
       "text": [
        "'spectral-imaging/20030517201216.sna.png'"
       ]
      },
      {
       "metadata": {},
       "output_type": "display_data",
       "text": [
        "'http://www.webarchive.org.uk/interject/action/qaop/http://web.archive.org/web/20030517201216/http://www.bigblack.org.uk:80/spectrum/C/CAESARTC.SNA'"
       ]
      },
      {
       "metadata": {},
       "output_type": "display_data",
       "text": [
        "'CAESARTC.SNA'"
       ]
      },
      {
       "metadata": {},
       "output_type": "display_data",
       "text": [
        "'spectral-imaging/20030428214843.z80.png'"
       ]
      },
      {
       "metadata": {},
       "output_type": "display_data",
       "text": [
        "'http://www.webarchive.org.uk/interject/action/qaop/http://web.archive.org/web/20030428214843/http://www.bigblack.org.uk:80/spectrum/A/ADIDASCF.Z80'"
       ]
      },
      {
       "metadata": {},
       "output_type": "display_data",
       "text": [
        "'ADIDASCF.Z80'"
       ]
      },
      {
       "metadata": {},
       "output_type": "display_data",
       "text": [
        "'spectral-imaging/20030519205025.z80.png'"
       ]
      },
      {
       "metadata": {},
       "output_type": "display_data",
       "text": [
        "'http://www.webarchive.org.uk/interject/action/qaop/http://web.archive.org/web/20030519205025/http://www.bigblack.org.uk:80/spectrum/C/CAULDRO2.Z80'"
       ]
      },
      {
       "metadata": {},
       "output_type": "display_data",
       "text": [
        "'CAULDRO2.Z80'"
       ]
      },
      {
       "metadata": {},
       "output_type": "display_data",
       "text": [
        "'spectral-imaging/20041120203958.tap.png'"
       ]
      },
      {
       "metadata": {},
       "output_type": "display_data",
       "text": [
        "'http://www.webarchive.org.uk/interject/action/qaop/http://web.archive.org/web/20041120203958/http://www.ysrnry.co.uk:80/ys3/issue13/smash.tap'"
       ]
      },
      {
       "metadata": {},
       "output_type": "display_data",
       "text": [
        "'smash.tap'"
       ]
      },
      {
       "metadata": {},
       "output_type": "display_data",
       "text": [
        "'spectral-imaging/20030504021919.tap.png'"
       ]
      },
      {
       "metadata": {},
       "output_type": "display_data",
       "text": [
        "'http://www.webarchive.org.uk/interject/action/qaop/http://web.archive.org/web/20030504021919/http://www.bigblack.org.uk:80/spectrum/A/ALIEN8.TAP'"
       ]
      },
      {
       "metadata": {},
       "output_type": "display_data",
       "text": [
        "'ALIEN8.TAP'"
       ]
      },
      {
       "metadata": {},
       "output_type": "display_data",
       "text": [
        "'spectral-imaging/20030504022717.tap.png'"
       ]
      },
      {
       "metadata": {},
       "output_type": "display_data",
       "text": [
        "'http://www.webarchive.org.uk/interject/action/qaop/http://web.archive.org/web/20030504022717/http://www.bigblack.org.uk:80/spectrum/A/ALCATRA2.TAP'"
       ]
      },
      {
       "metadata": {},
       "output_type": "display_data",
       "text": [
        "'ALCATRA2.TAP'"
       ]
      },
      {
       "metadata": {},
       "output_type": "display_data",
       "text": [
        "'spectral-imaging/20030318004805.tap.png'"
       ]
      },
      {
       "metadata": {},
       "output_type": "display_data",
       "text": [
        "'http://www.webarchive.org.uk/interject/action/qaop/http://web.archive.org/web/20030318004805/http://www.users.globalnet.co.uk:80/~jimg/type-ins/zx-comp/centi.tap'"
       ]
      },
      {
       "metadata": {},
       "output_type": "display_data",
       "text": [
        "'centi.tap'"
       ]
      },
      {
       "metadata": {},
       "output_type": "display_data",
       "text": [
        "'spectral-imaging/20030507212323.z80.png'"
       ]
      },
      {
       "metadata": {},
       "output_type": "display_data",
       "text": [
        "'http://www.webarchive.org.uk/interject/action/qaop/http://web.archive.org/web/20030507212323/http://www.bigblack.org.uk:80/spectrum/A/ANTATTA.Z80'"
       ]
      },
      {
       "metadata": {},
       "output_type": "display_data",
       "text": [
        "'ANTATTA.Z80'"
       ]
      },
      {
       "metadata": {},
       "output_type": "display_data",
       "text": [
        "'spectral-imaging/20051115184350.tap.png'"
       ]
      },
      {
       "metadata": {},
       "output_type": "display_data",
       "text": [
        "'http://www.webarchive.org.uk/interject/action/qaop/http://web.archive.org/web/20051115184350/http://www.users.globalnet.co.uk:80/~jg27paw4/type-ins/yourcomp/specross.tap'"
       ]
      },
      {
       "metadata": {},
       "output_type": "display_data",
       "text": [
        "'specross.tap'"
       ]
      },
      {
       "metadata": {},
       "output_type": "display_data",
       "text": [
        "'spectral-imaging/19991114114525.z80.png'"
       ]
      },
      {
       "metadata": {},
       "output_type": "display_data",
       "text": [
        "'http://www.webarchive.org.uk/interject/action/qaop/http://web.archive.org/web/19991114114525/http://www.zenn.demon.co.uk:80/com/reviews/games/Lostcave.z80'"
       ]
      },
      {
       "metadata": {},
       "output_type": "display_data",
       "text": [
        "'Lostcave.z80'"
       ]
      },
      {
       "metadata": {},
       "output_type": "display_data",
       "text": [
        "'spectral-imaging/20020308130602.tap.png'"
       ]
      },
      {
       "metadata": {},
       "output_type": "display_data",
       "text": [
        "'http://www.webarchive.org.uk/interject/action/qaop/http://web.archive.org/web/20020308130602/http://www.users.globalnet.co.uk:80/~jimg/type-ins/sincprog/forcefie.tap'"
       ]
      },
      {
       "metadata": {},
       "output_type": "display_data",
       "text": [
        "'forcefie.tap'"
       ]
      },
      {
       "metadata": {},
       "output_type": "display_data",
       "text": [
        "'spectral-imaging/20030521161355.tap.png'"
       ]
      },
      {
       "metadata": {},
       "output_type": "display_data",
       "text": [
        "'http://www.webarchive.org.uk/interject/action/qaop/http://web.archive.org/web/20030521161355/http://www.bigblack.org.uk:80/spectrum/C/CHIRON.TAP'"
       ]
      },
      {
       "metadata": {},
       "output_type": "display_data",
       "text": [
        "'CHIRON.TAP'"
       ]
      },
      {
       "metadata": {},
       "output_type": "display_data",
       "text": [
        "'spectral-imaging/20030515181803.z80.png'"
       ]
      },
      {
       "metadata": {},
       "output_type": "display_data",
       "text": [
        "'http://www.webarchive.org.uk/interject/action/qaop/http://web.archive.org/web/20030515181803/http://www.bigblack.org.uk:80/spectrum/A/alien.z80'"
       ]
      },
      {
       "metadata": {},
       "output_type": "display_data",
       "text": [
        "'alien.z80'"
       ]
      },
      {
       "metadata": {},
       "output_type": "display_data",
       "text": [
        "'spectral-imaging/20030516165926.z80.png'"
       ]
      },
      {
       "metadata": {},
       "output_type": "display_data",
       "text": [
        "'http://www.webarchive.org.uk/interject/action/qaop/http://web.archive.org/web/20030516165926/http://www.bigblack.org.uk:80/spectrum/A/armym1.z80'"
       ]
      },
      {
       "metadata": {},
       "output_type": "display_data",
       "text": [
        "'armym1.z80'"
       ]
      },
      {
       "metadata": {},
       "output_type": "display_data",
       "text": [
        "'spectral-imaging/20030204221115.z80.png'"
       ]
      },
      {
       "metadata": {},
       "output_type": "display_data",
       "text": [
        "'http://www.webarchive.org.uk/interject/action/qaop/http://web.archive.org/web/20030204221115/http://www.bandstash.co.uk:80/jetsetgaming/JSM.Z80'"
       ]
      },
      {
       "metadata": {},
       "output_type": "display_data",
       "text": [
        "'JSM.Z80'"
       ]
      },
      {
       "metadata": {},
       "output_type": "display_data",
       "text": [
        "'spectral-imaging/20030507213915.sna.png'"
       ]
      },
      {
       "metadata": {},
       "output_type": "display_data",
       "text": [
        "'http://www.webarchive.org.uk/interject/action/qaop/http://web.archive.org/web/20030507213915/http://www.bigblack.org.uk:80/spectrum/A/ANTIRIAD.SNA'"
       ]
      },
      {
       "metadata": {},
       "output_type": "display_data",
       "text": [
        "'ANTIRIAD.SNA'"
       ]
      },
      {
       "metadata": {},
       "output_type": "display_data",
       "text": [
        "'spectral-imaging/20030522134530.tap.png'"
       ]
      },
      {
       "metadata": {},
       "output_type": "display_data",
       "text": [
        "'http://www.webarchive.org.uk/interject/action/qaop/http://web.archive.org/web/20030522134530/http://www.bigblack.org.uk:80/spectrum/C/CKDEMO.TAP'"
       ]
      },
      {
       "metadata": {},
       "output_type": "display_data",
       "text": [
        "'CKDEMO.TAP'"
       ]
      },
      {
       "metadata": {},
       "output_type": "display_data",
       "text": [
        "'spectral-imaging/20030518210301.z80.png'"
       ]
      },
      {
       "metadata": {},
       "output_type": "display_data",
       "text": [
        "'http://www.webarchive.org.uk/interject/action/qaop/http://web.archive.org/web/20030518210301/http://www.bigblack.org.uk:80/spectrum/C/CANNONBA.Z80'"
       ]
      },
      {
       "metadata": {},
       "output_type": "display_data",
       "text": [
        "'CANNONBA.Z80'"
       ]
      },
      {
       "metadata": {},
       "output_type": "display_data",
       "text": [
        "'spectral-imaging/20020806015421.sna.png'"
       ]
      },
      {
       "metadata": {},
       "output_type": "display_data",
       "text": [
        "'http://www.webarchive.org.uk/interject/action/qaop/http://web.archive.org/web/20020806015421/http://www.autolaunch.freeserve.co.uk:80/boat_run.sna'"
       ]
      },
      {
       "metadata": {},
       "output_type": "display_data",
       "text": [
        "'boat_run.sna'"
       ]
      },
      {
       "metadata": {},
       "output_type": "display_data",
       "text": [
        "'spectral-imaging/20030428215504.z80.png'"
       ]
      },
      {
       "metadata": {},
       "output_type": "display_data",
       "text": [
        "'http://www.webarchive.org.uk/interject/action/qaop/http://web.archive.org/web/20030428215504/http://www.bigblack.org.uk:80/spectrum/A/ADVNTLND.Z80'"
       ]
      },
      {
       "metadata": {},
       "output_type": "display_data",
       "text": [
        "'ADVNTLND.Z80'"
       ]
      },
      {
       "metadata": {},
       "output_type": "display_data",
       "text": [
        "'spectral-imaging/20030516165752.sna.png'"
       ]
      },
      {
       "metadata": {},
       "output_type": "display_data",
       "text": [
        "'http://www.webarchive.org.uk/interject/action/qaop/http://web.archive.org/web/20030516165752/http://www.bigblack.org.uk:80/spectrum/A/astro_m2.sna'"
       ]
      },
      {
       "metadata": {},
       "output_type": "display_data",
       "text": [
        "'astro_m2.sna'"
       ]
      },
      {
       "metadata": {},
       "output_type": "display_data",
       "text": [
        "'spectral-imaging/20020325151210.z80.png'"
       ]
      },
      {
       "metadata": {},
       "output_type": "display_data",
       "text": [
        "'http://www.webarchive.org.uk/interject/action/qaop/http://web.archive.org/web/20020325151210/http://www.zenn.demon.co.uk:80/com/reviews/games/Cj.z80'"
       ]
      },
      {
       "metadata": {},
       "output_type": "display_data",
       "text": [
        "'Cj.z80'"
       ]
      },
      {
       "metadata": {},
       "output_type": "display_data",
       "text": [
        "'spectral-imaging/20010426172946.z80.png'"
       ]
      },
      {
       "metadata": {},
       "output_type": "display_data",
       "text": [
        "'http://www.webarchive.org.uk/interject/action/qaop/http://web.archive.org/web/20010426172946/http://www.zenn.demon.co.uk:80/com/reviews/games/Cj.z80'"
       ]
      },
      {
       "metadata": {},
       "output_type": "display_data",
       "text": [
        "'Cj.z80'"
       ]
      },
      {
       "metadata": {},
       "output_type": "display_data",
       "text": [
        "'spectral-imaging/20020203140340.sna.png'"
       ]
      },
      {
       "metadata": {},
       "output_type": "display_data",
       "text": [
        "'http://www.webarchive.org.uk/interject/action/qaop/http://web.archive.org/web/20020203140340/http://www.thewebshite5.fslife.co.uk:80/daley-d1.sna'"
       ]
      },
      {
       "metadata": {},
       "output_type": "display_data",
       "text": [
        "'daley-d1.sna'"
       ]
      },
      {
       "metadata": {},
       "output_type": "display_data",
       "text": [
        "'spectral-imaging/20030910005912.tap.png'"
       ]
      },
      {
       "metadata": {},
       "output_type": "display_data",
       "text": [
        "'http://www.webarchive.org.uk/interject/action/qaop/http://web.archive.org/web/20030910005912/http://www.ysrnry.co.uk:80/ys3/issue6/tape/smash04.tap'"
       ]
      },
      {
       "metadata": {},
       "output_type": "display_data",
       "text": [
        "'smash04.tap'"
       ]
      },
      {
       "metadata": {},
       "output_type": "display_data",
       "text": [
        "'spectral-imaging/20020126134150.tap.png'"
       ]
      },
      {
       "metadata": {},
       "output_type": "display_data",
       "text": [
        "'http://www.webarchive.org.uk/interject/action/qaop/http://web.archive.org/web/20020126134150/http://www.users.globalnet.co.uk:80/~jimg/type-ins/sincuser/eye.tap'"
       ]
      },
      {
       "metadata": {},
       "output_type": "display_data",
       "text": [
        "'eye.tap'"
       ]
      },
      {
       "metadata": {},
       "output_type": "display_data",
       "text": [
        "'spectral-imaging/20050114183218.tap.png'"
       ]
      },
      {
       "metadata": {},
       "output_type": "display_data",
       "text": [
        "'http://www.webarchive.org.uk/interject/action/qaop/http://web.archive.org/web/20050114183218/http://www.ysrnry.co.uk:80/ys3/issue6/tape/smash04.tap'"
       ]
      },
      {
       "metadata": {},
       "output_type": "display_data",
       "text": [
        "'smash04.tap'"
       ]
      },
      {
       "metadata": {},
       "output_type": "display_data",
       "text": [
        "'spectral-imaging/20030514171248.sna.png'"
       ]
      },
      {
       "metadata": {},
       "output_type": "display_data",
       "text": [
        "'http://www.webarchive.org.uk/interject/action/qaop/http://web.archive.org/web/20030514171248/http://www.bigblack.org.uk:80/spectrum/A/A_TEAM2.SNA'"
       ]
      },
      {
       "metadata": {},
       "output_type": "display_data",
       "text": [
        "'A_TEAM2.SNA'"
       ]
      },
      {
       "metadata": {},
       "output_type": "display_data",
       "text": [
        "'spectral-imaging/20020115142108.sna.png'"
       ]
      },
      {
       "metadata": {},
       "output_type": "display_data",
       "text": [
        "'http://www.webarchive.org.uk/interject/action/qaop/http://web.archive.org/web/20020115142108/http://www.autolaunch.freeserve.co.uk:80/boat_run.sna'"
       ]
      },
      {
       "metadata": {},
       "output_type": "display_data",
       "text": [
        "'boat_run.sna'"
       ]
      },
      {
       "metadata": {},
       "output_type": "display_data",
       "text": [
        "'spectral-imaging/20030517201051.sna.png'"
       ]
      },
      {
       "metadata": {},
       "output_type": "display_data",
       "text": [
        "'http://www.webarchive.org.uk/interject/action/qaop/http://web.archive.org/web/20030517201051/http://www.bigblack.org.uk:80/spectrum/A/atf.sna'"
       ]
      },
      {
       "metadata": {},
       "output_type": "display_data",
       "text": [
        "'atf.sna'"
       ]
      },
      {
       "metadata": {},
       "output_type": "display_data",
       "text": [
        "'spectral-imaging/20040321021526.z80.png'"
       ]
      },
      {
       "metadata": {},
       "output_type": "display_data",
       "text": [
        "'http://www.webarchive.org.uk/interject/action/qaop/http://web.archive.org/web/20040321021526/http://www.aetherflux.co.uk:80/games/brucelee.z80'"
       ]
      },
      {
       "metadata": {},
       "output_type": "display_data",
       "text": [
        "'brucelee.z80'"
       ]
      },
      {
       "metadata": {},
       "output_type": "display_data",
       "text": [
        "'spectral-imaging/20030501171643.z80.png'"
       ]
      },
      {
       "metadata": {},
       "output_type": "display_data",
       "text": [
        "'http://www.webarchive.org.uk/interject/action/qaop/http://web.archive.org/web/20030501171643/http://www.bigblack.org.uk:80/spectrum/A/AIRWOLF2.Z80'"
       ]
      },
      {
       "metadata": {},
       "output_type": "display_data",
       "text": [
        "'AIRWOLF2.Z80'"
       ]
      },
      {
       "metadata": {},
       "output_type": "display_data",
       "text": [
        "'spectral-imaging/20030515181009.z80.png'"
       ]
      },
      {
       "metadata": {},
       "output_type": "display_data",
       "text": [
        "'http://www.webarchive.org.uk/interject/action/qaop/http://web.archive.org/web/20030515181009/http://www.bigblack.org.uk:80/spectrum/A/amahd.z80'"
       ]
      },
      {
       "metadata": {},
       "output_type": "display_data",
       "text": [
        "'amahd.z80'"
       ]
      },
      {
       "metadata": {},
       "output_type": "display_data",
       "text": [
        "'spectral-imaging/20030501171423.z80.png'"
       ]
      },
      {
       "metadata": {},
       "output_type": "display_data",
       "text": [
        "'http://www.webarchive.org.uk/interject/action/qaop/http://web.archive.org/web/20030501171423/http://www.bigblack.org.uk:80/spectrum/A/AFTERMAT.Z80'"
       ]
      },
      {
       "metadata": {},
       "output_type": "display_data",
       "text": [
        "'AFTERMAT.Z80'"
       ]
      },
      {
       "metadata": {},
       "output_type": "display_data",
       "text": [
        "'spectral-imaging/20060924021809.z80.png'"
       ]
      },
      {
       "metadata": {},
       "output_type": "display_data",
       "text": [
        "'http://www.webarchive.org.uk/interject/action/qaop/http://web.archive.org/web/20060924021809/http://www.wearmouth.demon.co.uk/jav/util1.z80'"
       ]
      },
      {
       "metadata": {},
       "output_type": "display_data",
       "text": [
        "'util1.z80'"
       ]
      },
      {
       "metadata": {},
       "output_type": "display_data",
       "text": [
        "'spectral-imaging/20030519205125.z80.png'"
       ]
      },
      {
       "metadata": {},
       "output_type": "display_data",
       "text": [
        "'http://www.webarchive.org.uk/interject/action/qaop/http://web.archive.org/web/20030519205125/http://www.bigblack.org.uk:80/spectrum/C/CASTCOLD.Z80'"
       ]
      },
      {
       "metadata": {},
       "output_type": "display_data",
       "text": [
        "'CASTCOLD.Z80'"
       ]
      },
      {
       "metadata": {},
       "output_type": "display_data",
       "text": [
        "'spectral-imaging/20030507213846.tap.png'"
       ]
      },
      {
       "metadata": {},
       "output_type": "display_data",
       "text": [
        "'http://www.webarchive.org.uk/interject/action/qaop/http://web.archive.org/web/20030507213846/http://www.bigblack.org.uk:80/spectrum/A/ANDROMED.TAP'"
       ]
      },
      {
       "metadata": {},
       "output_type": "display_data",
       "text": [
        "'ANDROMED.TAP'"
       ]
      },
      {
       "metadata": {},
       "output_type": "display_data",
       "text": [
        "'spectral-imaging/19991023073501.z80.png'"
       ]
      },
      {
       "metadata": {},
       "output_type": "display_data",
       "text": [
        "'http://www.webarchive.org.uk/interject/action/qaop/http://web.archive.org/web/19991023073501/http://wkweb1.cableinet.co.uk:80/malkc/Pssst.z80'"
       ]
      },
      {
       "metadata": {},
       "output_type": "display_data",
       "text": [
        "'Pssst.z80'"
       ]
      },
      {
       "metadata": {},
       "output_type": "display_data",
       "text": [
        "'spectral-imaging/19991001051504.tap.png'"
       ]
      },
      {
       "metadata": {},
       "output_type": "display_data",
       "text": [
        "'http://www.webarchive.org.uk/interject/action/qaop/http://web.archive.org/web/19991001051504/http://wkweb1.cableinet.co.uk:80/malkc/Wheelie.tap'"
       ]
      },
      {
       "metadata": {},
       "output_type": "display_data",
       "text": [
        "'Wheelie.tap'"
       ]
      },
      {
       "metadata": {},
       "output_type": "display_data",
       "text": [
        "'spectral-imaging/20040429032045.sna.png'"
       ]
      },
      {
       "metadata": {},
       "output_type": "display_data",
       "text": [
        "'http://www.webarchive.org.uk/interject/action/qaop/http://web.archive.org/web/20040429032045/http://www.woodcock88.freeserve.co.uk:80/BLINK.sna'"
       ]
      },
      {
       "metadata": {},
       "output_type": "display_data",
       "text": [
        "'BLINK.sna'"
       ]
      },
      {
       "metadata": {},
       "output_type": "display_data",
       "text": [
        "'spectral-imaging/20030507213145.tap.png'"
       ]
      },
      {
       "metadata": {},
       "output_type": "display_data",
       "text": [
        "'http://www.webarchive.org.uk/interject/action/qaop/http://web.archive.org/web/20030507213145/http://www.bigblack.org.uk:80/spectrum/A/ANGEL_CC.TAP'"
       ]
      },
      {
       "metadata": {},
       "output_type": "display_data",
       "text": [
        "'ANGEL_CC.TAP'"
       ]
      },
      {
       "metadata": {},
       "output_type": "display_data",
       "text": [
        "'spectral-imaging/20020404223028.sna.png'"
       ]
      },
      {
       "metadata": {},
       "output_type": "display_data",
       "text": [
        "'http://www.webarchive.org.uk/interject/action/qaop/http://web.archive.org/web/20020404223028/http://www.thewebshite.fslife.co.uk:80/FEUD.SNA'"
       ]
      },
      {
       "metadata": {},
       "output_type": "display_data",
       "text": [
        "'FEUD.SNA'"
       ]
      },
      {
       "metadata": {},
       "output_type": "display_data",
       "text": [
        "'spectral-imaging/20010510212732.sna.png'"
       ]
      },
      {
       "metadata": {},
       "output_type": "display_data",
       "text": [
        "'http://www.webarchive.org.uk/interject/action/qaop/http://web.archive.org/web/20010510212732/http://www.antsplace.co.uk:80/ATICATAC.SNA'"
       ]
      },
      {
       "metadata": {},
       "output_type": "display_data",
       "text": [
        "'ATICATAC.SNA'"
       ]
      },
      {
       "metadata": {},
       "output_type": "display_data",
       "text": [
        "'spectral-imaging/20030516215014.tap.png'"
       ]
      },
      {
       "metadata": {},
       "output_type": "display_data",
       "text": [
        "'http://www.webarchive.org.uk/interject/action/qaop/http://web.archive.org/web/20030516215014/http://www.ysrnry.co.uk:80/ys3/issue13/smash.tap'"
       ]
      },
      {
       "metadata": {},
       "output_type": "display_data",
       "text": [
        "'smash.tap'"
       ]
      },
      {
       "metadata": {},
       "output_type": "display_data",
       "text": [
        "'spectral-imaging/20020308131403.tap.png'"
       ]
      },
      {
       "metadata": {},
       "output_type": "display_data",
       "text": [
        "'http://www.webarchive.org.uk/interject/action/qaop/http://web.archive.org/web/20020308131403/http://www.users.globalnet.co.uk:80/~jimg/type-ins/sincprog/spirodra.tap'"
       ]
      },
      {
       "metadata": {},
       "output_type": "display_data",
       "text": [
        "'spirodra.tap'"
       ]
      },
      {
       "metadata": {},
       "output_type": "display_data",
       "text": [
        "'spectral-imaging/20020722131002.tap.png'"
       ]
      },
      {
       "metadata": {},
       "output_type": "display_data",
       "text": [
        "'http://www.webarchive.org.uk/interject/action/qaop/http://web.archive.org/web/20020722131002/http://www.users.globalnet.co.uk:80/~jimg/type-ins/sincuser/laser.tap'"
       ]
      },
      {
       "metadata": {},
       "output_type": "display_data",
       "text": [
        "'laser.tap'"
       ]
      },
      {
       "metadata": {},
       "output_type": "display_data",
       "text": [
        "'spectral-imaging/20030501170020.z80.png'"
       ]
      },
      {
       "metadata": {},
       "output_type": "display_data",
       "text": [
        "'http://www.webarchive.org.uk/interject/action/qaop/http://web.archive.org/web/20030501170020/http://www.bigblack.org.uk:80/spectrum/A/AGENTX23.Z80'"
       ]
      },
      {
       "metadata": {},
       "output_type": "display_data",
       "text": [
        "'AGENTX23.Z80'"
       ]
      },
      {
       "metadata": {},
       "output_type": "display_data",
       "text": [
        "'spectral-imaging/20030514170431.sna.png'"
       ]
      },
      {
       "metadata": {},
       "output_type": "display_data",
       "text": [
        "'http://www.webarchive.org.uk/interject/action/qaop/http://web.archive.org/web/20030514170431/http://www.bigblack.org.uk:80/spectrum/A/afrtrail.sna'"
       ]
      },
      {
       "metadata": {},
       "output_type": "display_data",
       "text": [
        "'afrtrail.sna'"
       ]
      },
      {
       "metadata": {},
       "output_type": "display_data",
       "text": [
        "'spectral-imaging/20030514172721.sna.png'"
       ]
      },
      {
       "metadata": {},
       "output_type": "display_data",
       "text": [
        "'http://www.webarchive.org.uk/interject/action/qaop/http://web.archive.org/web/20030514172721/http://www.bigblack.org.uk:80/spectrum/A/actionforce2.sna'"
       ]
      },
      {
       "metadata": {},
       "output_type": "display_data",
       "text": [
        "'actionforce2.sna'"
       ]
      },
      {
       "metadata": {},
       "output_type": "display_data",
       "text": [
        "'spectral-imaging/20030521160238.tap.png'"
       ]
      },
      {
       "metadata": {},
       "output_type": "display_data",
       "text": [
        "'http://www.webarchive.org.uk/interject/action/qaop/http://web.archive.org/web/20030521160238/http://www.bigblack.org.uk:80/spectrum/C/CHIMERAP.TAP'"
       ]
      },
      {
       "metadata": {},
       "output_type": "display_data",
       "text": [
        "'CHIMERAP.TAP'"
       ]
      },
      {
       "metadata": {},
       "output_type": "display_data",
       "text": [
        "'spectral-imaging/20030516215614.tap.png'"
       ]
      },
      {
       "metadata": {},
       "output_type": "display_data",
       "text": [
        "'http://www.webarchive.org.uk/interject/action/qaop/http://web.archive.org/web/20030516215614/http://www.ysrnry.co.uk:80/ys3/issue6/tape/smash04.tap'"
       ]
      },
      {
       "metadata": {},
       "output_type": "display_data",
       "text": [
        "'smash04.tap'"
       ]
      },
      {
       "metadata": {},
       "output_type": "display_data",
       "text": [
        "'spectral-imaging/20030518205229.tap.png'"
       ]
      },
      {
       "metadata": {},
       "output_type": "display_data",
       "text": [
        "'http://www.webarchive.org.uk/interject/action/qaop/http://web.archive.org/web/20030518205229/http://www.bigblack.org.uk:80/spectrum/C/CARPETCA.TAP'"
       ]
      },
      {
       "metadata": {},
       "output_type": "display_data",
       "text": [
        "'CARPETCA.TAP'"
       ]
      },
      {
       "metadata": {},
       "output_type": "display_data",
       "text": [
        "'spectral-imaging/20060924023829.z80.png'"
       ]
      },
      {
       "metadata": {},
       "output_type": "display_data",
       "text": [
        "'http://www.webarchive.org.uk/interject/action/qaop/http://web.archive.org/web/20060924023829/http://www.wearmouth.demon.co.uk/gw03/endgame.z80'"
       ]
      },
      {
       "metadata": {},
       "output_type": "display_data",
       "text": [
        "'endgame.z80'"
       ]
      },
      {
       "metadata": {},
       "output_type": "display_data",
       "text": [
        "'spectral-imaging/20030516170722.sna.png'"
       ]
      },
      {
       "metadata": {},
       "output_type": "display_data",
       "text": [
        "'http://www.webarchive.org.uk/interject/action/qaop/http://web.archive.org/web/20030516170722/http://www.bigblack.org.uk:80/spectrum/A/ashes.sna'"
       ]
      },
      {
       "metadata": {},
       "output_type": "display_data",
       "text": [
        "'ashes.sna'"
       ]
      },
      {
       "metadata": {},
       "output_type": "display_data",
       "text": [
        "'spectral-imaging/20020929171436.z80.png'"
       ]
      },
      {
       "metadata": {},
       "output_type": "display_data",
       "text": [
        "'http://www.webarchive.org.uk/interject/action/qaop/http://web.archive.org/web/20020929171436/http://www.users.globalnet.co.uk:80/~jimg/type-ins/sincprog/monsterm.z80'"
       ]
      },
      {
       "metadata": {},
       "output_type": "display_data",
       "text": [
        "'monsterm.z80'"
       ]
      },
      {
       "metadata": {},
       "output_type": "display_data",
       "text": [
        "'spectral-imaging/20030515182352.sna.png'"
       ]
      },
      {
       "metadata": {},
       "output_type": "display_data",
       "text": [
        "'http://www.webarchive.org.uk/interject/action/qaop/http://web.archive.org/web/20030515182352/http://www.bigblack.org.uk:80/spectrum/A/antics.sna'"
       ]
      },
      {
       "metadata": {},
       "output_type": "display_data",
       "text": [
        "'antics.sna'"
       ]
      },
      {
       "metadata": {},
       "output_type": "display_data",
       "text": [
        "'spectral-imaging/20020510214140.tap.png'"
       ]
      },
      {
       "metadata": {},
       "output_type": "display_data",
       "text": [
        "'http://www.webarchive.org.uk/interject/action/qaop/http://web.archive.org/web/20020510214140/http://www.users.globalnet.co.uk:80/~jimg/type-ins/sincuser/select.tap'"
       ]
      },
      {
       "metadata": {},
       "output_type": "display_data",
       "text": [
        "'select.tap'"
       ]
      },
      {
       "metadata": {},
       "output_type": "display_data",
       "text": [
        "'spectral-imaging/20030516215257.tap.png'"
       ]
      },
      {
       "metadata": {},
       "output_type": "display_data",
       "text": [
        "'http://www.webarchive.org.uk/interject/action/qaop/http://web.archive.org/web/20030516215257/http://www.ysrnry.co.uk:80/ys3/issue5/tape/smash03.tap'"
       ]
      },
      {
       "metadata": {},
       "output_type": "display_data",
       "text": [
        "'smash03.tap'"
       ]
      },
      {
       "metadata": {},
       "output_type": "display_data",
       "text": [
        "'spectral-imaging/20030710042424.z80.png'"
       ]
      },
      {
       "metadata": {},
       "output_type": "display_data",
       "text": [
        "'http://www.webarchive.org.uk/interject/action/qaop/http://web.archive.org/web/20030710042424/http://web.ukonline.co.uk:80/listener/ripe/Dinablst.z80'"
       ]
      },
      {
       "metadata": {},
       "output_type": "display_data",
       "text": [
        "'Dinablst.z80'"
       ]
      },
      {
       "metadata": {},
       "output_type": "display_data",
       "text": [
        "'spectral-imaging/20030524152343.tap.png'"
       ]
      },
      {
       "metadata": {},
       "output_type": "display_data",
       "text": [
        "'http://www.webarchive.org.uk/interject/action/qaop/http://web.archive.org/web/20030524152343/http://www.bigblack.org.uk:80/spectrum/C/COMBATZO.TAP'"
       ]
      },
      {
       "metadata": {},
       "output_type": "display_data",
       "text": [
        "'COMBATZO.TAP'"
       ]
      },
      {
       "metadata": {},
       "output_type": "display_data",
       "text": [
        "'spectral-imaging/20060924023009.z80.png'"
       ]
      },
      {
       "metadata": {},
       "output_type": "display_data",
       "text": [
        "'http://www.webarchive.org.uk/interject/action/qaop/http://web.archive.org/web/20060924023009/http://www.wearmouth.demon.co.uk/jav/rainbow.z80'"
       ]
      },
      {
       "metadata": {},
       "output_type": "display_data",
       "text": [
        "'rainbow.z80'"
       ]
      },
      {
       "metadata": {},
       "output_type": "display_data",
       "text": [
        "'spectral-imaging/20020317005227.tap.png'"
       ]
      },
      {
       "metadata": {},
       "output_type": "display_data",
       "text": [
        "'http://www.webarchive.org.uk/interject/action/qaop/http://web.archive.org/web/20020317005227/http://www.users.globalnet.co.uk:80/~jimg/type-ins/zx-comp/spectres.tap'"
       ]
      },
      {
       "metadata": {},
       "output_type": "display_data",
       "text": [
        "'spectres.tap'"
       ]
      },
      {
       "metadata": {},
       "output_type": "display_data",
       "text": [
        "'spectral-imaging/20030516170447.sna.png'"
       ]
      },
      {
       "metadata": {},
       "output_type": "display_data",
       "text": [
        "'http://www.webarchive.org.uk/interject/action/qaop/http://web.archive.org/web/20030516170447/http://www.bigblack.org.uk:80/spectrum/A/arnhem.sna'"
       ]
      },
      {
       "metadata": {},
       "output_type": "display_data",
       "text": [
        "'arnhem.sna'"
       ]
      },
      {
       "metadata": {},
       "output_type": "display_data",
       "text": [
        "'spectral-imaging/20030428215506.z80.png'"
       ]
      },
      {
       "metadata": {},
       "output_type": "display_data",
       "text": [
        "'http://www.webarchive.org.uk/interject/action/qaop/http://web.archive.org/web/20030428215506/http://www.bigblack.org.uk:80/spectrum/A/ADVENT.Z80'"
       ]
      },
      {
       "metadata": {},
       "output_type": "display_data",
       "text": [
        "'ADVENT.Z80'"
       ]
      },
      {
       "metadata": {},
       "output_type": "display_data",
       "text": [
        "'spectral-imaging/20040623032422.sna.png'"
       ]
      },
      {
       "metadata": {},
       "output_type": "display_data",
       "text": [
        "'http://www.webarchive.org.uk/interject/action/qaop/http://web.archive.org/web/20040623032422/http://www.woodcock88.freeserve.co.uk:80/BLINK.sna'"
       ]
      },
      {
       "metadata": {},
       "output_type": "display_data",
       "text": [
        "'BLINK.sna'"
       ]
      },
      {
       "metadata": {},
       "output_type": "display_data",
       "text": [
        "'spectral-imaging/20021003122326.sna.png'"
       ]
      },
      {
       "metadata": {},
       "output_type": "display_data",
       "text": [
        "'http://www.webarchive.org.uk/interject/action/qaop/http://web.archive.org/web/20021003122326/http://www.bigfatpanda.fsnet.co.uk:80/code/poacher.sna'"
       ]
      },
      {
       "metadata": {},
       "output_type": "display_data",
       "text": [
        "'poacher.sna'"
       ]
      },
      {
       "metadata": {},
       "output_type": "display_data",
       "text": [
        "'spectral-imaging/20030515181804.sna.png'"
       ]
      },
      {
       "metadata": {},
       "output_type": "display_data",
       "text": [
        "'http://www.webarchive.org.uk/interject/action/qaop/http://web.archive.org/web/20030515181804/http://www.bigblack.org.uk:80/spectrum/A/aquaplan.sna'"
       ]
      },
      {
       "metadata": {},
       "output_type": "display_data",
       "text": [
        "'aquaplan.sna'"
       ]
      },
      {
       "metadata": {},
       "output_type": "display_data",
       "text": [
        "'spectral-imaging/20030623041522.z80.png'"
       ]
      },
      {
       "metadata": {},
       "output_type": "display_data",
       "text": [
        "'http://www.webarchive.org.uk/interject/action/qaop/http://web.archive.org/web/20030623041522/http://bandstash.co.uk:80/jetsetgaming/JSM.Z80'"
       ]
      },
      {
       "metadata": {},
       "output_type": "display_data",
       "text": [
        "'JSM.Z80'"
       ]
      },
      {
       "metadata": {},
       "output_type": "display_data",
       "text": [
        "'spectral-imaging/20030514172400.sna.png'"
       ]
      },
      {
       "metadata": {},
       "output_type": "display_data",
       "text": [
        "'http://www.webarchive.org.uk/interject/action/qaop/http://web.archive.org/web/20030514172400/http://www.bigblack.org.uk:80/spectrum/A/advent_a.sna'"
       ]
      },
      {
       "metadata": {},
       "output_type": "display_data",
       "text": [
        "'advent_a.sna'"
       ]
      },
      {
       "metadata": {},
       "output_type": "display_data",
       "text": [
        "'spectral-imaging/20030515181842.sna.png'"
       ]
      },
      {
       "metadata": {},
       "output_type": "display_data",
       "text": [
        "'http://www.webarchive.org.uk/interject/action/qaop/http://web.archive.org/web/20030515181842/http://www.bigblack.org.uk:80/spectrum/A/ak_chess.sna'"
       ]
      },
      {
       "metadata": {},
       "output_type": "display_data",
       "text": [
        "'ak_chess.sna'"
       ]
      },
      {
       "metadata": {},
       "output_type": "display_data",
       "text": [
        "'spectral-imaging/20020203061817.sna.png'"
       ]
      },
      {
       "metadata": {},
       "output_type": "display_data",
       "text": [
        "'http://www.webarchive.org.uk/interject/action/qaop/http://web.archive.org/web/20020203061817/http://www.alant.demon.co.uk:80/software/zx/TheCloud.sna'"
       ]
      },
      {
       "metadata": {},
       "output_type": "display_data",
       "text": [
        "'TheCloud.sna'"
       ]
      },
      {
       "metadata": {},
       "output_type": "display_data",
       "text": [
        "'spectral-imaging/20051231180607.tap.png'"
       ]
      },
      {
       "metadata": {},
       "output_type": "display_data",
       "text": [
        "'http://www.webarchive.org.uk/interject/action/qaop/http://web.archive.org/web/20051231180607/http://www.ysrnry.co.uk:80/ys3/issue5/tape/smash03.tap'"
       ]
      },
      {
       "metadata": {},
       "output_type": "display_data",
       "text": [
        "'smash03.tap'"
       ]
      },
      {
       "metadata": {},
       "output_type": "display_data",
       "text": [
        "'spectral-imaging/20030520210833.tap.png'"
       ]
      },
      {
       "metadata": {},
       "output_type": "display_data",
       "text": [
        "'http://www.webarchive.org.uk/interject/action/qaop/http://web.archive.org/web/20030520210833/http://www.bigblack.org.uk:80/spectrum/C/CHBASKBL.TAP'"
       ]
      },
      {
       "metadata": {},
       "output_type": "display_data",
       "text": [
        "'CHBASKBL.TAP'"
       ]
      },
      {
       "metadata": {},
       "output_type": "display_data",
       "text": [
        "'spectral-imaging/20030506053142.sna.png'"
       ]
      },
      {
       "metadata": {},
       "output_type": "display_data",
       "text": [
        "'http://www.webarchive.org.uk/interject/action/qaop/http://web.archive.org/web/20030506053142/http://www.bigblack.org.uk:80/spectrum/A/AND1INTR.SNA'"
       ]
      },
      {
       "metadata": {},
       "output_type": "display_data",
       "text": [
        "'AND1INTR.SNA'"
       ]
      },
      {
       "metadata": {},
       "output_type": "display_data",
       "text": [
        "'spectral-imaging/20030507212518.z80.png'"
       ]
      },
      {
       "metadata": {},
       "output_type": "display_data",
       "text": [
        "'http://www.webarchive.org.uk/interject/action/qaop/http://web.archive.org/web/20030507212518/http://www.bigblack.org.uk:80/spectrum/A/ANDYCAPP.Z80'"
       ]
      },
      {
       "metadata": {},
       "output_type": "display_data",
       "text": [
        "'ANDYCAPP.Z80'"
       ]
      },
      {
       "metadata": {},
       "output_type": "display_data",
       "text": [
        "'spectral-imaging/20030318010743.tap.png'"
       ]
      },
      {
       "metadata": {},
       "output_type": "display_data",
       "text": [
        "'http://www.webarchive.org.uk/interject/action/qaop/http://web.archive.org/web/20030318010743/http://www.users.globalnet.co.uk:80/~jimg/type-ins/zx-comp/3dnought.tap'"
       ]
      },
      {
       "metadata": {},
       "output_type": "display_data",
       "text": [
        "'3dnought.tap'"
       ]
      },
      {
       "metadata": {},
       "output_type": "display_data",
       "text": [
        "'spectral-imaging/19970709154409.z80.png'"
       ]
      },
      {
       "metadata": {},
       "output_type": "display_data",
       "text": [
        "'http://www.webarchive.org.uk/interject/action/qaop/http://web.archive.org/web/19970709154409/http://wkweb4.cableinet.co.uk:80/hodder/harrier.z80'"
       ]
      },
      {
       "metadata": {},
       "output_type": "display_data",
       "text": [
        "'harrier.z80'"
       ]
      },
      {
       "metadata": {},
       "output_type": "display_data",
       "text": [
        "'spectral-imaging/20030518205557.sna.png'"
       ]
      },
      {
       "metadata": {},
       "output_type": "display_data",
       "text": [
        "'http://www.webarchive.org.uk/interject/action/qaop/http://web.archive.org/web/20030518205557/http://www.bigblack.org.uk:80/spectrum/C/CAMELOT.SNA'"
       ]
      },
      {
       "metadata": {},
       "output_type": "display_data",
       "text": [
        "'CAMELOT.SNA'"
       ]
      },
      {
       "metadata": {},
       "output_type": "display_data",
       "text": [
        "'spectral-imaging/20020308142746.tap.png'"
       ]
      },
      {
       "metadata": {},
       "output_type": "display_data",
       "text": [
        "'http://www.webarchive.org.uk/interject/action/qaop/http://web.archive.org/web/20020308142746/http://www.users.globalnet.co.uk:80/~jimg/type-ins/sincuser/lettermo.tap'"
       ]
      },
      {
       "metadata": {},
       "output_type": "display_data",
       "text": [
        "'lettermo.tap'"
       ]
      },
      {
       "metadata": {},
       "output_type": "display_data",
       "text": [
        "'spectral-imaging/20030325010749.tap.png'"
       ]
      },
      {
       "metadata": {},
       "output_type": "display_data",
       "text": [
        "'http://www.webarchive.org.uk/interject/action/qaop/http://web.archive.org/web/20030325010749/http://www.users.globalnet.co.uk:80/~jimg/type-ins/sincprog/destroyv.tap'"
       ]
      },
      {
       "metadata": {},
       "output_type": "display_data",
       "text": [
        "'destroyv.tap'"
       ]
      },
      {
       "metadata": {},
       "output_type": "display_data",
       "text": [
        "'spectral-imaging/20030518205154.z80.png'"
       ]
      },
      {
       "metadata": {},
       "output_type": "display_data",
       "text": [
        "'http://www.webarchive.org.uk/interject/action/qaop/http://web.archive.org/web/20030518205154/http://www.bigblack.org.uk:80/spectrum/C/CARDS.Z80'"
       ]
      },
      {
       "metadata": {},
       "output_type": "display_data",
       "text": [
        "'CARDS.Z80'"
       ]
      },
      {
       "metadata": {},
       "output_type": "display_data",
       "text": [
        "'spectral-imaging/20010513125307.tap.png'"
       ]
      },
      {
       "metadata": {},
       "output_type": "display_data",
       "text": [
        "'http://www.webarchive.org.uk/interject/action/qaop/http://web.archive.org/web/20010513125307/http://www.antsplace.co.uk:80/GOBBLEMA.TAP'"
       ]
      },
      {
       "metadata": {},
       "output_type": "display_data",
       "text": [
        "'GOBBLEMA.TAP'"
       ]
      },
      {
       "metadata": {},
       "output_type": "display_data",
       "text": [
        "'spectral-imaging/20030524152534.z80.png'"
       ]
      },
      {
       "metadata": {},
       "output_type": "display_data",
       "text": [
        "'http://www.webarchive.org.uk/interject/action/qaop/http://web.archive.org/web/20030524152534/http://www.bigblack.org.uk:80/spectrum/C/CONQUEST.Z80'"
       ]
      },
      {
       "metadata": {},
       "output_type": "display_data",
       "text": [
        "'CONQUEST.Z80'"
       ]
      },
      {
       "metadata": {},
       "output_type": "display_data",
       "text": [
        "'spectral-imaging/20030515181826.sna.png'"
       ]
      },
      {
       "metadata": {},
       "output_type": "display_data",
       "text": [
        "'http://www.webarchive.org.uk/interject/action/qaop/http://web.archive.org/web/20030515181826/http://www.bigblack.org.uk:80/spectrum/A/arabian.sna'"
       ]
      },
      {
       "metadata": {},
       "output_type": "display_data",
       "text": [
        "'arabian.sna'"
       ]
      },
      {
       "metadata": {},
       "output_type": "display_data",
       "text": [
        "'spectral-imaging/20030507213316.z80.png'"
       ]
      },
      {
       "metadata": {},
       "output_type": "display_data",
       "text": [
        "'http://www.webarchive.org.uk/interject/action/qaop/http://web.archive.org/web/20030507213316/http://www.bigblack.org.uk:80/spectrum/A/ANOGAIA.Z80'"
       ]
      },
      {
       "metadata": {},
       "output_type": "display_data",
       "text": [
        "'ANOGAIA.Z80'"
       ]
      },
      {
       "metadata": {},
       "output_type": "display_data",
       "text": [
        "'spectral-imaging/20030506070011.sna.png'"
       ]
      },
      {
       "metadata": {},
       "output_type": "display_data",
       "text": [
        "'http://www.webarchive.org.uk/interject/action/qaop/http://web.archive.org/web/20030506070011/http://www.bandstash.co.uk:80/jetsetgaming/JSWdemons.sna'"
       ]
      },
      {
       "metadata": {},
       "output_type": "display_data",
       "text": [
        "'JSWdemons.sna'"
       ]
      },
      {
       "metadata": {},
       "output_type": "display_data",
       "text": [
        "'spectral-imaging/20030501171354.z80.png'"
       ]
      },
      {
       "metadata": {},
       "output_type": "display_data",
       "text": [
        "'http://www.webarchive.org.uk/interject/action/qaop/http://web.archive.org/web/20030501171354/http://www.bigblack.org.uk:80/spectrum/A/AKYRTZ.Z80'"
       ]
      },
      {
       "metadata": {},
       "output_type": "display_data",
       "text": [
        "'AKYRTZ.Z80'"
       ]
      },
      {
       "metadata": {},
       "output_type": "display_data",
       "text": [
        "'spectral-imaging/20030519205502.sna.png'"
       ]
      },
      {
       "metadata": {},
       "output_type": "display_data",
       "text": [
        "'http://www.webarchive.org.uk/interject/action/qaop/http://web.archive.org/web/20030519205502/http://www.bigblack.org.uk:80/spectrum/C/CATNMOUS.SNA'"
       ]
      },
      {
       "metadata": {},
       "output_type": "display_data",
       "text": [
        "'CATNMOUS.SNA'"
       ]
      },
      {
       "metadata": {},
       "output_type": "display_data",
       "text": [
        "'spectral-imaging/20030514170945.sna.png'"
       ]
      },
      {
       "metadata": {},
       "output_type": "display_data",
       "text": [
        "'http://www.webarchive.org.uk/interject/action/qaop/http://web.archive.org/web/20030514170945/http://www.bigblack.org.uk:80/spectrum/A/ace_2088.sna'"
       ]
      },
      {
       "metadata": {},
       "output_type": "display_data",
       "text": [
        "'ace_2088.sna'"
       ]
      },
      {
       "metadata": {},
       "output_type": "display_data",
       "text": [
        "'spectral-imaging/20030522132226.z80.png'"
       ]
      },
      {
       "metadata": {},
       "output_type": "display_data",
       "text": [
        "'http://www.webarchive.org.uk/interject/action/qaop/http://web.archive.org/web/20030522132226/http://www.bigblack.org.uk:80/spectrum/C/CHUBBY.Z80'"
       ]
      },
      {
       "metadata": {},
       "output_type": "display_data",
       "text": [
        "'CHUBBY.Z80'"
       ]
      },
      {
       "metadata": {},
       "output_type": "display_data",
       "text": [
        "'spectral-imaging/20020929172341.tap.png'"
       ]
      },
      {
       "metadata": {},
       "output_type": "display_data",
       "text": [
        "'http://www.webarchive.org.uk/interject/action/qaop/http://web.archive.org/web/20020929172341/http://www.users.globalnet.co.uk:80/~jimg/type-ins/sincprog/slalom.tap'"
       ]
      },
      {
       "metadata": {},
       "output_type": "display_data",
       "text": [
        "'slalom.tap'"
       ]
      },
      {
       "metadata": {},
       "output_type": "display_data",
       "text": [
        "'spectral-imaging/20030318010139.tap.png'"
       ]
      },
      {
       "metadata": {},
       "output_type": "display_data",
       "text": [
        "'http://www.webarchive.org.uk/interject/action/qaop/http://web.archive.org/web/20030318010139/http://www.users.globalnet.co.uk:80/~jimg/type-ins/zx-comp/knightfi.tap'"
       ]
      },
      {
       "metadata": {},
       "output_type": "display_data",
       "text": [
        "'knightfi.tap'"
       ]
      },
      {
       "metadata": {},
       "output_type": "display_data",
       "text": [
        "'spectral-imaging/20020507051652.tap.png'"
       ]
      },
      {
       "metadata": {},
       "output_type": "display_data",
       "text": [
        "'http://www.webarchive.org.uk/interject/action/qaop/http://web.archive.org/web/20020507051652/http://www.z88forever.org.uk:80/zxplus3e/files/msdos.tap'"
       ]
      },
      {
       "metadata": {},
       "output_type": "display_data",
       "text": [
        "'msdos.tap'"
       ]
      },
      {
       "metadata": {},
       "output_type": "display_data",
       "text": [
        "'spectral-imaging/20030521161624.sna.png'"
       ]
      },
      {
       "metadata": {},
       "output_type": "display_data",
       "text": [
        "'http://www.webarchive.org.uk/interject/action/qaop/http://web.archive.org/web/20030521161624/http://www.bigblack.org.uk:80/spectrum/C/CHOPLIFT.SNA'"
       ]
      },
      {
       "metadata": {},
       "output_type": "display_data",
       "text": [
        "'CHOPLIFT.SNA'"
       ]
      },
      {
       "metadata": {},
       "output_type": "display_data",
       "text": [
        "'spectral-imaging/20030501170848.z80.png'"
       ]
      },
      {
       "metadata": {},
       "output_type": "display_data",
       "text": [
        "'http://www.webarchive.org.uk/interject/action/qaop/http://web.archive.org/web/20030501170848/http://www.bigblack.org.uk:80/spectrum/A/AFS.Z80'"
       ]
      },
      {
       "metadata": {},
       "output_type": "display_data",
       "text": [
        "'AFS.Z80'"
       ]
      },
      {
       "metadata": {},
       "output_type": "display_data",
       "text": [
        "'spectral-imaging/20030519205534.tap.png'"
       ]
      },
      {
       "metadata": {},
       "output_type": "display_data",
       "text": [
        "'http://www.webarchive.org.uk/interject/action/qaop/http://web.archive.org/web/20030519205534/http://www.bigblack.org.uk:80/spectrum/C/CASANOVA.TAP'"
       ]
      },
      {
       "metadata": {},
       "output_type": "display_data",
       "text": [
        "'CASANOVA.TAP'"
       ]
      },
      {
       "metadata": {},
       "output_type": "display_data",
       "text": [
        "'spectral-imaging/20030507212443.sna.png'"
       ]
      },
      {
       "metadata": {},
       "output_type": "display_data",
       "text": [
        "'http://www.webarchive.org.uk/interject/action/qaop/http://web.archive.org/web/20030507212443/http://www.bigblack.org.uk:80/spectrum/A/ANDROID2.SNA'"
       ]
      },
      {
       "metadata": {},
       "output_type": "display_data",
       "text": [
        "'ANDROID2.SNA'"
       ]
      },
      {
       "metadata": {},
       "output_type": "display_data",
       "text": [
        "'spectral-imaging/20030507212819.z80.png'"
       ]
      },
      {
       "metadata": {},
       "output_type": "display_data",
       "text": [
        "'http://www.webarchive.org.uk/interject/action/qaop/http://web.archive.org/web/20030507212819/http://www.bigblack.org.uk:80/spectrum/A/ANTTILIS.Z80'"
       ]
      },
      {
       "metadata": {},
       "output_type": "display_data",
       "text": [
        "'ANTTILIS.Z80'"
       ]
      },
      {
       "metadata": {},
       "output_type": "display_data",
       "text": [
        "'spectral-imaging/20030428220033.z80.png'"
       ]
      },
      {
       "metadata": {},
       "output_type": "display_data",
       "text": [
        "'http://www.webarchive.org.uk/interject/action/qaop/http://web.archive.org/web/20030428220033/http://www.bigblack.org.uk:80/spectrum/A/ADALADDA.Z80'"
       ]
      },
      {
       "metadata": {},
       "output_type": "display_data",
       "text": [
        "'ADALADDA.Z80'"
       ]
      },
      {
       "metadata": {},
       "output_type": "display_data",
       "text": [
        "'spectral-imaging/20020113132458.sna.png'"
       ]
      },
      {
       "metadata": {},
       "output_type": "display_data",
       "text": [
        "'http://www.webarchive.org.uk/interject/action/qaop/http://web.archive.org/web/20020113132458/http://www.thewebshite.fslife.co.uk:80/DIZZY_5.SNA'"
       ]
      },
      {
       "metadata": {},
       "output_type": "display_data",
       "text": [
        "'DIZZY_5.SNA'"
       ]
      },
      {
       "metadata": {},
       "output_type": "display_data",
       "text": [
        "'spectral-imaging/20030515182116.z80.png'"
       ]
      },
      {
       "metadata": {},
       "output_type": "display_data",
       "text": [
        "'http://www.webarchive.org.uk/interject/action/qaop/http://web.archive.org/web/20030515182116/http://www.bigblack.org.uk:80/spectrum/A/alevol.z80'"
       ]
      },
      {
       "metadata": {},
       "output_type": "display_data",
       "text": [
        "'alevol.z80'"
       ]
      },
      {
       "metadata": {},
       "output_type": "display_data",
       "text": [
        "'spectral-imaging/20030428215238.sna.png'"
       ]
      },
      {
       "metadata": {},
       "output_type": "display_data",
       "text": [
        "'http://www.webarchive.org.uk/interject/action/qaop/http://web.archive.org/web/20030428215238/http://www.bigblack.org.uk:80/spectrum/A/ADDING.SNA'"
       ]
      },
      {
       "metadata": {},
       "output_type": "display_data",
       "text": [
        "'ADDING.SNA'"
       ]
      },
      {
       "metadata": {},
       "output_type": "display_data",
       "text": [
        "'spectral-imaging/20030318004920.tap.png'"
       ]
      },
      {
       "metadata": {},
       "output_type": "display_data",
       "text": [
        "'http://www.webarchive.org.uk/interject/action/qaop/http://web.archive.org/web/20030318004920/http://www.users.globalnet.co.uk:80/~jimg/type-ins/zx-comp/spectres.tap'"
       ]
      },
      {
       "metadata": {},
       "output_type": "display_data",
       "text": [
        "'spectres.tap'"
       ]
      },
      {
       "metadata": {},
       "output_type": "display_data",
       "text": [
        "'spectral-imaging/19991023123146.z80.png'"
       ]
      },
      {
       "metadata": {},
       "output_type": "display_data",
       "text": [
        "'http://www.webarchive.org.uk/interject/action/qaop/http://web.archive.org/web/19991023123146/http://wkweb1.cableinet.co.uk:80/malkc/Tranzam.z80'"
       ]
      },
      {
       "metadata": {},
       "output_type": "display_data",
       "text": [
        "'Tranzam.z80'"
       ]
      },
      {
       "metadata": {},
       "output_type": "display_data",
       "text": [
        "'spectral-imaging/20021221184353.z80.png'"
       ]
      },
      {
       "metadata": {},
       "output_type": "display_data",
       "text": [
        "'http://www.webarchive.org.uk/interject/action/qaop/http://web.archive.org/web/20021221184353/http://web.ukonline.co.uk:80/listener/Jetpac.z80'"
       ]
      },
      {
       "metadata": {},
       "output_type": "display_data",
       "text": [
        "'Jetpac.z80'"
       ]
      },
      {
       "metadata": {},
       "output_type": "display_data",
       "text": [
        "'spectral-imaging/20011215031403.sna.png'"
       ]
      },
      {
       "metadata": {},
       "output_type": "display_data",
       "text": [
        "'http://www.webarchive.org.uk/interject/action/qaop/http://web.archive.org/web/20011215031403/http://www.bigfatpanda.fsnet.co.uk:80/code/kemshu.sna'"
       ]
      },
      {
       "metadata": {},
       "output_type": "display_data",
       "text": [
        "'kemshu.sna'"
       ]
      },
      {
       "metadata": {},
       "output_type": "display_data",
       "text": [
        "'spectral-imaging/20050112150834.tap.png'"
       ]
      },
      {
       "metadata": {},
       "output_type": "display_data",
       "text": [
        "'http://www.webarchive.org.uk/interject/action/qaop/http://web.archive.org/web/20050112150834/http://www.ysrnry.co.uk:80/ys3/issue13/smash.tap'"
       ]
      },
      {
       "metadata": {},
       "output_type": "display_data",
       "text": [
        "'smash.tap'"
       ]
      },
      {
       "metadata": {},
       "output_type": "display_data",
       "text": [
        "'spectral-imaging/20040131020349.tap.png'"
       ]
      },
      {
       "metadata": {},
       "output_type": "display_data",
       "text": [
        "'http://www.webarchive.org.uk/interject/action/qaop/http://web.archive.org/web/20040131020349/http://www.users.globalnet.co.uk:80/~jg27paw4/type-ins/oddsends/cheshire.tap'"
       ]
      },
      {
       "metadata": {},
       "output_type": "display_data",
       "text": [
        "'cheshire.tap'"
       ]
      },
      {
       "metadata": {},
       "output_type": "display_data",
       "text": [
        "'spectral-imaging/20030428214701.z80.png'"
       ]
      },
      {
       "metadata": {},
       "output_type": "display_data",
       "text": [
        "'http://www.webarchive.org.uk/interject/action/qaop/http://web.archive.org/web/20030428214701/http://www.bigblack.org.uk:80/spectrum/A/ADRVERW.Z80'"
       ]
      },
      {
       "metadata": {},
       "output_type": "display_data",
       "text": [
        "'ADRVERW.Z80'"
       ]
      },
      {
       "metadata": {},
       "output_type": "display_data",
       "text": [
        "'spectral-imaging/20030710043434.z80.png'"
       ]
      },
      {
       "metadata": {},
       "output_type": "display_data",
       "text": [
        "'http://www.webarchive.org.uk/interject/action/qaop/http://web.archive.org/web/20030710043434/http://web.ukonline.co.uk:80/listener/ripe/Earthshk.z80'"
       ]
      },
      {
       "metadata": {},
       "output_type": "display_data",
       "text": [
        "'Earthshk.z80'"
       ]
      },
      {
       "metadata": {},
       "output_type": "display_data",
       "text": [
        "'spectral-imaging/20080515151938.sna.png'"
       ]
      },
      {
       "metadata": {},
       "output_type": "display_data",
       "text": [
        "'http://www.webarchive.org.uk/interject/action/qaop/http://web.archive.org/web/20080515151938/http://www.autolaunch.freeserve.co.uk/boat_run.sna'"
       ]
      },
      {
       "metadata": {},
       "output_type": "display_data",
       "text": [
        "'boat_run.sna'"
       ]
      },
      {
       "metadata": {},
       "output_type": "display_data",
       "text": [
        "'spectral-imaging/20010520000054.z80.png'"
       ]
      },
      {
       "metadata": {},
       "output_type": "display_data",
       "text": [
        "'http://www.webarchive.org.uk/interject/action/qaop/http://web.archive.org/web/20010520000054/http://www.antsplace.co.uk:80/TRASHMAN.Z80'"
       ]
      },
      {
       "metadata": {},
       "output_type": "display_data",
       "text": [
        "'TRASHMAN.Z80'"
       ]
      },
      {
       "metadata": {},
       "output_type": "display_data",
       "text": [
        "'spectral-imaging/20030519210043.z80.png'"
       ]
      },
      {
       "metadata": {},
       "output_type": "display_data",
       "text": [
        "'http://www.webarchive.org.uk/interject/action/qaop/http://web.archive.org/web/20030519210043/http://www.bigblack.org.uk:80/spectrum/C/CC48PT2.Z80'"
       ]
      },
      {
       "metadata": {},
       "output_type": "display_data",
       "text": [
        "'CC48PT2.Z80'"
       ]
      },
      {
       "metadata": {},
       "output_type": "display_data",
       "text": [
        "'spectral-imaging/20030425105527.tap.png'"
       ]
      },
      {
       "metadata": {},
       "output_type": "display_data",
       "text": [
        "'http://www.webarchive.org.uk/interject/action/qaop/http://web.archive.org/web/20030425105527/http://www.bigblack.org.uk:80/spectrum/A/ACTIONFI.TAP'"
       ]
      },
      {
       "metadata": {},
       "output_type": "display_data",
       "text": [
        "'ACTIONFI.TAP'"
       ]
      },
      {
       "metadata": {},
       "output_type": "display_data",
       "text": [
        "'spectral-imaging/20030501171201.tap.png'"
       ]
      },
      {
       "metadata": {},
       "output_type": "display_data",
       "text": [
        "'http://www.webarchive.org.uk/interject/action/qaop/http://web.archive.org/web/20030501171201/http://www.bigblack.org.uk:80/spectrum/A/AFRICA_G.TAP'"
       ]
      },
      {
       "metadata": {},
       "output_type": "display_data",
       "text": [
        "'AFRICA_G.TAP'"
       ]
      },
      {
       "metadata": {},
       "output_type": "display_data",
       "text": [
        "'spectral-imaging/20030518205140.sna.png'"
       ]
      },
      {
       "metadata": {},
       "output_type": "display_data",
       "text": [
        "'http://www.webarchive.org.uk/interject/action/qaop/http://web.archive.org/web/20030518205140/http://www.bigblack.org.uk:80/spectrum/C/CALL_SAM.SNA'"
       ]
      },
      {
       "metadata": {},
       "output_type": "display_data",
       "text": [
        "'CALL_SAM.SNA'"
       ]
      },
      {
       "metadata": {},
       "output_type": "display_data",
       "text": [
        "'spectral-imaging/20030506053116.z80.png'"
       ]
      },
      {
       "metadata": {},
       "output_type": "display_data",
       "text": [
        "'http://www.webarchive.org.uk/interject/action/qaop/http://web.archive.org/web/20030506053116/http://www.bigblack.org.uk:80/spectrum/A/AMER_AGT.Z80'"
       ]
      },
      {
       "metadata": {},
       "output_type": "display_data",
       "text": [
        "'AMER_AGT.Z80'"
       ]
      },
      {
       "metadata": {},
       "output_type": "display_data",
       "text": [
        "'spectral-imaging/20030428220850.tap.png'"
       ]
      },
      {
       "metadata": {},
       "output_type": "display_data",
       "text": [
        "'http://www.webarchive.org.uk/interject/action/qaop/http://web.archive.org/web/20030428220850/http://www.bigblack.org.uk:80/spectrum/A/AFOOTB.TAP'"
       ]
      },
      {
       "metadata": {},
       "output_type": "display_data",
       "text": [
        "'AFOOTB.TAP'"
       ]
      },
      {
       "metadata": {},
       "output_type": "display_data",
       "text": [
        "'spectral-imaging/20040107030834.sna.png'"
       ]
      },
      {
       "metadata": {},
       "output_type": "display_data",
       "text": [
        "'http://www.webarchive.org.uk/interject/action/qaop/http://web.archive.org/web/20040107030834/http://www.woodcock88.freeserve.co.uk:80/BLINK.sna'"
       ]
      },
      {
       "metadata": {},
       "output_type": "display_data",
       "text": [
        "'BLINK.sna'"
       ]
      },
      {
       "metadata": {},
       "output_type": "display_data",
       "text": [
        "'spectral-imaging/20030514171354.z80.png'"
       ]
      },
      {
       "metadata": {},
       "output_type": "display_data",
       "text": [
        "'http://www.webarchive.org.uk/interject/action/qaop/http://web.archive.org/web/20030514171354/http://www.bigblack.org.uk:80/spectrum/A/ArticSnooker.z80'"
       ]
      },
      {
       "metadata": {},
       "output_type": "display_data",
       "text": [
        "'ArticSnooker.z80'"
       ]
      },
      {
       "metadata": {},
       "output_type": "display_data",
       "text": [
        "'spectral-imaging/20030521160759.z80.png'"
       ]
      },
      {
       "metadata": {},
       "output_type": "display_data",
       "text": [
        "'http://www.webarchive.org.uk/interject/action/qaop/http://web.archive.org/web/20030521160759/http://www.bigblack.org.uk:80/spectrum/C/CHINHORO.Z80'"
       ]
      },
      {
       "metadata": {},
       "output_type": "display_data",
       "text": [
        "'CHINHORO.Z80'"
       ]
      },
      {
       "metadata": {},
       "output_type": "display_data",
       "text": [
        "'spectral-imaging/20030506053116.sna.png'"
       ]
      },
      {
       "metadata": {},
       "output_type": "display_data",
       "text": [
        "'http://www.webarchive.org.uk/interject/action/qaop/http://web.archive.org/web/20030506053116/http://www.bigblack.org.uk:80/spectrum/A/AMAUROTE.SNA'"
       ]
      },
      {
       "metadata": {},
       "output_type": "display_data",
       "text": [
        "'AMAUROTE.SNA'"
       ]
      },
      {
       "metadata": {},
       "output_type": "display_data",
       "text": [
        "'spectral-imaging/20030305180530.sna.png'"
       ]
      },
      {
       "metadata": {},
       "output_type": "display_data",
       "text": [
        "'http://www.webarchive.org.uk/interject/action/qaop/http://web.archive.org/web/20030305180530/http://www.bigfatpanda.fsnet.co.uk:80/code/kemshu.sna'"
       ]
      },
      {
       "metadata": {},
       "output_type": "display_data",
       "text": [
        "'kemshu.sna'"
       ]
      },
      {
       "metadata": {},
       "output_type": "display_data",
       "text": [
        "'spectral-imaging/20020603070429.sna.png'"
       ]
      },
      {
       "metadata": {},
       "output_type": "display_data",
       "text": [
        "'http://www.webarchive.org.uk/interject/action/qaop/http://web.archive.org/web/20020603070429/http://www.thewebshite5.fslife.co.uk:80/daley-d2.sna'"
       ]
      },
      {
       "metadata": {},
       "output_type": "display_data",
       "text": [
        "'daley-d2.sna'"
       ]
      },
      {
       "metadata": {},
       "output_type": "display_data",
       "text": [
        "'spectral-imaging/20020927120927.z80.png'"
       ]
      },
      {
       "metadata": {},
       "output_type": "display_data",
       "text": [
        "'http://www.webarchive.org.uk/interject/action/qaop/http://web.archive.org/web/20020927120927/http://www.zenn.demon.co.uk:80/com/reviews/games/Cj.z80'"
       ]
      },
      {
       "metadata": {},
       "output_type": "display_data",
       "text": [
        "'Cj.z80'"
       ]
      },
      {
       "metadata": {},
       "output_type": "display_data",
       "text": [
        "'spectral-imaging/20030123180340.tap.png'"
       ]
      },
      {
       "metadata": {},
       "output_type": "display_data",
       "text": [
        "'http://www.webarchive.org.uk/interject/action/qaop/http://web.archive.org/web/20030123180340/http://www.users.globalnet.co.uk:80/~jimg/type-ins/sincprog/spirodra.tap'"
       ]
      },
      {
       "metadata": {},
       "output_type": "display_data",
       "text": [
        "'spirodra.tap'"
       ]
      },
      {
       "metadata": {},
       "output_type": "display_data",
       "text": [
        "'spectral-imaging/20060924022942.z80.png'"
       ]
      },
      {
       "metadata": {},
       "output_type": "display_data",
       "text": [
        "'http://www.webarchive.org.uk/interject/action/qaop/http://web.archive.org/web/20060924022942/http://www.wearmouth.demon.co.uk/gw03/queens8.z80'"
       ]
      },
      {
       "metadata": {},
       "output_type": "display_data",
       "text": [
        "'queens8.z80'"
       ]
      },
      {
       "metadata": {},
       "output_type": "display_data",
       "text": [
        "'spectral-imaging/20030428215653.z80.png'"
       ]
      },
      {
       "metadata": {},
       "output_type": "display_data",
       "text": [
        "'http://www.webarchive.org.uk/interject/action/qaop/http://web.archive.org/web/20030428215653/http://www.bigblack.org.uk:80/spectrum/A/ACTION_R.Z80'"
       ]
      },
      {
       "metadata": {},
       "output_type": "display_data",
       "text": [
        "'ACTION_R.Z80'"
       ]
      },
      {
       "metadata": {},
       "output_type": "display_data",
       "text": [
        "'spectral-imaging/20030520210829.z80.png'"
       ]
      },
      {
       "metadata": {},
       "output_type": "display_data",
       "text": [
        "'http://www.webarchive.org.uk/interject/action/qaop/http://web.archive.org/web/20030520210829/http://www.bigblack.org.uk:80/spectrum/C/CHAPLIN.Z80'"
       ]
      },
      {
       "metadata": {},
       "output_type": "display_data",
       "text": [
        "'CHAPLIN.Z80'"
       ]
      },
      {
       "metadata": {},
       "output_type": "display_data",
       "text": [
        "'spectral-imaging/20011030202601.sna.png'"
       ]
      },
      {
       "metadata": {},
       "output_type": "display_data",
       "text": [
        "'http://www.webarchive.org.uk/interject/action/qaop/http://web.archive.org/web/20011030202601/http://www.bigfatpanda.fsnet.co.uk:80/code/kemshu.sna'"
       ]
      },
      {
       "metadata": {},
       "output_type": "display_data",
       "text": [
        "'kemshu.sna'"
       ]
      },
      {
       "metadata": {},
       "output_type": "display_data",
       "text": [
        "'spectral-imaging/20030501170903.sna.png'"
       ]
      },
      {
       "metadata": {},
       "output_type": "display_data",
       "text": [
        "'http://www.webarchive.org.uk/interject/action/qaop/http://web.archive.org/web/20030501170903/http://www.bigblack.org.uk:80/spectrum/A/AH_DIDDU.SNA'"
       ]
      },
      {
       "metadata": {},
       "output_type": "display_data",
       "text": [
        "'AH_DIDDU.SNA'"
       ]
      },
      {
       "metadata": {},
       "output_type": "display_data",
       "text": [
        "'spectral-imaging/20030105025112.sna.png'"
       ]
      },
      {
       "metadata": {},
       "output_type": "display_data",
       "text": [
        "'http://www.webarchive.org.uk/interject/action/qaop/http://web.archive.org/web/20030105025112/http://www.bigfatpanda.fsnet.co.uk:80/code/kemshu.sna'"
       ]
      },
      {
       "metadata": {},
       "output_type": "display_data",
       "text": [
        "'kemshu.sna'"
       ]
      },
      {
       "metadata": {},
       "output_type": "display_data",
       "text": [
        "'spectral-imaging/20030524152958.z80.png'"
       ]
      },
      {
       "metadata": {},
       "output_type": "display_data",
       "text": [
        "'http://www.webarchive.org.uk/interject/action/qaop/http://web.archive.org/web/20030524152958/http://www.bigblack.org.uk:80/spectrum/C/COMPILER.Z80'"
       ]
      },
      {
       "metadata": {},
       "output_type": "display_data",
       "text": [
        "'COMPILER.Z80'"
       ]
      },
      {
       "metadata": {},
       "output_type": "display_data",
       "text": [
        "'spectral-imaging/20060924021831.z80.png'"
       ]
      },
      {
       "metadata": {},
       "output_type": "display_data",
       "text": [
        "'http://www.webarchive.org.uk/interject/action/qaop/http://web.archive.org/web/20060924021831/http://www.wearmouth.demon.co.uk/jav/GP.Z80'"
       ]
      },
      {
       "metadata": {},
       "output_type": "display_data",
       "text": [
        "'GP.Z80'"
       ]
      },
      {
       "metadata": {},
       "output_type": "display_data",
       "text": [
        "'spectral-imaging/20010817143940.sna.png'"
       ]
      },
      {
       "metadata": {},
       "output_type": "display_data",
       "text": [
        "'http://www.webarchive.org.uk/interject/action/qaop/http://web.archive.org/web/20010817143940/http://www.alant.demon.co.uk:80/software/zx/ShootOut.sna'"
       ]
      },
      {
       "metadata": {},
       "output_type": "display_data",
       "text": [
        "'ShootOut.sna'"
       ]
      },
      {
       "metadata": {},
       "output_type": "display_data",
       "text": [
        "'spectral-imaging/20010522022036.tap.png'"
       ]
      },
      {
       "metadata": {},
       "output_type": "display_data",
       "text": [
        "'http://www.webarchive.org.uk/interject/action/qaop/http://web.archive.org/web/20010522022036/http://www.antsplace.co.uk:80/ZZOOM.TAP'"
       ]
      },
      {
       "metadata": {},
       "output_type": "display_data",
       "text": [
        "'ZZOOM.TAP'"
       ]
      },
      {
       "metadata": {},
       "output_type": "display_data",
       "text": [
        "'spectral-imaging/20030506060831.tap.png'"
       ]
      },
      {
       "metadata": {},
       "output_type": "display_data",
       "text": [
        "'http://www.webarchive.org.uk/interject/action/qaop/http://web.archive.org/web/20030506060831/http://www.bigblack.org.uk:80/spectrum/A/ANCIENTB.TAP'"
       ]
      },
      {
       "metadata": {},
       "output_type": "display_data",
       "text": [
        "'ANCIENTB.TAP'"
       ]
      },
      {
       "metadata": {},
       "output_type": "display_data",
       "text": [
        "'spectral-imaging/20030506053615.tap.png'"
       ]
      },
      {
       "metadata": {},
       "output_type": "display_data",
       "text": [
        "'http://www.webarchive.org.uk/interject/action/qaop/http://web.archive.org/web/20030506053615/http://www.bigblack.org.uk:80/spectrum/A/AMOTOS.TAP'"
       ]
      },
      {
       "metadata": {},
       "output_type": "display_data",
       "text": [
        "'AMOTOS.TAP'"
       ]
      },
      {
       "metadata": {},
       "output_type": "display_data",
       "text": [
        "'spectral-imaging/20010817145345.sna.png'"
       ]
      },
      {
       "metadata": {},
       "output_type": "display_data",
       "text": [
        "'http://www.webarchive.org.uk/interject/action/qaop/http://web.archive.org/web/20010817145345/http://www.alant.demon.co.uk:80/software/zx/TheCloud.sna'"
       ]
      },
      {
       "metadata": {},
       "output_type": "display_data",
       "text": [
        "'TheCloud.sna'"
       ]
      },
      {
       "metadata": {},
       "output_type": "display_data",
       "text": [
        "'spectral-imaging/20030506053734.z80.png'"
       ]
      },
      {
       "metadata": {},
       "output_type": "display_data",
       "text": [
        "'http://www.webarchive.org.uk/interject/action/qaop/http://web.archive.org/web/20030506053734/http://www.bigblack.org.uk:80/spectrum/A/ALIEN__.Z80'"
       ]
      },
      {
       "metadata": {},
       "output_type": "display_data",
       "text": [
        "'ALIEN__.Z80'"
       ]
      },
      {
       "metadata": {},
       "output_type": "display_data",
       "text": [
        "'spectral-imaging/20011111042954.sna.png'"
       ]
      },
      {
       "metadata": {},
       "output_type": "display_data",
       "text": [
        "'http://www.webarchive.org.uk/interject/action/qaop/http://web.archive.org/web/20011111042954/http://www.thewebshite.fslife.co.uk:80/FEUD.SNA'"
       ]
      },
      {
       "metadata": {},
       "output_type": "display_data",
       "text": [
        "'FEUD.SNA'"
       ]
      },
      {
       "metadata": {},
       "output_type": "display_data",
       "text": [
        "'spectral-imaging/20030520211139.z80.png'"
       ]
      },
      {
       "metadata": {},
       "output_type": "display_data",
       "text": [
        "'http://www.webarchive.org.uk/interject/action/qaop/http://web.archive.org/web/20030520211139/http://www.bigblack.org.uk:80/spectrum/C/CHEMIE.Z80'"
       ]
      },
      {
       "metadata": {},
       "output_type": "display_data",
       "text": [
        "'CHEMIE.Z80'"
       ]
      },
      {
       "metadata": {},
       "output_type": "display_data",
       "text": [
        "'spectral-imaging/20030521161238.tap.png'"
       ]
      },
      {
       "metadata": {},
       "output_type": "display_data",
       "text": [
        "'http://www.webarchive.org.uk/interject/action/qaop/http://web.archive.org/web/20030521161238/http://www.bigblack.org.uk:80/spectrum/C/CHIPS_CH.TAP'"
       ]
      },
      {
       "metadata": {},
       "output_type": "display_data",
       "text": [
        "'CHIPS_CH.TAP'"
       ]
      },
      {
       "metadata": {},
       "output_type": "display_data",
       "text": [
        "'spectral-imaging/19991022221236.z80.png'"
       ]
      },
      {
       "metadata": {},
       "output_type": "display_data",
       "text": [
        "'http://www.webarchive.org.uk/interject/action/qaop/http://web.archive.org/web/19991022221236/http://wkweb1.cableinet.co.uk:80/malkc/Bigfoot.z80'"
       ]
      },
      {
       "metadata": {},
       "output_type": "display_data",
       "text": [
        "'Bigfoot.z80'"
       ]
      },
      {
       "metadata": {},
       "output_type": "display_data",
       "text": [
        "'spectral-imaging/20030522135049.z80.png'"
       ]
      },
      {
       "metadata": {},
       "output_type": "display_data",
       "text": [
        "'http://www.webarchive.org.uk/interject/action/qaop/http://web.archive.org/web/20030522135049/http://www.bigblack.org.uk:80/spectrum/C/CHRDEMDK.Z80'"
       ]
      },
      {
       "metadata": {},
       "output_type": "display_data",
       "text": [
        "'CHRDEMDK.Z80'"
       ]
      },
      {
       "metadata": {},
       "output_type": "display_data",
       "text": [
        "'spectral-imaging/20030520205932.z80.png'"
       ]
      },
      {
       "metadata": {},
       "output_type": "display_data",
       "text": [
        "'http://www.webarchive.org.uk/interject/action/qaop/http://web.archive.org/web/20030520205932/http://www.bigblack.org.uk:80/spectrum/C/CHAMPRUN.Z80'"
       ]
      },
      {
       "metadata": {},
       "output_type": "display_data",
       "text": [
        "'CHAMPRUN.Z80'"
       ]
      },
      {
       "metadata": {},
       "output_type": "display_data",
       "text": [
        "'spectral-imaging/20040804135446.sna.png'"
       ]
      },
      {
       "metadata": {},
       "output_type": "display_data",
       "text": [
        "'http://www.webarchive.org.uk/interject/action/qaop/http://web.archive.org/web/20040804135446/http://www.woodcock88.freeserve.co.uk:80/BLINK.sna'"
       ]
      },
      {
       "metadata": {},
       "output_type": "display_data",
       "text": [
        "'BLINK.sna'"
       ]
      },
      {
       "metadata": {},
       "output_type": "display_data",
       "text": [
        "'spectral-imaging/20030518210843.z80.png'"
       ]
      },
      {
       "metadata": {},
       "output_type": "display_data",
       "text": [
        "'http://www.webarchive.org.uk/interject/action/qaop/http://web.archive.org/web/20030518210843/http://www.bigblack.org.uk:80/spectrum/C/CAPTBLOO.Z80'"
       ]
      },
      {
       "metadata": {},
       "output_type": "display_data",
       "text": [
        "'CAPTBLOO.Z80'"
       ]
      },
      {
       "metadata": {},
       "output_type": "display_data",
       "text": [
        "'spectral-imaging/20030518210112.sna.png'"
       ]
      },
      {
       "metadata": {},
       "output_type": "display_data",
       "text": [
        "'http://www.webarchive.org.uk/interject/action/qaop/http://web.archive.org/web/20030518210112/http://www.bigblack.org.uk:80/spectrum/C/CAPMAN.SNA'"
       ]
      },
      {
       "metadata": {},
       "output_type": "display_data",
       "text": [
        "'CAPMAN.SNA'"
       ]
      },
      {
       "metadata": {},
       "output_type": "display_data",
       "text": [
        "'spectral-imaging/19981207063144.z80.png'"
       ]
      },
      {
       "metadata": {},
       "output_type": "display_data",
       "text": [
        "'http://www.webarchive.org.uk/interject/action/qaop/http://web.archive.org/web/19981207063144/http://www.zenn.demon.co.uk:80/com/reviews/games/Lostcave.z80'"
       ]
      },
      {
       "metadata": {},
       "output_type": "display_data",
       "text": [
        "'Lostcave.z80'"
       ]
      },
      {
       "metadata": {},
       "output_type": "display_data",
       "text": [
        "'spectral-imaging/20010521014907.sna.png'"
       ]
      },
      {
       "metadata": {},
       "output_type": "display_data",
       "text": [
        "'http://www.webarchive.org.uk/interject/action/qaop/http://web.archive.org/web/20010521014907/http://www.antsplace.co.uk:80/UNDERWLD.SNA'"
       ]
      },
      {
       "metadata": {},
       "output_type": "display_data",
       "text": [
        "'UNDERWLD.SNA'"
       ]
      },
      {
       "metadata": {},
       "output_type": "display_data",
       "text": [
        "'spectral-imaging/20030514172222.z80.png'"
       ]
      },
      {
       "metadata": {},
       "output_type": "display_data",
       "text": [
        "'http://www.webarchive.org.uk/interject/action/qaop/http://web.archive.org/web/20030514172222/http://www.bigblack.org.uk:80/spectrum/A/Avaunt.z80'"
       ]
      },
      {
       "metadata": {},
       "output_type": "display_data",
       "text": [
        "'Avaunt.z80'"
       ]
      },
      {
       "metadata": {},
       "output_type": "display_data",
       "text": [
        "'spectral-imaging/20041102231916.tap.png'"
       ]
      },
      {
       "metadata": {},
       "output_type": "display_data",
       "text": [
        "'http://www.webarchive.org.uk/interject/action/qaop/http://web.archive.org/web/20041102231916/http://www.ysrnry.co.uk:80/ys3/issue6/tape/smash04.tap'"
       ]
      },
      {
       "metadata": {},
       "output_type": "display_data",
       "text": [
        "'smash04.tap'"
       ]
      },
      {
       "metadata": {},
       "output_type": "display_data",
       "text": [
        "'spectral-imaging/20030506060922.z80.png'"
       ]
      },
      {
       "metadata": {},
       "output_type": "display_data",
       "text": [
        "'http://www.webarchive.org.uk/interject/action/qaop/http://web.archive.org/web/20030506060922/http://www.bigblack.org.uk:80/spectrum/A/ANARCHY.Z80'"
       ]
      },
      {
       "metadata": {},
       "output_type": "display_data",
       "text": [
        "'ANARCHY.Z80'"
       ]
      },
      {
       "metadata": {},
       "output_type": "display_data",
       "text": [
        "'spectral-imaging/20030506052948.sna.png'"
       ]
      },
      {
       "metadata": {},
       "output_type": "display_data",
       "text": [
        "'http://www.webarchive.org.uk/interject/action/qaop/http://web.archive.org/web/20030506052948/http://www.bigblack.org.uk:80/spectrum/A/ALWAYS.SNA'"
       ]
      },
      {
       "metadata": {},
       "output_type": "display_data",
       "text": [
        "'ALWAYS.SNA'"
       ]
      },
      {
       "metadata": {},
       "output_type": "display_data",
       "text": [
        "'spectral-imaging/20030515182659.z80.png'"
       ]
      },
      {
       "metadata": {},
       "output_type": "display_data",
       "text": [
        "'http://www.webarchive.org.uk/interject/action/qaop/http://web.archive.org/web/20030515182659/http://www.bigblack.org.uk:80/spectrum/A/aliendes.z80'"
       ]
      },
      {
       "metadata": {},
       "output_type": "display_data",
       "text": [
        "'aliendes.z80'"
       ]
      },
      {
       "metadata": {},
       "output_type": "display_data",
       "text": [
        "'spectral-imaging/20030517201003.sna.png'"
       ]
      },
      {
       "metadata": {},
       "output_type": "display_data",
       "text": [
        "'http://www.webarchive.org.uk/interject/action/qaop/http://web.archive.org/web/20030517201003/http://www.bigblack.org.uk:80/spectrum/A/aufmonty.sna'"
       ]
      },
      {
       "metadata": {},
       "output_type": "display_data",
       "text": [
        "'aufmonty.sna'"
       ]
      },
      {
       "metadata": {},
       "output_type": "display_data",
       "text": [
        "'spectral-imaging/20011008214317.sna.png'"
       ]
      },
      {
       "metadata": {},
       "output_type": "display_data",
       "text": [
        "'http://www.webarchive.org.uk/interject/action/qaop/http://web.archive.org/web/20011008214317/http://www.alant.demon.co.uk:80/software/zx/ShootOut.sna'"
       ]
      },
      {
       "metadata": {},
       "output_type": "display_data",
       "text": [
        "'ShootOut.sna'"
       ]
      },
      {
       "metadata": {},
       "output_type": "display_data",
       "text": [
        "'spectral-imaging/20010513023425.z80.png'"
       ]
      },
      {
       "metadata": {},
       "output_type": "display_data",
       "text": [
        "'http://www.webarchive.org.uk/interject/action/qaop/http://web.archive.org/web/20010513023425/http://www.antsplace.co.uk:80/CHAOS.Z80'"
       ]
      },
      {
       "metadata": {},
       "output_type": "display_data",
       "text": [
        "'CHAOS.Z80'"
       ]
      },
      {
       "metadata": {},
       "output_type": "display_data",
       "text": [
        "'spectral-imaging/20030521160245.z80.png'"
       ]
      },
      {
       "metadata": {},
       "output_type": "display_data",
       "text": [
        "'http://www.webarchive.org.uk/interject/action/qaop/http://web.archive.org/web/20030521160245/http://www.bigblack.org.uk:80/spectrum/C/CHILLER.Z80'"
       ]
      },
      {
       "metadata": {},
       "output_type": "display_data",
       "text": [
        "'CHILLER.Z80'"
       ]
      },
      {
       "metadata": {},
       "output_type": "display_data",
       "text": [
        "'spectral-imaging/20060924021819.z80.png'"
       ]
      },
      {
       "metadata": {},
       "output_type": "display_data",
       "text": [
        "'http://www.webarchive.org.uk/interject/action/qaop/http://web.archive.org/web/20060924021819/http://www.wearmouth.demon.co.uk/jav/util2.z80'"
       ]
      },
      {
       "metadata": {},
       "output_type": "display_data",
       "text": [
        "'util2.z80'"
       ]
      },
      {
       "metadata": {},
       "output_type": "display_data",
       "text": [
        "'spectral-imaging/20060924021802.z80.png'"
       ]
      },
      {
       "metadata": {},
       "output_type": "display_data",
       "text": [
        "'http://www.webarchive.org.uk/interject/action/qaop/http://web.archive.org/web/20060924021802/http://www.wearmouth.demon.co.uk/jav/u3zeus.z80'"
       ]
      },
      {
       "metadata": {},
       "output_type": "display_data",
       "text": [
        "'u3zeus.z80'"
       ]
      },
      {
       "metadata": {},
       "output_type": "display_data",
       "text": [
        "'spectral-imaging/20080415134937.sna.png'"
       ]
      },
      {
       "metadata": {},
       "output_type": "display_data",
       "text": [
        "'http://www.webarchive.org.uk/interject/action/qaop/http://web.archive.org/web/20080415134937/http://www.autolaunch.freeserve.co.uk:80/boat_run.sna'"
       ]
      },
      {
       "metadata": {},
       "output_type": "display_data",
       "text": [
        "'boat_run.sna'"
       ]
      },
      {
       "metadata": {},
       "output_type": "display_data",
       "text": [
        "'spectral-imaging/20011124054354.z80.png'"
       ]
      },
      {
       "metadata": {},
       "output_type": "display_data",
       "text": [
        "'http://www.webarchive.org.uk/interject/action/qaop/http://web.archive.org/web/20011124054354/http://www.zenn.demon.co.uk:80/com/reviews/games/Cj.z80'"
       ]
      },
      {
       "metadata": {},
       "output_type": "display_data",
       "text": [
        "'Cj.z80'"
       ]
      },
      {
       "metadata": {},
       "output_type": "display_data",
       "text": [
        "'spectral-imaging/20030507212613.z80.png'"
       ]
      },
      {
       "metadata": {},
       "output_type": "display_data",
       "text": [
        "'http://www.webarchive.org.uk/interject/action/qaop/http://web.archive.org/web/20030507212613/http://www.bigblack.org.uk:80/spectrum/A/ANGLEBAL.Z80'"
       ]
      },
      {
       "metadata": {},
       "output_type": "display_data",
       "text": [
        "'ANGLEBAL.Z80'"
       ]
      },
      {
       "metadata": {},
       "output_type": "display_data",
       "text": [
        "'spectral-imaging/20020724113444.tap.png'"
       ]
      },
      {
       "metadata": {},
       "output_type": "display_data",
       "text": [
        "'http://www.webarchive.org.uk/interject/action/qaop/http://web.archive.org/web/20020724113444/http://www.users.globalnet.co.uk:80/~jimg/type-ins/sincuser/target.tap'"
       ]
      },
      {
       "metadata": {},
       "output_type": "display_data",
       "text": [
        "'target.tap'"
       ]
      },
      {
       "metadata": {},
       "output_type": "display_data",
       "text": [
        "'spectral-imaging/20031128091329.tap.png'"
       ]
      },
      {
       "metadata": {},
       "output_type": "display_data",
       "text": [
        "'http://www.webarchive.org.uk/interject/action/qaop/http://web.archive.org/web/20031128091329/http://www.ysrnry.co.uk:80/ys3/issue5/tape/smash03.tap'"
       ]
      },
      {
       "metadata": {},
       "output_type": "display_data",
       "text": [
        "'smash03.tap'"
       ]
      },
      {
       "metadata": {},
       "output_type": "display_data",
       "text": [
        "'spectral-imaging/20010514025457.z80.png'"
       ]
      },
      {
       "metadata": {},
       "output_type": "display_data",
       "text": [
        "'http://www.webarchive.org.uk/interject/action/qaop/http://web.archive.org/web/20010514025457/http://web.ukonline.co.uk:80/listener/ripe/Firelord.z80'"
       ]
      },
      {
       "metadata": {},
       "output_type": "display_data",
       "text": [
        "'Firelord.z80'"
       ]
      },
      {
       "metadata": {},
       "output_type": "display_data",
       "text": [
        "'spectral-imaging/20030521160912.z80.png'"
       ]
      },
      {
       "metadata": {},
       "output_type": "display_data",
       "text": [
        "'http://www.webarchive.org.uk/interject/action/qaop/http://web.archive.org/web/20030521160912/http://www.bigblack.org.uk:80/spectrum/C/CHINJUGG.Z80'"
       ]
      },
      {
       "metadata": {},
       "output_type": "display_data",
       "text": [
        "'CHINJUGG.Z80'"
       ]
      },
      {
       "metadata": {},
       "output_type": "display_data",
       "text": [
        "'spectral-imaging/20030515182000.sna.png'"
       ]
      },
      {
       "metadata": {},
       "output_type": "display_data",
       "text": [
        "'http://www.webarchive.org.uk/interject/action/qaop/http://web.archive.org/web/20030515182000/http://www.bigblack.org.uk:80/spectrum/A/aft_war2.sna'"
       ]
      },
      {
       "metadata": {},
       "output_type": "display_data",
       "text": [
        "'aft_war2.sna'"
       ]
      },
      {
       "metadata": {},
       "output_type": "display_data",
       "text": [
        "'spectral-imaging/20030522133502.z80.png'"
       ]
      },
      {
       "metadata": {},
       "output_type": "display_data",
       "text": [
        "'http://www.webarchive.org.uk/interject/action/qaop/http://web.archive.org/web/20030522133502/http://www.bigblack.org.uk:80/spectrum/C/CLE_SMAR.Z80'"
       ]
      },
      {
       "metadata": {},
       "output_type": "display_data",
       "text": [
        "'CLE_SMAR.Z80'"
       ]
      },
      {
       "metadata": {},
       "output_type": "display_data",
       "text": [
        "'spectral-imaging/20030123180705.tap.png'"
       ]
      },
      {
       "metadata": {},
       "output_type": "display_data",
       "text": [
        "'http://www.webarchive.org.uk/interject/action/qaop/http://web.archive.org/web/20030123180705/http://www.users.globalnet.co.uk:80/~jimg/type-ins/sincprog/contour.tap'"
       ]
      },
      {
       "metadata": {},
       "output_type": "display_data",
       "text": [
        "'contour.tap'"
       ]
      },
      {
       "metadata": {},
       "output_type": "display_data",
       "text": [
        "'spectral-imaging/20030305180053.sna.png'"
       ]
      },
      {
       "metadata": {},
       "output_type": "display_data",
       "text": [
        "'http://www.webarchive.org.uk/interject/action/qaop/http://web.archive.org/web/20030305180053/http://www.bigfatpanda.fsnet.co.uk:80/code/poacher.sna'"
       ]
      },
      {
       "metadata": {},
       "output_type": "display_data",
       "text": [
        "'poacher.sna'"
       ]
      },
      {
       "metadata": {},
       "output_type": "display_data",
       "text": [
        "'spectral-imaging/19970709154444.z80.png'"
       ]
      },
      {
       "metadata": {},
       "output_type": "display_data",
       "text": [
        "'http://www.webarchive.org.uk/interject/action/qaop/http://web.archive.org/web/19970709154444/http://wkweb4.cableinet.co.uk:80/hodder/jetpac.z80'"
       ]
      },
      {
       "metadata": {},
       "output_type": "display_data",
       "text": [
        "'jetpac.z80'"
       ]
      },
      {
       "metadata": {},
       "output_type": "display_data",
       "text": [
        "'spectral-imaging/20021127053516.z80.png'"
       ]
      },
      {
       "metadata": {},
       "output_type": "display_data",
       "text": [
        "'http://www.webarchive.org.uk/interject/action/qaop/http://web.archive.org/web/20021127053516/http://www.zenn.demon.co.uk:80/com/reviews/games/Lostcave.z80'"
       ]
      },
      {
       "metadata": {},
       "output_type": "display_data",
       "text": [
        "'Lostcave.z80'"
       ]
      },
      {
       "metadata": {},
       "output_type": "display_data",
       "text": [
        "'spectral-imaging/20030517191541.sna.png'"
       ]
      },
      {
       "metadata": {},
       "output_type": "display_data",
       "text": [
        "'http://www.webarchive.org.uk/interject/action/qaop/http://web.archive.org/web/20030517191541/http://www.bigblack.org.uk:80/spectrum/A/automani.sna'"
       ]
      },
      {
       "metadata": {},
       "output_type": "display_data",
       "text": [
        "'automani.sna'"
       ]
      },
      {
       "metadata": {},
       "output_type": "display_data",
       "text": [
        "'spectral-imaging/20030524153815.tap.png'"
       ]
      },
      {
       "metadata": {},
       "output_type": "display_data",
       "text": [
        "'http://www.webarchive.org.uk/interject/action/qaop/http://web.archive.org/web/20030524153815/http://www.bigblack.org.uk:80/spectrum/C/CONFUZN.TAP'"
       ]
      },
      {
       "metadata": {},
       "output_type": "display_data",
       "text": [
        "'CONFUZN.TAP'"
       ]
      },
      {
       "metadata": {},
       "output_type": "display_data",
       "text": [
        "'spectral-imaging/20030516171226.sna.png'"
       ]
      },
      {
       "metadata": {},
       "output_type": "display_data",
       "text": [
        "'http://www.webarchive.org.uk/interject/action/qaop/http://web.archive.org/web/20030516171226/http://www.bigblack.org.uk:80/spectrum/A/arkos1.sna'"
       ]
      },
      {
       "metadata": {},
       "output_type": "display_data",
       "text": [
        "'arkos1.sna'"
       ]
      },
      {
       "metadata": {},
       "output_type": "display_data",
       "text": [
        "'spectral-imaging/20020511161109.tap.png'"
       ]
      },
      {
       "metadata": {},
       "output_type": "display_data",
       "text": [
        "'http://www.webarchive.org.uk/interject/action/qaop/http://web.archive.org/web/20020511161109/http://www.users.globalnet.co.uk:80/~jimg/type-ins/sincuser/target.tap'"
       ]
      },
      {
       "metadata": {},
       "output_type": "display_data",
       "text": [
        "'target.tap'"
       ]
      },
      {
       "metadata": {},
       "output_type": "display_data",
       "text": [
        "'spectral-imaging/20021012155242.sna.png'"
       ]
      },
      {
       "metadata": {},
       "output_type": "display_data",
       "text": [
        "'http://www.webarchive.org.uk/interject/action/qaop/http://web.archive.org/web/20021012155242/http://www.autolaunch.freeserve.co.uk:80/boat_run.sna'"
       ]
      },
      {
       "metadata": {},
       "output_type": "display_data",
       "text": [
        "'boat_run.sna'"
       ]
      },
      {
       "metadata": {},
       "output_type": "display_data",
       "text": [
        "'spectral-imaging/20030123182421.tap.png'"
       ]
      },
      {
       "metadata": {},
       "output_type": "display_data",
       "text": [
        "'http://www.webarchive.org.uk/interject/action/qaop/http://web.archive.org/web/20030123182421/http://www.users.globalnet.co.uk:80/~jimg/type-ins/sincprog/snake.tap'"
       ]
      },
      {
       "metadata": {},
       "output_type": "display_data",
       "text": [
        "'snake.tap'"
       ]
      },
      {
       "metadata": {},
       "output_type": "display_data",
       "text": [
        "'spectral-imaging/20030519205608.sna.png'"
       ]
      },
      {
       "metadata": {},
       "output_type": "display_data",
       "text": [
        "'http://www.webarchive.org.uk/interject/action/qaop/http://web.archive.org/web/20030519205608/http://www.bigblack.org.uk:80/spectrum/C/CAVES_DO.SNA'"
       ]
      },
      {
       "metadata": {},
       "output_type": "display_data",
       "text": [
        "'CAVES_DO.SNA'"
       ]
      },
      {
       "metadata": {},
       "output_type": "display_data",
       "text": [
        "'spectral-imaging/20021216074630.z80.png'"
       ]
      },
      {
       "metadata": {},
       "output_type": "display_data",
       "text": [
        "'http://www.webarchive.org.uk/interject/action/qaop/http://web.archive.org/web/20021216074630/http://www.thewebshite.fslife.co.uk:80/TRAPDOOR.Z80'"
       ]
      },
      {
       "metadata": {},
       "output_type": "display_data",
       "text": [
        "'TRAPDOOR.Z80'"
       ]
      },
      {
       "metadata": {},
       "output_type": "display_data",
       "text": [
        "'spectral-imaging/20030521161523.z80.png'"
       ]
      },
      {
       "metadata": {},
       "output_type": "display_data",
       "text": [
        "'http://www.webarchive.org.uk/interject/action/qaop/http://web.archive.org/web/20030521161523/http://www.bigblack.org.uk:80/spectrum/C/CHESSPLY.Z80'"
       ]
      },
      {
       "metadata": {},
       "output_type": "display_data",
       "text": [
        "'CHESSPLY.Z80'"
       ]
      },
      {
       "metadata": {},
       "output_type": "display_data",
       "text": [
        "'spectral-imaging/20030522134616.z80.png'"
       ]
      },
      {
       "metadata": {},
       "output_type": "display_data",
       "text": [
        "'http://www.webarchive.org.uk/interject/action/qaop/http://web.archive.org/web/20030522134616/http://www.bigblack.org.uk:80/spectrum/C/CLIMBER.Z80'"
       ]
      },
      {
       "metadata": {},
       "output_type": "display_data",
       "text": [
        "'CLIMBER.Z80'"
       ]
      },
      {
       "metadata": {},
       "output_type": "display_data",
       "text": [
        "'spectral-imaging/20030507213429.z80.png'"
       ]
      },
      {
       "metadata": {},
       "output_type": "display_data",
       "text": [
        "'http://www.webarchive.org.uk/interject/action/qaop/http://web.archive.org/web/20030507213429/http://www.bigblack.org.uk:80/spectrum/A/APOLLO11.Z80'"
       ]
      },
      {
       "metadata": {},
       "output_type": "display_data",
       "text": [
        "'APOLLO11.Z80'"
       ]
      },
      {
       "metadata": {},
       "output_type": "display_data",
       "text": [
        "'spectral-imaging/20030507212144.sna.png'"
       ]
      },
      {
       "metadata": {},
       "output_type": "display_data",
       "text": [
        "'http://www.webarchive.org.uk/interject/action/qaop/http://web.archive.org/web/20030507212144/http://www.bigblack.org.uk:80/spectrum/A/ANTATTAC.SNA'"
       ]
      },
      {
       "metadata": {},
       "output_type": "display_data",
       "text": [
        "'ANTATTAC.SNA'"
       ]
      },
      {
       "metadata": {},
       "output_type": "display_data",
       "text": [
        "'spectral-imaging/20080415134939.sna.png'"
       ]
      },
      {
       "metadata": {},
       "output_type": "display_data",
       "text": [
        "'http://www.webarchive.org.uk/interject/action/qaop/http://web.archive.org/web/20080415134939/http://www.autolaunch.freeserve.co.uk:80/buggy.sna'"
       ]
      },
      {
       "metadata": {},
       "output_type": "display_data",
       "text": [
        "'buggy.sna'"
       ]
      },
      {
       "metadata": {},
       "output_type": "display_data",
       "text": [
        "'spectral-imaging/20030518210459.tap.png'"
       ]
      },
      {
       "metadata": {},
       "output_type": "display_data",
       "text": [
        "'http://www.webarchive.org.uk/interject/action/qaop/http://web.archive.org/web/20030518210459/http://www.bigblack.org.uk:80/spectrum/C/CAPTSEV2.TAP'"
       ]
      },
      {
       "metadata": {},
       "output_type": "display_data",
       "text": [
        "'CAPTSEV2.TAP'"
       ]
      },
      {
       "metadata": {},
       "output_type": "display_data",
       "text": [
        "'spectral-imaging/20030823020434.z80.png'"
       ]
      },
      {
       "metadata": {},
       "output_type": "display_data",
       "text": [
        "'http://www.webarchive.org.uk/interject/action/qaop/http://web.archive.org/web/20030823020434/http://web.ukonline.co.uk:80/listener/Jetpac.z80'"
       ]
      },
      {
       "metadata": {},
       "output_type": "display_data",
       "text": [
        "'Jetpac.z80'"
       ]
      },
      {
       "metadata": {},
       "output_type": "display_data",
       "text": [
        "'spectral-imaging/19970709154513.z80.png'"
       ]
      },
      {
       "metadata": {},
       "output_type": "display_data",
       "text": [
        "'http://www.webarchive.org.uk/interject/action/qaop/http://web.archive.org/web/19970709154513/http://wkweb4.cableinet.co.uk:80/hodder/jetset.z80'"
       ]
      },
      {
       "metadata": {},
       "output_type": "display_data",
       "text": [
        "'jetset.z80'"
       ]
      },
      {
       "metadata": {},
       "output_type": "display_data",
       "text": [
        "'spectral-imaging/20030506053000.z80.png'"
       ]
      },
      {
       "metadata": {},
       "output_type": "display_data",
       "text": [
        "'http://www.webarchive.org.uk/interject/action/qaop/http://web.archive.org/web/20030506053000/http://www.bigblack.org.uk:80/spectrum/A/ANDESKYD.Z80'"
       ]
      },
      {
       "metadata": {},
       "output_type": "display_data",
       "text": [
        "'ANDESKYD.Z80'"
       ]
      },
      {
       "metadata": {},
       "output_type": "display_data",
       "text": [
        "'spectral-imaging/20031001012427.sna.png'"
       ]
      },
      {
       "metadata": {},
       "output_type": "display_data",
       "text": [
        "'http://www.webarchive.org.uk/interject/action/qaop/http://web.archive.org/web/20031001012427/http://www.autolaunch.freeserve.co.uk:80/buggy.sna'"
       ]
      },
      {
       "metadata": {},
       "output_type": "display_data",
       "text": [
        "'buggy.sna'"
       ]
      },
      {
       "metadata": {},
       "output_type": "display_data",
       "text": [
        "'spectral-imaging/19991001062426.z80.png'"
       ]
      },
      {
       "metadata": {},
       "output_type": "display_data",
       "text": [
        "'http://www.webarchive.org.uk/interject/action/qaop/http://web.archive.org/web/19991001062426/http://wkweb1.cableinet.co.uk:80/malkc/Yabba.z80'"
       ]
      },
      {
       "metadata": {},
       "output_type": "display_data",
       "text": [
        "'Yabba.z80'"
       ]
      },
      {
       "metadata": {},
       "output_type": "display_data",
       "text": [
        "'spectral-imaging/20030501171414.tap.png'"
       ]
      },
      {
       "metadata": {},
       "output_type": "display_data",
       "text": [
        "'http://www.webarchive.org.uk/interject/action/qaop/http://web.archive.org/web/20030501171414/http://www.bigblack.org.uk:80/spectrum/A/AFTER_B.TAP'"
       ]
      },
      {
       "metadata": {},
       "output_type": "display_data",
       "text": [
        "'AFTER_B.TAP'"
       ]
      },
      {
       "metadata": {},
       "output_type": "display_data",
       "text": [
        "'spectral-imaging/20030501170524.tap.png'"
       ]
      },
      {
       "metadata": {},
       "output_type": "display_data",
       "text": [
        "'http://www.webarchive.org.uk/interject/action/qaop/http://web.archive.org/web/20030501170524/http://www.bigblack.org.uk:80/spectrum/A/AGENTX22.TAP'"
       ]
      },
      {
       "metadata": {},
       "output_type": "display_data",
       "text": [
        "'AGENTX22.TAP'"
       ]
      },
      {
       "metadata": {},
       "output_type": "display_data",
       "text": [
        "'spectral-imaging/20060924092937.tap.png'"
       ]
      },
      {
       "metadata": {},
       "output_type": "display_data",
       "text": [
        "'http://www.webarchive.org.uk/interject/action/qaop/http://web.archive.org/web/20060924092937/http://www.ysrnry.co.uk/ys3/issue6/tape/smash04.tap'"
       ]
      },
      {
       "metadata": {},
       "output_type": "display_data",
       "text": [
        "'smash04.tap'"
       ]
      },
      {
       "metadata": {},
       "output_type": "display_data",
       "text": [
        "'spectral-imaging/20060924022149.z80.png'"
       ]
      },
      {
       "metadata": {},
       "output_type": "display_data",
       "text": [
        "'http://www.webarchive.org.uk/interject/action/qaop/http://web.archive.org/web/20060924022149/http://www.wearmouth.demon.co.uk/gw03/ktour.z80'"
       ]
      },
      {
       "metadata": {},
       "output_type": "display_data",
       "text": [
        "'ktour.z80'"
       ]
      },
      {
       "metadata": {},
       "output_type": "display_data",
       "text": [
        "'spectral-imaging/20030428214822.z80.png'"
       ]
      },
      {
       "metadata": {},
       "output_type": "display_data",
       "text": [
        "'http://www.webarchive.org.uk/interject/action/qaop/http://web.archive.org/web/20030428214822/http://www.bigblack.org.uk:80/spectrum/A/ADQUEST2.Z80'"
       ]
      },
      {
       "metadata": {},
       "output_type": "display_data",
       "text": [
        "'ADQUEST2.Z80'"
       ]
      },
      {
       "metadata": {},
       "output_type": "display_data",
       "text": [
        "'spectral-imaging/20081120023826.z80.png'"
       ]
      },
      {
       "metadata": {},
       "output_type": "display_data",
       "text": [
        "'http://www.webarchive.org.uk/interject/action/qaop/http://web.archive.org/web/20081120023826/http://www.barbelith.co.uk/downloads/PHART.z80'"
       ]
      },
      {
       "metadata": {},
       "output_type": "display_data",
       "text": [
        "'PHART.z80'"
       ]
      },
      {
       "metadata": {},
       "output_type": "display_data",
       "text": [
        "'spectral-imaging/20030507212306.z80.png'"
       ]
      },
      {
       "metadata": {},
       "output_type": "display_data",
       "text": [
        "'http://www.webarchive.org.uk/interject/action/qaop/http://web.archive.org/web/20030507212306/http://www.bigblack.org.uk:80/spectrum/A/ANTENY.Z80'"
       ]
      },
      {
       "metadata": {},
       "output_type": "display_data",
       "text": [
        "'ANTENY.Z80'"
       ]
      },
      {
       "metadata": {},
       "output_type": "display_data",
       "text": [
        "'spectral-imaging/20030516170855.z80.png'"
       ]
      },
      {
       "metadata": {},
       "output_type": "display_data",
       "text": [
        "'http://www.webarchive.org.uk/interject/action/qaop/http://web.archive.org/web/20030516170855/http://www.bigblack.org.uk:80/spectrum/A/arrow.z80'"
       ]
      },
      {
       "metadata": {},
       "output_type": "display_data",
       "text": [
        "'arrow.z80'"
       ]
      },
      {
       "metadata": {},
       "output_type": "display_data",
       "text": [
        "'spectral-imaging/20031214073616.tap.png'"
       ]
      },
      {
       "metadata": {},
       "output_type": "display_data",
       "text": [
        "'http://www.webarchive.org.uk/interject/action/qaop/http://web.archive.org/web/20031214073616/http://www.ysrnry.co.uk:80/ys3/issue6/tape/smash04.tap'"
       ]
      },
      {
       "metadata": {},
       "output_type": "display_data",
       "text": [
        "'smash04.tap'"
       ]
      },
      {
       "metadata": {},
       "output_type": "display_data",
       "text": [
        "'spectral-imaging/20030321230000.tap.png'"
       ]
      },
      {
       "metadata": {},
       "output_type": "display_data",
       "text": [
        "'http://www.webarchive.org.uk/interject/action/qaop/http://web.archive.org/web/20030321230000/http://www.users.globalnet.co.uk:80/~jimg/type-ins/sincprog/astralfo.tap'"
       ]
      },
      {
       "metadata": {},
       "output_type": "display_data",
       "text": [
        "'astralfo.tap'"
       ]
      },
      {
       "metadata": {},
       "output_type": "display_data",
       "text": [
        "'spectral-imaging/20030710042214.z80.png'"
       ]
      },
      {
       "metadata": {},
       "output_type": "display_data",
       "text": [
        "'http://www.webarchive.org.uk/interject/action/qaop/http://web.archive.org/web/20030710042214/http://web.ukonline.co.uk:80/listener/ripe/Bombman.z80'"
       ]
      },
      {
       "metadata": {},
       "output_type": "display_data",
       "text": [
        "'Bombman.z80'"
       ]
      },
      {
       "metadata": {},
       "output_type": "display_data",
       "text": [
        "'spectral-imaging/20030504021919.sna.png'"
       ]
      },
      {
       "metadata": {},
       "output_type": "display_data",
       "text": [
        "'http://www.webarchive.org.uk/interject/action/qaop/http://web.archive.org/web/20030504021919/http://www.bigblack.org.uk:80/spectrum/A/ALIEN8.SNA'"
       ]
      },
      {
       "metadata": {},
       "output_type": "display_data",
       "text": [
        "'ALIEN8.SNA'"
       ]
      },
      {
       "metadata": {},
       "output_type": "display_data",
       "text": [
        "'spectral-imaging/20030930205904.z80.png'"
       ]
      },
      {
       "metadata": {},
       "output_type": "display_data",
       "text": [
        "'http://www.webarchive.org.uk/interject/action/qaop/http://web.archive.org/web/20030930205904/http://web.ukonline.co.uk:80/listener/ripe/Dinablst.z80'"
       ]
      },
      {
       "metadata": {},
       "output_type": "display_data",
       "text": [
        "'Dinablst.z80'"
       ]
      },
      {
       "metadata": {},
       "output_type": "display_data",
       "text": [
        "'spectral-imaging/20010518215913.sna.png'"
       ]
      },
      {
       "metadata": {},
       "output_type": "display_data",
       "text": [
        "'http://www.webarchive.org.uk/interject/action/qaop/http://web.archive.org/web/20010518215913/http://www.antsplace.co.uk:80/SCUBDIVE.SNA'"
       ]
      },
      {
       "metadata": {},
       "output_type": "display_data",
       "text": [
        "'SCUBDIVE.SNA'"
       ]
      },
      {
       "metadata": {},
       "output_type": "display_data",
       "text": [
        "'spectral-imaging/20030428215945.z80.png'"
       ]
      },
      {
       "metadata": {},
       "output_type": "display_data",
       "text": [
        "'http://www.webarchive.org.uk/interject/action/qaop/http://web.archive.org/web/20030428215945/http://www.bigblack.org.uk:80/spectrum/A/ADDAMS.Z80'"
       ]
      },
      {
       "metadata": {},
       "output_type": "display_data",
       "text": [
        "'ADDAMS.Z80'"
       ]
      },
      {
       "metadata": {},
       "output_type": "display_data",
       "text": [
        "'spectral-imaging/20030516172214.sna.png'"
       ]
      },
      {
       "metadata": {},
       "output_type": "display_data",
       "text": [
        "'http://www.webarchive.org.uk/interject/action/qaop/http://web.archive.org/web/20030516172214/http://www.bigblack.org.uk:80/spectrum/A/arkanoid.sna'"
       ]
      },
      {
       "metadata": {},
       "output_type": "display_data",
       "text": [
        "'arkanoid.sna'"
       ]
      },
      {
       "metadata": {},
       "output_type": "display_data",
       "text": [
        "'spectral-imaging/20030413212717.sna.png'"
       ]
      },
      {
       "metadata": {},
       "output_type": "display_data",
       "text": [
        "'http://www.webarchive.org.uk/interject/action/qaop/http://web.archive.org/web/20030413212717/http://www.bigfatpanda.fsnet.co.uk:80/code/kemshu.sna'"
       ]
      },
      {
       "metadata": {},
       "output_type": "display_data",
       "text": [
        "'kemshu.sna'"
       ]
      },
      {
       "metadata": {},
       "output_type": "display_data",
       "text": [
        "'spectral-imaging/20030514172140.sna.png'"
       ]
      },
      {
       "metadata": {},
       "output_type": "display_data",
       "text": [
        "'http://www.webarchive.org.uk/interject/action/qaop/http://web.archive.org/web/20030514172140/http://www.bigblack.org.uk:80/spectrum/A/advent_c.sna'"
       ]
      },
      {
       "metadata": {},
       "output_type": "display_data",
       "text": [
        "'advent_c.sna'"
       ]
      },
      {
       "metadata": {},
       "output_type": "display_data",
       "text": [
        "'spectral-imaging/20030519204645.z80.png'"
       ]
      },
      {
       "metadata": {},
       "output_type": "display_data",
       "text": [
        "'http://www.webarchive.org.uk/interject/action/qaop/http://web.archive.org/web/20030519204645/http://www.bigblack.org.uk:80/spectrum/C/CC48PT1.Z80'"
       ]
      },
      {
       "metadata": {},
       "output_type": "display_data",
       "text": [
        "'CC48PT1.Z80'"
       ]
      },
      {
       "metadata": {},
       "output_type": "display_data",
       "text": [
        "'spectral-imaging/19991023014906.z80.png'"
       ]
      },
      {
       "metadata": {},
       "output_type": "display_data",
       "text": [
        "'http://www.webarchive.org.uk/interject/action/qaop/http://web.archive.org/web/19991023014906/http://wkweb1.cableinet.co.uk:80/malkc/Dizzy.z80'"
       ]
      },
      {
       "metadata": {},
       "output_type": "display_data",
       "text": [
        "'Dizzy.z80'"
       ]
      },
      {
       "metadata": {},
       "output_type": "display_data",
       "text": [
        "'spectral-imaging/20030123182111.tap.png'"
       ]
      },
      {
       "metadata": {},
       "output_type": "display_data",
       "text": [
        "'http://www.webarchive.org.uk/interject/action/qaop/http://web.archive.org/web/20030123182111/http://www.users.globalnet.co.uk:80/~jimg/type-ins/sincprog/forcefie.tap'"
       ]
      },
      {
       "metadata": {},
       "output_type": "display_data",
       "text": [
        "'forcefie.tap'"
       ]
      },
      {
       "metadata": {},
       "output_type": "display_data",
       "text": [
        "'spectral-imaging/20030506060712.z80.png'"
       ]
      },
      {
       "metadata": {},
       "output_type": "display_data",
       "text": [
        "'http://www.webarchive.org.uk/interject/action/qaop/http://web.archive.org/web/20030506060712/http://www.bigblack.org.uk:80/spectrum/A/ALLORNOT.Z80'"
       ]
      },
      {
       "metadata": {},
       "output_type": "display_data",
       "text": [
        "'ALLORNOT.Z80'"
       ]
      },
      {
       "metadata": {},
       "output_type": "display_data",
       "text": [
        "'spectral-imaging/20030520210208.z80.png'"
       ]
      },
      {
       "metadata": {},
       "output_type": "display_data",
       "text": [
        "'http://www.webarchive.org.uk/interject/action/qaop/http://web.archive.org/web/20030520210208/http://www.bigblack.org.uk:80/spectrum/C/CHAMPSED.Z80'"
       ]
      },
      {
       "metadata": {},
       "output_type": "display_data",
       "text": [
        "'CHAMPSED.Z80'"
       ]
      },
      {
       "metadata": {},
       "output_type": "display_data",
       "text": [
        "'spectral-imaging/20030518205938.z80.png'"
       ]
      },
      {
       "metadata": {},
       "output_type": "display_data",
       "text": [
        "'http://www.webarchive.org.uk/interject/action/qaop/http://web.archive.org/web/20030518205938/http://www.bigblack.org.uk:80/spectrum/C/CARTOON.Z80'"
       ]
      },
      {
       "metadata": {},
       "output_type": "display_data",
       "text": [
        "'CARTOON.Z80'"
       ]
      },
      {
       "metadata": {},
       "output_type": "display_data",
       "text": [
        "'spectral-imaging/20030517201016.z80.png'"
       ]
      },
      {
       "metadata": {},
       "output_type": "display_data",
       "text": [
        "'http://www.webarchive.org.uk/interject/action/qaop/http://web.archive.org/web/20030517201016/http://www.bigblack.org.uk:80/spectrum/C/CAGARA.Z80'"
       ]
      },
      {
       "metadata": {},
       "output_type": "display_data",
       "text": [
        "'CAGARA.Z80'"
       ]
      },
      {
       "metadata": {},
       "output_type": "display_data",
       "text": [
        "'spectral-imaging/19991010001020.z80.png'"
       ]
      },
      {
       "metadata": {},
       "output_type": "display_data",
       "text": [
        "'http://www.webarchive.org.uk/interject/action/qaop/http://web.archive.org/web/19991010001020/http://www.zenn.demon.co.uk:80/com/reviews/games/Lostcave.z80'"
       ]
      },
      {
       "metadata": {},
       "output_type": "display_data",
       "text": [
        "'Lostcave.z80'"
       ]
      },
      {
       "metadata": {},
       "output_type": "display_data",
       "text": [
        "'spectral-imaging/20020608075925.sna.png'"
       ]
      },
      {
       "metadata": {},
       "output_type": "display_data",
       "text": [
        "'http://www.webarchive.org.uk/interject/action/qaop/http://web.archive.org/web/20020608075925/http://www.autolaunch.freeserve.co.uk:80/buggy.sna'"
       ]
      },
      {
       "metadata": {},
       "output_type": "display_data",
       "text": [
        "'buggy.sna'"
       ]
      },
      {
       "metadata": {},
       "output_type": "display_data",
       "text": [
        "'spectral-imaging/20080331213025.tap.png'"
       ]
      },
      {
       "metadata": {},
       "output_type": "display_data",
       "text": [
        "'http://www.webarchive.org.uk/interject/action/qaop/http://web.archive.org/web/20080331213025/http://www.users.globalnet.co.uk:80/~jg27paw4/type-ins/sincuser/noughtsx.tap'"
       ]
      },
      {
       "metadata": {},
       "output_type": "display_data",
       "text": [
        "'noughtsx.tap'"
       ]
      },
      {
       "metadata": {},
       "output_type": "display_data",
       "text": [
        "'spectral-imaging/20030504021352.tap.png'"
       ]
      },
      {
       "metadata": {},
       "output_type": "display_data",
       "text": [
        "'http://www.webarchive.org.uk/interject/action/qaop/http://web.archive.org/web/20030504021352/http://www.bigblack.org.uk:80/spectrum/A/ALIENS_.TAP'"
       ]
      },
      {
       "metadata": {},
       "output_type": "display_data",
       "text": [
        "'ALIENS_.TAP'"
       ]
      },
      {
       "metadata": {},
       "output_type": "display_data",
       "text": [
        "'spectral-imaging/20030521161256.sna.png'"
       ]
      },
      {
       "metadata": {},
       "output_type": "display_data",
       "text": [
        "'http://www.webarchive.org.uk/interject/action/qaop/http://web.archive.org/web/20030521161256/http://www.bigblack.org.uk:80/spectrum/C/CHEQFLAG.SNA'"
       ]
      },
      {
       "metadata": {},
       "output_type": "display_data",
       "text": [
        "'CHEQFLAG.SNA'"
       ]
      },
      {
       "metadata": {},
       "output_type": "display_data",
       "text": [
        "'spectral-imaging/20030515181553.sna.png'"
       ]
      },
      {
       "metadata": {},
       "output_type": "display_data",
       "text": [
        "'http://www.webarchive.org.uk/interject/action/qaop/http://web.archive.org/web/20030515181553/http://www.bigblack.org.uk:80/spectrum/A/anything.sna'"
       ]
      },
      {
       "metadata": {},
       "output_type": "display_data",
       "text": [
        "'anything.sna'"
       ]
      },
      {
       "metadata": {},
       "output_type": "display_data",
       "text": [
        "'spectral-imaging/20030514172127.sna.png'"
       ]
      },
      {
       "metadata": {},
       "output_type": "display_data",
       "text": [
        "'http://www.webarchive.org.uk/interject/action/qaop/http://web.archive.org/web/20030514172127/http://www.bigblack.org.uk:80/spectrum/A/a_mole1.sna'"
       ]
      },
      {
       "metadata": {},
       "output_type": "display_data",
       "text": [
        "'a_mole1.sna'"
       ]
      },
      {
       "metadata": {},
       "output_type": "display_data",
       "text": [
        "'spectral-imaging/20030428214625.z80.png'"
       ]
      },
      {
       "metadata": {},
       "output_type": "display_data",
       "text": [
        "'http://www.webarchive.org.uk/interject/action/qaop/http://web.archive.org/web/20030428214625/http://www.bigblack.org.uk:80/spectrum/A/ADDRESS.Z80'"
       ]
      },
      {
       "metadata": {},
       "output_type": "display_data",
       "text": [
        "'ADDRESS.Z80'"
       ]
      },
      {
       "metadata": {},
       "output_type": "display_data",
       "text": [
        "'spectral-imaging/20030524154714.tap.png'"
       ]
      },
      {
       "metadata": {},
       "output_type": "display_data",
       "text": [
        "'http://www.webarchive.org.uk/interject/action/qaop/http://web.archive.org/web/20030524154714/http://www.bigblack.org.uk:80/spectrum/C/CONQUEST.TAP'"
       ]
      },
      {
       "metadata": {},
       "output_type": "display_data",
       "text": [
        "'CONQUEST.TAP'"
       ]
      },
      {
       "metadata": {},
       "output_type": "display_data",
       "text": [
        "'spectral-imaging/20030517201210.z80.png'"
       ]
      },
      {
       "metadata": {},
       "output_type": "display_data",
       "text": [
        "'http://www.webarchive.org.uk/interject/action/qaop/http://web.archive.org/web/20030517201210/http://www.bigblack.org.uk:80/spectrum/C/CABAL.Z80'"
       ]
      },
      {
       "metadata": {},
       "output_type": "display_data",
       "text": [
        "'CABAL.Z80'"
       ]
      },
      {
       "metadata": {},
       "output_type": "display_data",
       "text": [
        "'spectral-imaging/20020308180724.tap.png'"
       ]
      },
      {
       "metadata": {},
       "output_type": "display_data",
       "text": [
        "'http://www.webarchive.org.uk/interject/action/qaop/http://web.archive.org/web/20020308180724/http://www.users.globalnet.co.uk:80/~jimg/type-ins/sincuser/tgbottle.tap'"
       ]
      },
      {
       "metadata": {},
       "output_type": "display_data",
       "text": [
        "'tgbottle.tap'"
       ]
      },
      {
       "metadata": {},
       "output_type": "display_data",
       "text": [
        "'spectral-imaging/20030518205810.z80.png'"
       ]
      },
      {
       "metadata": {},
       "output_type": "display_data",
       "text": [
        "'http://www.webarchive.org.uk/interject/action/qaop/http://web.archive.org/web/20030518205810/http://www.bigblack.org.uk:80/spectrum/C/CARRIERC.Z80'"
       ]
      },
      {
       "metadata": {},
       "output_type": "display_data",
       "text": [
        "'CARRIERC.Z80'"
       ]
      },
      {
       "metadata": {},
       "output_type": "display_data",
       "text": [
        "'spectral-imaging/20030204221603.sna.png'"
       ]
      },
      {
       "metadata": {},
       "output_type": "display_data",
       "text": [
        "'http://www.webarchive.org.uk/interject/action/qaop/http://web.archive.org/web/20030204221603/http://www.bandstash.co.uk:80/jetsetgaming/JSWdemons.sna'"
       ]
      },
      {
       "metadata": {},
       "output_type": "display_data",
       "text": [
        "'JSWdemons.sna'"
       ]
      },
      {
       "metadata": {},
       "output_type": "display_data",
       "text": [
        "'spectral-imaging/20060924092216.sna.png'"
       ]
      },
      {
       "metadata": {},
       "output_type": "display_data",
       "text": [
        "'http://www.webarchive.org.uk/interject/action/qaop/http://web.archive.org/web/20060924092216/http://www.autolaunch.freeserve.co.uk/boat_run.sna'"
       ]
      },
      {
       "metadata": {},
       "output_type": "display_data",
       "text": [
        "'boat_run.sna'"
       ]
      },
      {
       "metadata": {},
       "output_type": "display_data",
       "text": [
        "'spectral-imaging/20030524153958.sna.png'"
       ]
      },
      {
       "metadata": {},
       "output_type": "display_data",
       "text": [
        "'http://www.webarchive.org.uk/interject/action/qaop/http://web.archive.org/web/20030524153958/http://www.bigblack.org.uk:80/spectrum/C/CONCERT.SNA'"
       ]
      },
      {
       "metadata": {},
       "output_type": "display_data",
       "text": [
        "'CONCERT.SNA'"
       ]
      },
      {
       "metadata": {},
       "output_type": "display_data",
       "text": [
        "'spectral-imaging/20030520211631.z80.png'"
       ]
      },
      {
       "metadata": {},
       "output_type": "display_data",
       "text": [
        "'http://www.webarchive.org.uk/interject/action/qaop/http://web.archive.org/web/20030520211631/http://www.bigblack.org.uk:80/spectrum/C/CHEMIST2.Z80'"
       ]
      },
      {
       "metadata": {},
       "output_type": "display_data",
       "text": [
        "'CHEMIST2.Z80'"
       ]
      },
      {
       "metadata": {},
       "output_type": "display_data",
       "text": [
        "'spectral-imaging/19991023031813.z80.png'"
       ]
      },
      {
       "metadata": {},
       "output_type": "display_data",
       "text": [
        "'http://www.webarchive.org.uk/interject/action/qaop/http://web.archive.org/web/19991023031813/http://wkweb1.cableinet.co.uk:80/malkc/Dizzy2.z80'"
       ]
      },
      {
       "metadata": {},
       "output_type": "display_data",
       "text": [
        "'Dizzy2.z80'"
       ]
      },
      {
       "metadata": {},
       "output_type": "display_data",
       "text": [
        "'spectral-imaging/20030519205308.z80.png'"
       ]
      },
      {
       "metadata": {},
       "output_type": "display_data",
       "text": [
        "'http://www.webarchive.org.uk/interject/action/qaop/http://web.archive.org/web/20030519205308/http://www.bigblack.org.uk:80/spectrum/C/CAR_JOUR.Z80'"
       ]
      },
      {
       "metadata": {},
       "output_type": "display_data",
       "text": [
        "'CAR_JOUR.Z80'"
       ]
      }
     ],
     "prompt_number": 85
    },
    {
     "cell_type": "code",
     "collapsed": false,
     "input": [],
     "language": "python",
     "metadata": {},
     "outputs": []
    }
   ],
   "metadata": {}
  }
 ]
}