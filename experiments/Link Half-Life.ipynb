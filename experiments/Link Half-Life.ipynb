{
 "metadata": {
  "name": ""
 },
 "nbformat": 3,
 "nbformat_minor": 0,
 "worksheets": [
  {
   "cells": [
    {
     "cell_type": "markdown",
     "metadata": {},
     "source": [
      "Link Half-Life\n",
      "--------------\n",
      "\n",
      "The goal is to randomly sample URLs from previous years of the web archive, and for each one determine its current status. Has is long since gone? Or is it still online? With a few thousand URLs, it should be possible to build up a reasonably accurate picture of the 'half-life' of the URLs in our archive.\n",
      "\n",
      "This started as a Java tool in the Shine project, but it makes more sense to sketch it out here first.\n",
      "\n",
      "Proposed possible statuses for the URIs are:\n",
      "\n",
      "~~~~ java\n",
      "\tpublic enum URIStatus {\n",
      "\t\t/* Successful request, returned the same content as the original. */\n",
      "\t\tSAME,\n",
      "\t\t/* Successful request, resulted in a redirect (307 etc.) to something which appears to be the same as the original. */\n",
      "\t\tMOVED_AND_SAME,\n",
      "\t\t/* Successful request, returns something which appears to be similar to the original. */\n",
      "\t\tSIMILAR,\n",
      "\t\t/* Successful request, resulted in a redirect (307 etc.) to something which appears to be similar to the original. */\n",
      "\t\tMOVED_AND_SIMILAR,\n",
      "\t\t/* Successful request, but resulted in a redirect (307 etc.) to something which appears to be different. */\n",
      "\t\tMOVED,\n",
      "\t\t/* Successful request, but no knowledge as to whether the content is the same. */\n",
      "\t\tFOUND,\n",
      "\t\t/* Successful request, but content gone (404 etc.) */\n",
      "\t\tNOT_FOUND,\n",
      "\t\t/* Host connected, but errored on request */\n",
      "\t\tSERVER_ERROR,\n",
      "\t\t/* Host resolves, but cannot connect */\n",
      "\t\tHOST_CONNECT_ERROR,\n",
      "\t\t/* Host resolves, but cannot be reached */\n",
      "\t\tHOST_UNREACHABLE,\n",
      "\t\t/* Host no longer resolves via DNS */\n",
      "\t\tHOST_UNRESOLVABLE,\n",
      "\t\t/* Host's domain is not registered. */\n",
      "\t\tHOST_UNREGISTERED\n",
      "\t}\n",
      "~~~~"
     ]
    },
    {
     "cell_type": "markdown",
     "metadata": {},
     "source": [
      "Sampling Solr\n",
      "-------------\n",
      "\n",
      "The first step is to randomly sample N links from each year from Solr. Faceting by year looks something like:\n",
      "\n",
      "<http://localhost:8080/discovery/select?q=*%3A*&wt=json&indent=true&rows=0&facet.range.gap=%2B1YEAR&facet.range=crawl_date&f.crawl_date.facet.range.start=1980-01-01T00:00:00Z&f.crawl_date.facet.range.end=2020-01-01T00:00:00Z&facet=on>\n",
      "\n",
      "Then something link this to sample randomly:\n",
      "\n",
      "<http://chrome.bl.uk:8080/solr/select/?q=*:*&rows=1&sort=random_2%20desc&fq=timestamp:[2004-01-01T00:00:00Z%20TO%202005-01-01T00:00:00Z]>\n",
      "    "
     ]
    }
   ],
   "metadata": {}
  }
 ]
}