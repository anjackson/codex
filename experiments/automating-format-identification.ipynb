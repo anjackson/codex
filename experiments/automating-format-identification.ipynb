{
 "metadata": {
  "name": "",
  "signature": "sha256:5767a992e7d5f08274f39e1167a819de9bc5dc5142481bf10d73b4d9dea8864b"
 },
 "nbformat": 3,
 "nbformat_minor": 0,
 "worksheets": [
  {
   "cells": [
    {
     "cell_type": "markdown",
     "metadata": {},
     "source": [
      "Given we have a Solr index with many resources indexed by:\n",
      "\n",
      "* file extension\n",
      "* server mime-type\n",
      "* first four bytes\n",
      "* first bytes shingles\n",
      "\n",
      "Can we automatically generate initial format identification signatures in the tail of the format distribution, with any degree of confidence?\n",
      "\n",
      "Inspecting a few by hand looks promising. Most cases seem to fit one of these profiles:\n",
      "\n",
      "* Direct FFB-extension mapping, with very few or no other FFBs that match with any significance.\n",
      "   * Can remove formats you match elsewhere?\n",
      "* Multiple FFBs per extension:\n",
      "    * Apparent families of similar byte mappings, perhaps F2B, but nothing else.\n",
      "    * Messes, with very varied ranges of formats.\n",
      "* Multiple extensions per FFB:\n",
      "    * Containers\n",
      "    * Formats with no in-band format signalling\n",
      "    \n",
      "Story needs to start with the size of application/octet-stream, and then generate heuristics for pulling out likely format signatures.\n",
      "\n",
      "Could also trial it against everything (i.e. ignore DROID/Tika results) and see how well it compares with them."
     ]
    },
    {
     "cell_type": "code",
     "collapsed": false,
     "input": [],
     "language": "python",
     "metadata": {},
     "outputs": []
    }
   ],
   "metadata": {}
  }
 ]
}