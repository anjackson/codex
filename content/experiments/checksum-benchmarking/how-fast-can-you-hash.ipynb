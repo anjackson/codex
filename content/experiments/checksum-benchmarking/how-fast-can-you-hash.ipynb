{
 "cells": [
  {
   "cell_type": "markdown",
   "metadata": {},
   "source": [
    "How Fast Can You Hash\n",
    "--------------------\n",
    "\n",
    "This notebook runs some basic performance tests to determine how fast we can run data through the SHA-512 or MD5 algorithms.\n",
    "\n",
    "This test uses fairly large files in an attempt to minimise the effect of the operating system caching disk data in RAM.\n",
    "\n",
    "First we set up some functions that perform basic operations to compare:\n",
    "\n",
    "* `zero_to_null` just passes zeros through the CPU, and so is as fast as anything could possibly go.\n",
    "* `zero_to_hash` runs the zeros through SHA512, so is the fastest we can possibly hash (no disk I/O).\n",
    "* `zero_to_file` streams the zeros to a file - disk write I/O only, no hash.\n",
    "* `file_to_hash` hashes a file (created with `file_to_zero`), so this is disk read I/O and hashing."
   ]
  },
  {
   "cell_type": "code",
   "execution_count": 7,
   "metadata": {
    "collapsed": false,
    "jupyter": {
     "outputs_hidden": false
    }
   },
   "outputs": [
    {
     "name": "stdout",
     "output_type": "stream",
     "text": [
      "1000+0 records in\n",
      "1000+0 records out\n",
      "1048576000 bytes transferred in 0.034961 secs (29992734762 bytes/sec)\n"
     ]
    }
   ],
   "source": [
    "from generate import ZERO_TO_NULL, cmd_runner\n",
    "\n",
    "# And as an example, here's how we can run them:\n",
    "print(cmd_runner(ZERO_TO_NULL, None).strip().decode())"
   ]
  },
  {
   "cell_type": "markdown",
   "metadata": {},
   "source": [
    "Now we can run them in parallel..., and ramp them up to see what happens when we run eight at once..."
   ]
  },
  {
   "cell_type": "markdown",
   "metadata": {},
   "source": [
    "Ramping zero-to-null tops out at 4 parallel processes, which make sense because this laptop has four cores."
   ]
  },
  {
   "cell_type": "code",
   "execution_count": 86,
   "metadata": {
    "collapsed": false,
    "jupyter": {
     "outputs_hidden": false
    }
   },
   "outputs": [
    {
     "data": {
      "text/html": [
       "\n",
       "<style>\n",
       "  #altair-viz-da3ceae300d24dd78c56a4444ef0008b.vega-embed {\n",
       "    width: 100%;\n",
       "    display: flex;\n",
       "  }\n",
       "\n",
       "  #altair-viz-da3ceae300d24dd78c56a4444ef0008b.vega-embed details,\n",
       "  #altair-viz-da3ceae300d24dd78c56a4444ef0008b.vega-embed details summary {\n",
       "    position: relative;\n",
       "  }\n",
       "</style>\n",
       "<div id=\"altair-viz-da3ceae300d24dd78c56a4444ef0008b\"></div>\n",
       "<script type=\"text/javascript\">\n",
       "  var VEGA_DEBUG = (typeof VEGA_DEBUG == \"undefined\") ? {} : VEGA_DEBUG;\n",
       "  (function(spec, embedOpt){\n",
       "    let outputDiv = document.currentScript.previousElementSibling;\n",
       "    if (outputDiv.id !== \"altair-viz-da3ceae300d24dd78c56a4444ef0008b\") {\n",
       "      outputDiv = document.getElementById(\"altair-viz-da3ceae300d24dd78c56a4444ef0008b\");\n",
       "    }\n",
       "    const paths = {\n",
       "      \"vega\": \"https://cdn.jsdelivr.net/npm/vega@5?noext\",\n",
       "      \"vega-lib\": \"https://cdn.jsdelivr.net/npm/vega-lib?noext\",\n",
       "      \"vega-lite\": \"https://cdn.jsdelivr.net/npm/vega-lite@5.20.1?noext\",\n",
       "      \"vega-embed\": \"https://cdn.jsdelivr.net/npm/vega-embed@6?noext\",\n",
       "    };\n",
       "\n",
       "    function maybeLoadScript(lib, version) {\n",
       "      var key = `${lib.replace(\"-\", \"\")}_version`;\n",
       "      return (VEGA_DEBUG[key] == version) ?\n",
       "        Promise.resolve(paths[lib]) :\n",
       "        new Promise(function(resolve, reject) {\n",
       "          var s = document.createElement('script');\n",
       "          document.getElementsByTagName(\"head\")[0].appendChild(s);\n",
       "          s.async = true;\n",
       "          s.onload = () => {\n",
       "            VEGA_DEBUG[key] = version;\n",
       "            return resolve(paths[lib]);\n",
       "          };\n",
       "          s.onerror = () => reject(`Error loading script: ${paths[lib]}`);\n",
       "          s.src = paths[lib];\n",
       "        });\n",
       "    }\n",
       "\n",
       "    function showError(err) {\n",
       "      outputDiv.innerHTML = `<div class=\"error\" style=\"color:red;\">${err}</div>`;\n",
       "      throw err;\n",
       "    }\n",
       "\n",
       "    function displayChart(vegaEmbed) {\n",
       "      vegaEmbed(outputDiv, spec, embedOpt)\n",
       "        .catch(err => showError(`Javascript Error: ${err.message}<br>This usually means there's a typo in your chart specification. See the javascript console for the full traceback.`));\n",
       "    }\n",
       "\n",
       "    if(typeof define === \"function\" && define.amd) {\n",
       "      requirejs.config({paths});\n",
       "      require([\"vega-embed\"], displayChart, err => showError(`Error loading script: ${err.message}`));\n",
       "    } else {\n",
       "      maybeLoadScript(\"vega\", \"5\")\n",
       "        .then(() => maybeLoadScript(\"vega-lite\", \"5.20.1\"))\n",
       "        .then(() => maybeLoadScript(\"vega-embed\", \"6\"))\n",
       "        .catch(showError)\n",
       "        .then(() => displayChart(vegaEmbed));\n",
       "    }\n",
       "  })({\"config\": {\"view\": {\"continuousWidth\": 300, \"continuousHeight\": 300}}, \"data\": {\"name\": \"data-f3c59e0c4d394d0f2ba761bdd9b1177d\"}, \"facet\": {\"column\": {\"field\": \"mode\", \"type\": \"nominal\"}}, \"spec\": {\"mark\": {\"type\": \"line\", \"point\": true}, \"encoding\": {\"color\": {\"field\": \"hash\", \"type\": \"nominal\"}, \"tooltip\": [{\"field\": \"mode\", \"type\": \"nominal\"}, {\"field\": \"n_files\", \"type\": \"quantitative\"}, {\"field\": \"n_proc\", \"type\": \"quantitative\"}, {\"field\": \"hash\", \"type\": \"nominal\"}, {\"field\": \"MBps\", \"type\": \"quantitative\"}], \"x\": {\"field\": \"n_proc\", \"type\": \"ordinal\"}, \"y\": {\"field\": \"MBps\", \"type\": \"quantitative\"}}, \"height\": 300, \"transform\": [{\"filter\": \"((datum.hash !== '') || (datum.mode !== ''))\"}], \"width\": 300}, \"$schema\": \"https://vega.github.io/schema/vega-lite/v5.20.1.json\", \"datasets\": {\"data-f3c59e0c4d394d0f2ba761bdd9b1177d\": [{\"hash\": \"\", \"mode\": \"\", \"n_files\": 0, \"n_proc\": 1, \"total_bytes\": 1024000000, \"time_s\": 0.062083959579467, \"bps\": 16493793355.581244, \"MBps\": 16493.793355581245}, {\"hash\": \"\", \"mode\": \"\", \"n_files\": 0, \"n_proc\": 2, \"total_bytes\": 2048000000, \"time_s\": 0.060539960861206006, \"bps\": 33828895342.288803, \"MBps\": 33828.8953422888}, {\"hash\": \"\", \"mode\": \"\", \"n_files\": 0, \"n_proc\": 3, \"total_bytes\": 3072000000, \"time_s\": 0.063783884048461, \"bps\": 48162636155.332695, \"MBps\": 48162.63615533269}, {\"hash\": \"\", \"mode\": \"\", \"n_files\": 0, \"n_proc\": 4, \"total_bytes\": 4096000000, \"time_s\": 0.065246105194091, \"bps\": 62777693592.82619, \"MBps\": 62777.69359282619}, {\"hash\": \"\", \"mode\": \"\", \"n_files\": 0, \"n_proc\": 5, \"total_bytes\": 5120000000, \"time_s\": 0.07101488113403301, \"bps\": 72097564879.90923, \"MBps\": 72097.56487990923}, {\"hash\": \"\", \"mode\": \"\", \"n_files\": 0, \"n_proc\": 6, \"total_bytes\": 6144000000, \"time_s\": 0.07365083694458001, \"bps\": 83420640618.42455, \"MBps\": 83420.64061842454}, {\"hash\": \"\", \"mode\": \"\", \"n_files\": 0, \"n_proc\": 7, \"total_bytes\": 7168000000, \"time_s\": 0.080404043197631, \"bps\": 89149745646.26274, \"MBps\": 89149.74564626275}, {\"hash\": \"\", \"mode\": \"\", \"n_files\": 0, \"n_proc\": 8, \"total_bytes\": 8192000000, \"time_s\": 0.091712951660156, \"bps\": 89322171533.15031, \"MBps\": 89322.17153315031}, {\"hash\": \"\", \"mode\": \"\", \"n_files\": 0, \"n_proc\": 9, \"total_bytes\": 9216000000, \"time_s\": 0.103168010711669, \"bps\": 89330015538.98843, \"MBps\": 89330.01553898843}, {\"hash\": \"\", \"mode\": \"\", \"n_files\": 0, \"n_proc\": 10, \"total_bytes\": 10240000000, \"time_s\": 0.10803198814392001, \"bps\": 94786740260.28482, \"MBps\": 94786.74026028482}, {\"hash\": \"\", \"mode\": \"\", \"n_files\": 0, \"n_proc\": 11, \"total_bytes\": 11264000000, \"time_s\": 0.11658096313476501, \"bps\": 96619548313.20964, \"MBps\": 96619.54831320964}, {\"hash\": \"\", \"mode\": \"\", \"n_files\": 0, \"n_proc\": 12, \"total_bytes\": 12288000000, \"time_s\": 0.11845612525939901, \"bps\": 103734610372.3324, \"MBps\": 103734.61037233239}, {\"hash\": \"\", \"mode\": \"\", \"n_files\": 0, \"n_proc\": 13, \"total_bytes\": 13312000000, \"time_s\": 0.13315987586975, \"bps\": 99970054140.19011, \"MBps\": 99970.05414019011}, {\"hash\": \"\", \"mode\": \"\", \"n_files\": 0, \"n_proc\": 14, \"total_bytes\": 14336000000, \"time_s\": 0.138503313064575, \"bps\": 103506549286.05241, \"MBps\": 103506.54928605241}, {\"hash\": \"\", \"mode\": \"\", \"n_files\": 0, \"n_proc\": 15, \"total_bytes\": 15360000000, \"time_s\": 0.149500131607055, \"bps\": 102742384470.75108, \"MBps\": 102742.38447075109}, {\"hash\": \"\", \"mode\": \"\", \"n_files\": 0, \"n_proc\": 16, \"total_bytes\": 16384000000, \"time_s\": 0.171000242233276, \"bps\": 95812729771.74591, \"MBps\": 95812.72977174592}, {\"hash\": \"SHA512\", \"mode\": \"\", \"n_files\": 0, \"n_proc\": 1, \"total_bytes\": 1024000000, \"time_s\": 0.888412952423095, \"bps\": 1152617144.0962205, \"MBps\": 1152.6171440962205}, {\"hash\": \"SHA512\", \"mode\": \"\", \"n_files\": 0, \"n_proc\": 2, \"total_bytes\": 2048000000, \"time_s\": 0.9241249561309811, \"bps\": 2216150517.7550097, \"MBps\": 2216.15051775501}, {\"hash\": \"SHA512\", \"mode\": \"\", \"n_files\": 0, \"n_proc\": 3, \"total_bytes\": 3072000000, \"time_s\": 0.9235708713531491, \"bps\": 3326220104.255916, \"MBps\": 3326.2201042559163}, {\"hash\": \"SHA512\", \"mode\": \"\", \"n_files\": 0, \"n_proc\": 4, \"total_bytes\": 4096000000, \"time_s\": 0.953582048416137, \"bps\": 4295382874.293088, \"MBps\": 4295.382874293088}, {\"hash\": \"SHA512\", \"mode\": \"\", \"n_files\": 0, \"n_proc\": 5, \"total_bytes\": 5120000000, \"time_s\": 0.954625129699707, \"bps\": 5363361848.237308, \"MBps\": 5363.361848237308}, {\"hash\": \"SHA512\", \"mode\": \"\", \"n_files\": 0, \"n_proc\": 6, \"total_bytes\": 6144000000, \"time_s\": 1.14863896369934, \"bps\": 5348939217.778623, \"MBps\": 5348.939217778623}, {\"hash\": \"SHA512\", \"mode\": \"\", \"n_files\": 0, \"n_proc\": 7, \"total_bytes\": 7168000000, \"time_s\": 1.380985736846923, \"bps\": 5190495317.037833, \"MBps\": 5190.495317037833}, {\"hash\": \"SHA512\", \"mode\": \"\", \"n_files\": 0, \"n_proc\": 8, \"total_bytes\": 8192000000, \"time_s\": 1.53911805152893, \"bps\": 5322528698.732512, \"MBps\": 5322.528698732513}, {\"hash\": \"SHA512\", \"mode\": \"\", \"n_files\": 0, \"n_proc\": 9, \"total_bytes\": 9216000000, \"time_s\": 1.621100902557373, \"bps\": 5685025519.053915, \"MBps\": 5685.025519053915}, {\"hash\": \"SHA512\", \"mode\": \"\", \"n_files\": 0, \"n_proc\": 10, \"total_bytes\": 10240000000, \"time_s\": 1.762580871582031, \"bps\": 5809662504.058002, \"MBps\": 5809.662504058003}, {\"hash\": \"SHA512\", \"mode\": \"\", \"n_files\": 0, \"n_proc\": 11, \"total_bytes\": 11264000000, \"time_s\": 2.0686311721801762, \"bps\": 5445146602.972546, \"MBps\": 5445.146602972545}, {\"hash\": \"SHA512\", \"mode\": \"\", \"n_files\": 0, \"n_proc\": 12, \"total_bytes\": 12288000000, \"time_s\": 2.241930961608886, \"bps\": 5480989473.102111, \"MBps\": 5480.98947310211}, {\"hash\": \"SHA512\", \"mode\": \"\", \"n_files\": 0, \"n_proc\": 13, \"total_bytes\": 13312000000, \"time_s\": 2.369264125823974, \"bps\": 5618622193.661248, \"MBps\": 5618.622193661248}, {\"hash\": \"SHA512\", \"mode\": \"\", \"n_files\": 0, \"n_proc\": 14, \"total_bytes\": 14336000000, \"time_s\": 2.410673856735229, \"bps\": 5946884917.653363, \"MBps\": 5946.884917653363}, {\"hash\": \"SHA512\", \"mode\": \"\", \"n_files\": 0, \"n_proc\": 15, \"total_bytes\": 15360000000, \"time_s\": 2.602847337722778, \"bps\": 5901229694.646021, \"MBps\": 5901.229694646021}, {\"hash\": \"SHA512\", \"mode\": \"\", \"n_files\": 0, \"n_proc\": 16, \"total_bytes\": 16384000000, \"time_s\": 2.577867984771728, \"bps\": 6355639659.12351, \"MBps\": 6355.639659123511}, {\"hash\": \"MD5\", \"mode\": \"\", \"n_files\": 0, \"n_proc\": 1, \"total_bytes\": 1024000000, \"time_s\": 1.7447500228881831, \"bps\": 586903560.1472094, \"MBps\": 586.9035601472094}, {\"hash\": \"MD5\", \"mode\": \"\", \"n_files\": 0, \"n_proc\": 2, \"total_bytes\": 2048000000, \"time_s\": 1.7483041286468501, \"bps\": 1171420902.3718932, \"MBps\": 1171.4209023718931}, {\"hash\": \"MD5\", \"mode\": \"\", \"n_files\": 0, \"n_proc\": 3, \"total_bytes\": 3072000000, \"time_s\": 1.829503059387207, \"bps\": 1679144500.0529094, \"MBps\": 1679.1445000529093}, {\"hash\": \"MD5\", \"mode\": \"\", \"n_files\": 0, \"n_proc\": 4, \"total_bytes\": 4096000000, \"time_s\": 1.7877247333526611, \"bps\": 2291180472.912319, \"MBps\": 2291.180472912319}, {\"hash\": \"MD5\", \"mode\": \"\", \"n_files\": 0, \"n_proc\": 5, \"total_bytes\": 5120000000, \"time_s\": 1.818634033203125, \"bps\": 2815299783.531623, \"MBps\": 2815.299783531623}, {\"hash\": \"MD5\", \"mode\": \"\", \"n_files\": 0, \"n_proc\": 6, \"total_bytes\": 6144000000, \"time_s\": 1.8835608959197991, \"bps\": 3261906749.7680764, \"MBps\": 3261.906749768076}, {\"hash\": \"MD5\", \"mode\": \"\", \"n_files\": 0, \"n_proc\": 7, \"total_bytes\": 7168000000, \"time_s\": 2.091787099838257, \"bps\": 3426734967.700227, \"MBps\": 3426.7349677002267}, {\"hash\": \"MD5\", \"mode\": \"\", \"n_files\": 0, \"n_proc\": 8, \"total_bytes\": 8192000000, \"time_s\": 2.281913995742798, \"bps\": 3589968778.5268083, \"MBps\": 3589.9687785268084}, {\"hash\": \"MD5\", \"mode\": \"\", \"n_files\": 0, \"n_proc\": 9, \"total_bytes\": 9216000000, \"time_s\": 2.450446844100952, \"bps\": 3760946711.48897, \"MBps\": 3760.94671148897}, {\"hash\": \"MD5\", \"mode\": \"\", \"n_files\": 0, \"n_proc\": 10, \"total_bytes\": 10240000000, \"time_s\": 2.746600866317749, \"bps\": 3728244655.266687, \"MBps\": 3728.244655266687}, {\"hash\": \"MD5\", \"mode\": \"\", \"n_files\": 0, \"n_proc\": 11, \"total_bytes\": 11264000000, \"time_s\": 2.9651293754577632, \"bps\": 3798822436.967371, \"MBps\": 3798.822436967371}, {\"hash\": \"MD5\", \"mode\": \"\", \"n_files\": 0, \"n_proc\": 12, \"total_bytes\": 12288000000, \"time_s\": 3.262809991836548, \"bps\": 3766078941.386169, \"MBps\": 3766.078941386169}, {\"hash\": \"MD5\", \"mode\": \"\", \"n_files\": 0, \"n_proc\": 13, \"total_bytes\": 13312000000, \"time_s\": 3.656224012374878, \"bps\": 3640914767.5153723, \"MBps\": 3640.914767515372}, {\"hash\": \"MD5\", \"mode\": \"\", \"n_files\": 0, \"n_proc\": 14, \"total_bytes\": 14336000000, \"time_s\": 3.779195070266723, \"bps\": 3793400375.8605165, \"MBps\": 3793.4003758605168}, {\"hash\": \"MD5\", \"mode\": \"\", \"n_files\": 0, \"n_proc\": 15, \"total_bytes\": 15360000000, \"time_s\": 4.084811925888061, \"bps\": 3760271042.7507987, \"MBps\": 3760.2710427507986}, {\"hash\": \"MD5\", \"mode\": \"\", \"n_files\": 0, \"n_proc\": 16, \"total_bytes\": 16384000000, \"time_s\": 4.285045862197876, \"bps\": 3823529672.0013065, \"MBps\": 3823.5296720013066}, {\"hash\": \"\", \"mode\": \"w\", \"n_files\": 1, \"n_proc\": 1, \"total_bytes\": 1024000000, \"time_s\": 0.7663612365722651, \"bps\": 1336184492.5509093, \"MBps\": 1336.1844925509092}, {\"hash\": \"\", \"mode\": \"w\", \"n_files\": 2, \"n_proc\": 2, \"total_bytes\": 2048000000, \"time_s\": 0.8873622417449951, \"bps\": 2307963877.269123, \"MBps\": 2307.9638772691233}, {\"hash\": \"\", \"mode\": \"w\", \"n_files\": 3, \"n_proc\": 3, \"total_bytes\": 3072000000, \"time_s\": 1.066810131072998, \"bps\": 2879612698.1941776, \"MBps\": 2879.6126981941775}, {\"hash\": \"\", \"mode\": \"w\", \"n_files\": 4, \"n_proc\": 4, \"total_bytes\": 4096000000, \"time_s\": 1.392943143844604, \"bps\": 2940536387.3609376, \"MBps\": 2940.5363873609376}, {\"hash\": \"\", \"mode\": \"w\", \"n_files\": 5, \"n_proc\": 5, \"total_bytes\": 5120000000, \"time_s\": 2.660995006561279, \"bps\": 1924092299.0744038, \"MBps\": 1924.0922990744039}, {\"hash\": \"\", \"mode\": \"w\", \"n_files\": 6, \"n_proc\": 6, \"total_bytes\": 6144000000, \"time_s\": 1.6823639869689941, \"bps\": 3652003994.135208, \"MBps\": 3652.003994135208}, {\"hash\": \"\", \"mode\": \"w\", \"n_files\": 7, \"n_proc\": 7, \"total_bytes\": 7168000000, \"time_s\": 3.049017190933227, \"bps\": 2350921477.6864066, \"MBps\": 2350.9214776864064}, {\"hash\": \"\", \"mode\": \"w\", \"n_files\": 8, \"n_proc\": 8, \"total_bytes\": 8192000000, \"time_s\": 3.259578943252563, \"bps\": 2513208037.792032, \"MBps\": 2513.208037792032}, {\"hash\": \"\", \"mode\": \"w\", \"n_files\": 9, \"n_proc\": 9, \"total_bytes\": 9216000000, \"time_s\": 3.931752204895019, \"bps\": 2343993090.0340333, \"MBps\": 2343.9930900340332}, {\"hash\": \"\", \"mode\": \"w\", \"n_files\": 10, \"n_proc\": 10, \"total_bytes\": 10240000000, \"time_s\": 3.291652917861938, \"bps\": 3110899069.714584, \"MBps\": 3110.8990697145837}, {\"hash\": \"\", \"mode\": \"w\", \"n_files\": 11, \"n_proc\": 11, \"total_bytes\": 11264000000, \"time_s\": 6.334929943084717, \"bps\": 1778078068.9289095, \"MBps\": 1778.0780689289095}, {\"hash\": \"\", \"mode\": \"w\", \"n_files\": 12, \"n_proc\": 12, \"total_bytes\": 12288000000, \"time_s\": 8.587221145629883, \"bps\": 1430963496.9926772, \"MBps\": 1430.9634969926772}, {\"hash\": \"\", \"mode\": \"w\", \"n_files\": 13, \"n_proc\": 13, \"total_bytes\": 13312000000, \"time_s\": 7.984639883041382, \"bps\": 1667201050.390942, \"MBps\": 1667.201050390942}, {\"hash\": \"\", \"mode\": \"w\", \"n_files\": 14, \"n_proc\": 14, \"total_bytes\": 14336000000, \"time_s\": 8.018943071365356, \"bps\": 1787766775.7976813, \"MBps\": 1787.7667757976812}, {\"hash\": \"\", \"mode\": \"w\", \"n_files\": 15, \"n_proc\": 15, \"total_bytes\": 15360000000, \"time_s\": 10.994459867477417, \"bps\": 1397067267.0729587, \"MBps\": 1397.0672670729587}, {\"hash\": \"\", \"mode\": \"w\", \"n_files\": 16, \"n_proc\": 16, \"total_bytes\": 16384000000, \"time_s\": 12.912508010864258, \"bps\": 1268847228.301033, \"MBps\": 1268.847228301033}, {\"hash\": \"\", \"mode\": \"r\", \"n_files\": 1, \"n_proc\": 1, \"total_bytes\": 1024000000, \"time_s\": 0.337275981903076, \"bps\": 3036089300.584319, \"MBps\": 3036.089300584319}, {\"hash\": \"\", \"mode\": \"r\", \"n_files\": 2, \"n_proc\": 2, \"total_bytes\": 2048000000, \"time_s\": 0.307237863540649, \"bps\": 6665845076.510361, \"MBps\": 6665.845076510361}, {\"hash\": \"\", \"mode\": \"r\", \"n_files\": 3, \"n_proc\": 3, \"total_bytes\": 3072000000, \"time_s\": 0.32286691665649403, \"bps\": 9514756209.191833, \"MBps\": 9514.756209191833}, {\"hash\": \"\", \"mode\": \"r\", \"n_files\": 4, \"n_proc\": 4, \"total_bytes\": 4096000000, \"time_s\": 0.563154220581054, \"bps\": 7273318480.635383, \"MBps\": 7273.318480635383}, {\"hash\": \"\", \"mode\": \"r\", \"n_files\": 5, \"n_proc\": 5, \"total_bytes\": 5120000000, \"time_s\": 0.870397090911865, \"bps\": 5882372601.493956, \"MBps\": 5882.372601493956}, {\"hash\": \"\", \"mode\": \"r\", \"n_files\": 6, \"n_proc\": 6, \"total_bytes\": 6144000000, \"time_s\": 1.034161329269409, \"bps\": 5941045972.334388, \"MBps\": 5941.045972334387}, {\"hash\": \"\", \"mode\": \"r\", \"n_files\": 7, \"n_proc\": 7, \"total_bytes\": 7168000000, \"time_s\": 1.214401960372924, \"bps\": 5902493765.572327, \"MBps\": 5902.493765572327}, {\"hash\": \"\", \"mode\": \"r\", \"n_files\": 8, \"n_proc\": 8, \"total_bytes\": 8192000000, \"time_s\": 1.403068304061889, \"bps\": 5838632357.586669, \"MBps\": 5838.632357586669}, {\"hash\": \"\", \"mode\": \"r\", \"n_files\": 9, \"n_proc\": 9, \"total_bytes\": 9216000000, \"time_s\": 1.5666220188140871, \"bps\": 5882720840.96992, \"MBps\": 5882.720840969921}, {\"hash\": \"\", \"mode\": \"r\", \"n_files\": 10, \"n_proc\": 10, \"total_bytes\": 10240000000, \"time_s\": 1.729295015335083, \"bps\": 5921488184.024985, \"MBps\": 5921.4881840249855}, {\"hash\": \"\", \"mode\": \"r\", \"n_files\": 11, \"n_proc\": 11, \"total_bytes\": 11264000000, \"time_s\": 1.8439791202545162, \"bps\": 6108529037.164628, \"MBps\": 6108.529037164628}, {\"hash\": \"\", \"mode\": \"r\", \"n_files\": 12, \"n_proc\": 12, \"total_bytes\": 12288000000, \"time_s\": 1.9355068206787112, \"bps\": 6348724720.944694, \"MBps\": 6348.724720944693}, {\"hash\": \"\", \"mode\": \"r\", \"n_files\": 13, \"n_proc\": 13, \"total_bytes\": 13312000000, \"time_s\": 2.075551986694336, \"bps\": 6413715524.997083, \"MBps\": 6413.715524997083}, {\"hash\": \"\", \"mode\": \"r\", \"n_files\": 14, \"n_proc\": 14, \"total_bytes\": 14336000000, \"time_s\": 2.248324155807495, \"bps\": 6376304752.572996, \"MBps\": 6376.304752572996}, {\"hash\": \"\", \"mode\": \"r\", \"n_files\": 15, \"n_proc\": 15, \"total_bytes\": 15360000000, \"time_s\": 2.410245895385742, \"bps\": 6372793759.095582, \"MBps\": 6372.793759095582}, {\"hash\": \"\", \"mode\": \"r\", \"n_files\": 16, \"n_proc\": 16, \"total_bytes\": 16384000000, \"time_s\": 2.635041236877441, \"bps\": 6217739506.579888, \"MBps\": 6217.739506579888}, {\"hash\": \"SHA512\", \"mode\": \"r\", \"n_files\": 1, \"n_proc\": 1, \"total_bytes\": 1024000000, \"time_s\": 1.094633817672729, \"bps\": 935472651.646281, \"MBps\": 935.472651646281}, {\"hash\": \"SHA512\", \"mode\": \"r\", \"n_files\": 2, \"n_proc\": 2, \"total_bytes\": 2048000000, \"time_s\": 1.006410121917724, \"bps\": 2034955685.955856, \"MBps\": 2034.955685955856}, {\"hash\": \"SHA512\", \"mode\": \"r\", \"n_files\": 3, \"n_proc\": 3, \"total_bytes\": 3072000000, \"time_s\": 1.034200668334961, \"bps\": 2970409993.0102043, \"MBps\": 2970.4099930102043}, {\"hash\": \"SHA512\", \"mode\": \"r\", \"n_files\": 4, \"n_proc\": 4, \"total_bytes\": 4096000000, \"time_s\": 1.102398157119751, \"bps\": 3715535964.520903, \"MBps\": 3715.5359645209032}, {\"hash\": \"SHA512\", \"mode\": \"r\", \"n_files\": 5, \"n_proc\": 5, \"total_bytes\": 5120000000, \"time_s\": 1.144692182540893, \"bps\": 4472818176.005225, \"MBps\": 4472.818176005225}, {\"hash\": \"SHA512\", \"mode\": \"r\", \"n_files\": 6, \"n_proc\": 6, \"total_bytes\": 6144000000, \"time_s\": 1.299072980880737, \"bps\": 4729526431.86723, \"MBps\": 4729.526431867231}, {\"hash\": \"SHA512\", \"mode\": \"r\", \"n_files\": 7, \"n_proc\": 7, \"total_bytes\": 7168000000, \"time_s\": 1.453860759735107, \"bps\": 4930320838.500384, \"MBps\": 4930.3208385003845}, {\"hash\": \"SHA512\", \"mode\": \"r\", \"n_files\": 8, \"n_proc\": 8, \"total_bytes\": 8192000000, \"time_s\": 1.6306817531585691, \"bps\": 5023665705.54457, \"MBps\": 5023.66570554457}, {\"hash\": \"SHA512\", \"mode\": \"r\", \"n_files\": 9, \"n_proc\": 9, \"total_bytes\": 9216000000, \"time_s\": 1.8458349704742432, \"bps\": 4992862388.79317, \"MBps\": 4992.86238879317}, {\"hash\": \"SHA512\", \"mode\": \"r\", \"n_files\": 10, \"n_proc\": 10, \"total_bytes\": 10240000000, \"time_s\": 1.9169518947601312, \"bps\": 5341813755.467938, \"MBps\": 5341.813755467939}, {\"hash\": \"SHA512\", \"mode\": \"r\", \"n_files\": 11, \"n_proc\": 11, \"total_bytes\": 11264000000, \"time_s\": 2.150716066360473, \"bps\": 5237325454.615395, \"MBps\": 5237.325454615395}, {\"hash\": \"SHA512\", \"mode\": \"r\", \"n_files\": 12, \"n_proc\": 12, \"total_bytes\": 12288000000, \"time_s\": 2.334487199783325, \"bps\": 5263682748.459922, \"MBps\": 5263.682748459922}, {\"hash\": \"SHA512\", \"mode\": \"r\", \"n_files\": 13, \"n_proc\": 13, \"total_bytes\": 13312000000, \"time_s\": 2.581217050552368, \"bps\": 5157257115.263242, \"MBps\": 5157.257115263242}, {\"hash\": \"SHA512\", \"mode\": \"r\", \"n_files\": 14, \"n_proc\": 14, \"total_bytes\": 14336000000, \"time_s\": 2.798648118972778, \"bps\": 5122473205.120876, \"MBps\": 5122.473205120877}, {\"hash\": \"SHA512\", \"mode\": \"r\", \"n_files\": 15, \"n_proc\": 15, \"total_bytes\": 15360000000, \"time_s\": 3.020184993743896, \"bps\": 5085781179.56919, \"MBps\": 5085.78117956919}, {\"hash\": \"SHA512\", \"mode\": \"r\", \"n_files\": 16, \"n_proc\": 16, \"total_bytes\": 16384000000, \"time_s\": 3.352045059204101, \"bps\": 4887762458.625829, \"MBps\": 4887.762458625829}, {\"hash\": \"MD5\", \"mode\": \"r\", \"n_files\": 1, \"n_proc\": 1, \"total_bytes\": 1024000000, \"time_s\": 1.7588860988616941, \"bps\": 582186646.800328, \"MBps\": 582.186646800328}, {\"hash\": \"MD5\", \"mode\": \"r\", \"n_files\": 2, \"n_proc\": 2, \"total_bytes\": 2048000000, \"time_s\": 1.798254013061523, \"bps\": 1138882485.5245476, \"MBps\": 1138.8824855245475}, {\"hash\": \"MD5\", \"mode\": \"r\", \"n_files\": 3, \"n_proc\": 3, \"total_bytes\": 3072000000, \"time_s\": 1.841229915618896, \"bps\": 1668449971.3700352, \"MBps\": 1668.4499713700352}, {\"hash\": \"MD5\", \"mode\": \"r\", \"n_files\": 4, \"n_proc\": 4, \"total_bytes\": 4096000000, \"time_s\": 1.919374942779541, \"bps\": 2134028067.527224, \"MBps\": 2134.0280675272243}, {\"hash\": \"MD5\", \"mode\": \"r\", \"n_files\": 5, \"n_proc\": 5, \"total_bytes\": 5120000000, \"time_s\": 1.952434062957763, \"bps\": 2622367688.178753, \"MBps\": 2622.367688178753}, {\"hash\": \"MD5\", \"mode\": \"r\", \"n_files\": 6, \"n_proc\": 6, \"total_bytes\": 6144000000, \"time_s\": 2.110620021820068, \"bps\": 2910992948.272041, \"MBps\": 2910.992948272041}, {\"hash\": \"MD5\", \"mode\": \"r\", \"n_files\": 7, \"n_proc\": 7, \"total_bytes\": 7168000000, \"time_s\": 2.510966062545776, \"bps\": 2854678168.263504, \"MBps\": 2854.678168263504}, {\"hash\": \"MD5\", \"mode\": \"r\", \"n_files\": 8, \"n_proc\": 8, \"total_bytes\": 8192000000, \"time_s\": 2.63053011894226, \"bps\": 3114201179.834433, \"MBps\": 3114.201179834433}, {\"hash\": \"MD5\", \"mode\": \"r\", \"n_files\": 9, \"n_proc\": 9, \"total_bytes\": 9216000000, \"time_s\": 2.865820169448852, \"bps\": 3215833323.4748635, \"MBps\": 3215.8333234748634}, {\"hash\": \"MD5\", \"mode\": \"r\", \"n_files\": 10, \"n_proc\": 10, \"total_bytes\": 10240000000, \"time_s\": 3.138563871383667, \"bps\": 3262638716.1863284, \"MBps\": 3262.6387161863286}, {\"hash\": \"MD5\", \"mode\": \"r\", \"n_files\": 11, \"n_proc\": 11, \"total_bytes\": 11264000000, \"time_s\": 3.505679130554199, \"bps\": 3213072155.357047, \"MBps\": 3213.072155357047}, {\"hash\": \"MD5\", \"mode\": \"r\", \"n_files\": 12, \"n_proc\": 12, \"total_bytes\": 12288000000, \"time_s\": 3.762472152709961, \"bps\": 3265937793.359995, \"MBps\": 3265.937793359995}, {\"hash\": \"MD5\", \"mode\": \"r\", \"n_files\": 13, \"n_proc\": 13, \"total_bytes\": 13312000000, \"time_s\": 4.177257061004639, \"bps\": 3186780177.899427, \"MBps\": 3186.780177899427}, {\"hash\": \"MD5\", \"mode\": \"r\", \"n_files\": 14, \"n_proc\": 14, \"total_bytes\": 14336000000, \"time_s\": 4.325653076171875, \"bps\": 3314181638.599437, \"MBps\": 3314.181638599437}, {\"hash\": \"MD5\", \"mode\": \"r\", \"n_files\": 15, \"n_proc\": 15, \"total_bytes\": 15360000000, \"time_s\": 4.654284954071045, \"bps\": 3300184701.103184, \"MBps\": 3300.184701103184}, {\"hash\": \"MD5\", \"mode\": \"r\", \"n_files\": 16, \"n_proc\": 16, \"total_bytes\": 16384000000, \"time_s\": 4.936327934265137, \"bps\": 3319066362.3200026, \"MBps\": 3319.0663623200026}]}}, {\"mode\": \"vega-lite\"});\n",
       "</script>"
      ],
      "text/plain": [
       "alt.FacetChart(...)"
      ]
     },
     "execution_count": 86,
     "metadata": {},
     "output_type": "execute_result"
    }
   ],
   "source": [
    "import pandas as pd\n",
    "import altair as alt\n",
    "from altair import datum\n",
    "\n",
    "# Load the data\n",
    "df = pd.DataFrame(pd.read_json('hasher-runs-MBP-2021-16GB-M1-8CORES-2.jsonl', lines=True))\n",
    "\n",
    "# Lay out the useful results:\n",
    "alt.Chart(df).mark_line(point=True).encode(\n",
    "    x='n_proc:O',\n",
    "    y='MBps:Q',\n",
    "    color='hash:N',\n",
    "    tooltip=['mode', 'n_files', 'n_proc', 'hash', 'MBps' ],\n",
    ").transform_filter(\n",
    "    # Filters out the results where both hash and mode are empty:\n",
    "    (datum.hash != '' ) | ( datum.mode != '')\n",
    ").properties(\n",
    "    width=300,\n",
    "    height=300,\n",
    ").facet(\n",
    "    column='mode:N'\n",
    ")"
   ]
  },
  {
   "cell_type": "markdown",
   "metadata": {},
   "source": [
    "Similarly ramping the hash function (no I/O) tops out at 4 cores, at about 950MB/s (about 300MB/s/core but it seems there are some overheads/contention that drops it down slightly when running on all four)."
   ]
  },
  {
   "cell_type": "markdown",
   "metadata": {
    "collapsed": true,
    "jupyter": {
     "outputs_hidden": true
    }
   },
   "source": [
    "Switching to MD5, the maximum speed is about 2800MB/s (interesting that the performance now tops out at 6, which implies some level of low-level paralellism is allowing this to run even faster!)"
   ]
  },
  {
   "cell_type": "markdown",
   "metadata": {},
   "source": [
    "Remarkably, on this laptop, we can stream data into a file at 1,200MB/s (!) which is shared across all cores. Further testing outside of this notebook indicated that this was real I/O speed and not due to files being cached in RAM."
   ]
  },
  {
   "cell_type": "markdown",
   "metadata": {},
   "source": [
    "Consequently, as the I/O is so fast, and the CPU has only four cores, we cannot saturate the bandwith of this machine:"
   ]
  },
  {
   "cell_type": "markdown",
   "metadata": {},
   "source": [
    "So, in general, if we're hashing lots of files, we'll tend to run out of I/O before we run out of CPU. However, it depends on lots of things, so it's probably worth benchmarking your own kit.\n",
    "\n",
    "Note that, if the data you are caching is fairly small, your operating system will likely cache it all in RAM rather ran re-reading from disk. In that case you'll get much higher speeds when tests are re-run.\n",
    "\n",
    "Also, there's some subtle issues not investigated here. For example, if you have a lot of small files, then your read speeds can be very low on HDD-based systems, because the disk spends more time seeking to the start of files than it does reading data, and seeking is generally slower than reading.\n",
    "\n",
    "Secondly, on some systems, particularly smaller HDD arrays, I/O speed can drop when you run multiple threads, because the different read requests start to compete with each-other. More heavily RAID-ed systems can compensate for this, but you only have so make HD read heads you can position at one time, and the precise balance will depend on file sizes and how they are distributed across the drives.\n",
    "\n",
    "Generally, with SSD's, these issues are less severe.\n",
    "\n"
   ]
  },
  {
   "cell_type": "code",
   "execution_count": null,
   "metadata": {
    "collapsed": true,
    "jupyter": {
     "outputs_hidden": true
    }
   },
   "outputs": [],
   "source": []
  }
 ],
 "metadata": {
  "kernelspec": {
   "display_name": "Python 3 (ipykernel)",
   "language": "python",
   "name": "python3"
  },
  "language_info": {
   "codemirror_mode": {
    "name": "ipython",
    "version": 3
   },
   "file_extension": ".py",
   "mimetype": "text/x-python",
   "name": "python",
   "nbconvert_exporter": "python",
   "pygments_lexer": "ipython3",
   "version": "3.11.1"
  }
 },
 "nbformat": 4,
 "nbformat_minor": 4
}
