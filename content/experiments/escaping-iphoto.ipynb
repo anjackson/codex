{
 "cells": [
  {
   "cell_type": "markdown",
   "metadata": {},
   "source": [
    "iPhoto X-(\n",
    "Apple Photos X-O\n",
    "\n",
    "Options\n",
    "\n",
    "* [Import into Google Picasa](https://support.google.com/picasa/answer/134847?hl=en-GB)\n",
    "* [iPhotoToDisk (Shareware)](http://www.iphototodisk.com)\n",
    "* [phoshare (OS)](https://code.google.com/p/phoshare/) but [discontinued](https://groups.google.com/forum/?fromgroups=#!topic/phoshare-users/moWsMcD5SdQ).\n",
    "\n",
    "Features\n",
    "\n",
    "* Edited version and original\n",
    "* Keywords\n",
    "* Star-ratings\n",
    "* Faces\n",
    "* Stills and video\n",
    "* ...\n"
   ]
  },
  {
   "cell_type": "code",
   "execution_count": null,
   "metadata": {
    "collapsed": true
   },
   "outputs": [],
   "source": []
  }
 ],
 "metadata": {
  "kernelspec": {
   "display_name": "Python 3",
   "language": "python",
   "name": "python3"
  },
  "language_info": {
   "codemirror_mode": {
    "name": "ipython",
    "version": 3
   },
   "file_extension": ".py",
   "mimetype": "text/x-python",
   "name": "python",
   "nbconvert_exporter": "python",
   "pygments_lexer": "ipython3",
   "version": "3.4.3"
  }
 },
 "nbformat": 4,
 "nbformat_minor": 0
}
