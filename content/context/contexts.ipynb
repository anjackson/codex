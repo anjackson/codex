{
 "cells": [
  {
   "cell_type": "markdown",
   "metadata": {},
   "source": [
    "# Contexts\n",
    "\n",
    "What kinds of environments do archives operate in? How does this affect the way things work, and the communities the archive works with?\n",
    "\n",
    "## The OAIS Environment\n",
    "\n",
    "The [Open Archival Information System (OAIS)][1] presents a simple model for the environment an archive operates in:\n",
    "\n",
    "![The OAIS environment model.](./images/oais-environment.png)\n",
    "\n",
    "\n",
    "## Kinds of Environment\n",
    "\n",
    "Audiences, internal archive, enchanced care of the same to the same audence. e.g. BBC Archive.\n",
    "\n",
    "\n",
    "See {doc}`/asides/spacetime-plots/index` for examples.\n",
    "\n",
    "...\n",
    "\n",
    "\n",
    "\n",
    "\n",
    "\n",
    "### Direct \n",
    "\n",
    "![Space-time plot visualising events in the OAIS environment pattern.](./images/spacetime-context-direct.png)\n",
    "\n",
    "Crucially, this means the DIP is generated from the AIP...\n",
    "\n",
    "Pipeline versus sidecar preservation\n",
    "\n",
    "POINT: If your not generating your DIP from your actual AIP you’re not doing OAIS.\n",
    "\n",
    "Use digitised images as example. Look at risks of the sidecar approach. \n",
    "\n",
    "\n",
    "\n",
    "### Backup (via the publisher)\n",
    "\n",
    "![Space-time plot visualising events in the 'backup' environment pattern.](./images/spacetime-plots-context-backup.png)\n",
    "\n",
    "### Failover (via the published record)\n",
    "\n",
    "![Space-time plot visualising events in the 'failover' environment pattern.](./images/spacetime-plots-context-failover.png)\n",
    "\n",
    "\n",
    "\n",
    "[1]: (https://public.ccsds.org/pubs/650x0m2.pdf) \n",
    "\n",
    "\n"
   ]
  },
  {
   "cell_type": "code",
   "execution_count": null,
   "metadata": {},
   "outputs": [],
   "source": []
  }
 ],
 "metadata": {
  "kernelspec": {
   "display_name": "Python 3",
   "language": "python",
   "name": "python3"
  },
  "language_info": {
   "codemirror_mode": {
    "name": "ipython",
    "version": 3
   },
   "file_extension": ".py",
   "mimetype": "text/x-python",
   "name": "python",
   "nbconvert_exporter": "python",
   "pygments_lexer": "ipython3",
   "version": "3.7.4"
  }
 },
 "nbformat": 4,
 "nbformat_minor": 4
}
