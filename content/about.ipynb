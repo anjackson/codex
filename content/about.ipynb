{
 "cells": [
  {
   "cell_type": "markdown",
   "id": "d3dd646e",
   "metadata": {},
   "source": [
    "# About this site\n",
    "\n",
    "## Who made this?\n",
    "\n",
    "My name is [Andrew Jackson](http://anjackson.net/). I started out as a physicist, but in 2007 I switched to working in digital preservation and web archiving at the British Library. I got my start in digital preservation helping build the [PLANETS Testbed](https://journal.code4lib.org/articles/83) as part of the [PLANETS Project](https://www.planets-project.eu/). I blogged a bit more about my background [here](https://anjackson.net/2017/04/04/digipres-lessons-learned/). \n",
    "\n",
    "(about:contact)=\n",
    "### Contact information\n",
    "\n",
    "If you have any feedback about this site, you can contact me:\n",
    "\n",
    "- on Mastodon [@anj@digipres.club](https://digipres.club/@anj)\n",
    "- on Twitter [@anjacks0n](https://twitter.com/anjacks0n)\n",
    "- or via [email](mailto:anj@anjackson.net)\n",
    "\n",
    "I'm particularly interested in gathering stories about real digital preservation processes and practices that either align or break the patterns I'm proposing here. Ideally, this would include links to papers or blogs that present these practices in some detail, but any stories of realistic examples are very welcome. If they get included I will credit you appropriately, or keep them anonymous if you prefer.\n",
    "\n",
    "## The story so far...\n",
    "\n",
    "The idea of design patterns for digital preservation was first presented at [iPres2022](https://inconference.eventsair.com/ipres-2022/) as a short paper called [_Design Patterns in Digital Presevation -- Understanding Information Flows_](https://osf.io/pyz5c/) (there is also [a recording of the presentation I gave](https://www.youtube.com/watch?v=UtQqq5XLVC4)). That paper won the _Angela Dappert Memorial Prize_ for the best combination of research and practice in digital preservation at iPres 2022 ([announcement](https://www.dpconline.org/news/celebrating-outstanding-contributions-to-ipres-2022))."
   ]
  },
  {
   "cell_type": "markdown",
   "id": "e236ceeb",
   "metadata": {},
   "source": [
    "## How this site works\n",
    "\n",
    "This site uses the [Jupyter Book](https://jupyterbook.org/) system, which mean some pages can use [Jupyter Notebooks](https://jupyter.org/) to mingle prose and programming together. This is used to generate illustrations as well as provide concrete examples. You won't need to be able to understand the code to make sense of things, but they are easy to run and play about with if you're curious.\n",
    "\n",
    "Here's a simple example, showing the frozen output of a simple command:"
   ]
  },
  {
   "cell_type": "code",
   "execution_count": 1,
   "id": "aa105682",
   "metadata": {},
   "outputs": [
    {
     "name": "stdout",
     "output_type": "stream",
     "text": [
      "Hello world...\n"
     ]
    }
   ],
   "source": [
    "print(\"Hello world...\")"
   ]
  },
  {
   "cell_type": "markdown",
   "id": "cfca3376",
   "metadata": {},
   "source": [
    "As it is, it can't _do_ anything. It just shows what was done.\n",
    "\n",
    "To make it possible to re-run it, you can click the little rocket icon at the top of some pages and choose where to run the [Jupyter notebook](https://jupyter.org/) that corresponds to the current page. This brings up a menu that looks like this:\n",
    " \n",
    " ```{image} images/launch-this-page.png\n",
    ":alt: Launch This Page\n",
    ":width: 250px\n",
    ":align: center\n",
    "```\n",
    "\n",
    "I recommend using the [Binder](https://mybinder.org/) option, but note that any edits you make there cannot be saved (easily). If you have a Google account then the [Google Colaboratory](https://colab.research.google.com/) can be handy as on there the notebooks can be saved and indeed edited collaboratively. \n",
    "\n",
    "Either way, you should end up with a _'live'_ copy of a page that you can play with.\n",
    "\n",
    "(about:credits)=\n",
    "## Credits\n",
    "\n",
    "The box of digital things on the front page is from the [SPRUCE DP Illustrations collection](https://wiki.dpconline.org/index.php?title=SPRUCE_Digital_Preservation_Illustrations).\n",
    "\n",
    "```{image} images/spruce_dp_digibox.svg\n",
    "---\n",
    "scale: 100%\n",
    "align: center\n",
    "alt: A box of digital things, from the SPRUCE DP Illustrations collection.\n",
    "target: .\n",
    "---\n",
    "```"
   ]
  },
  {
   "cell_type": "markdown",
   "id": "05093ef2-1808-441a-8ed6-ea0a34a724d8",
   "metadata": {},
   "source": [
    "## What's with the weird logo?\n",
    "\n",
    "The logo represents a self-perpetuating pattern known as a [glider](https://en.wikipedia.org/wiki/Glider_(Conway%27s_Life)). Forever changing but ever repeating itself through time and space.\n",
    "\n",
    "```{image} images/logo.svg\n",
    "---\n",
    "scale: 120%\n",
    "align: center\n",
    "alt: A Glider from the Game of Life.\n",
    "target: .\n",
    "---\n",
    "```\n"
   ]
  },
  {
   "cell_type": "code",
   "execution_count": null,
   "id": "26c1a7f6-b143-4288-8741-95405d40e3ec",
   "metadata": {},
   "outputs": [],
   "source": []
  }
 ],
 "metadata": {
  "jupytext": {
   "cell_metadata_filter": "-all",
   "main_language": "python",
   "notebook_metadata_filter": "-all"
  },
  "kernelspec": {
   "display_name": "Python 3 (ipykernel)",
   "language": "python",
   "name": "python3"
  },
  "language_info": {
   "codemirror_mode": {
    "name": "ipython",
    "version": 3
   },
   "file_extension": ".py",
   "mimetype": "text/x-python",
   "name": "python",
   "nbconvert_exporter": "python",
   "pygments_lexer": "ipython3",
   "version": "3.10.9"
  }
 },
 "nbformat": 4,
 "nbformat_minor": 5
}
