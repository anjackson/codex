{
 "cells": [
  {
   "cell_type": "markdown",
   "metadata": {},
   "source": [
    "# The Village\n",
    "\n",
    "You are not alone. This is fundamental.\n",
    "\n",
    "Digital preservation is built on borderlands. On one side, the rapidly evolving _new world_ of modern information technology. On the other, the _ancient land_ of cultural heritage, of libraries and archives.\n",
    "\n",
    "To work on digital preservation is to build a bridge between these worlds; to help each understand the other; to find common purpose; to help both sides learn to _build together_. As the go-between, you will learn both languages. You will be the messenger, and we all know the dangers of being the messenger when the news is bad."
   ]
  },
  {
   "cell_type": "code",
   "execution_count": 19,
   "metadata": {
    "tags": [
     "remove-cell"
    ]
   },
   "outputs": [
    {
     "output_type": "stream",
     "name": "stdout",
     "text": [
      "Requirement already satisfied: networkx in /Users/anj/Documents/workspace/digipresnet-site/venv/lib/python3.9/site-packages (2.5)\n",
      "Requirement already satisfied: ipycytoscape in /Users/anj/Documents/workspace/digipresnet-site/venv/lib/python3.9/site-packages (1.0.4)\n",
      "Requirement already satisfied: decorator>=4.3.0 in /Users/anj/Documents/workspace/digipresnet-site/venv/lib/python3.9/site-packages (from networkx) (4.4.2)\n",
      "Requirement already satisfied: ipywidgets>=7.0.0 in /Users/anj/Documents/workspace/digipresnet-site/venv/lib/python3.9/site-packages (from ipycytoscape) (7.5.1)\n",
      "Requirement already satisfied: spectate>=0.4.1 in /Users/anj/Documents/workspace/digipresnet-site/venv/lib/python3.9/site-packages (from ipycytoscape) (0.5.0)\n",
      "Requirement already satisfied: traitlets>=4.3.1 in /Users/anj/Documents/workspace/digipresnet-site/venv/lib/python3.9/site-packages (from ipywidgets>=7.0.0->ipycytoscape) (4.3.3)\n",
      "Requirement already satisfied: widgetsnbextension~=3.5.0 in /Users/anj/Documents/workspace/digipresnet-site/venv/lib/python3.9/site-packages (from ipywidgets>=7.0.0->ipycytoscape) (3.5.1)\n",
      "Requirement already satisfied: nbformat>=4.2.0 in /Users/anj/Documents/workspace/digipresnet-site/venv/lib/python3.9/site-packages (from ipywidgets>=7.0.0->ipycytoscape) (5.0.7)\n",
      "Requirement already satisfied: ipython>=4.0.0; python_version >= \"3.3\" in /Users/anj/Documents/workspace/digipresnet-site/venv/lib/python3.9/site-packages (from ipywidgets>=7.0.0->ipycytoscape) (7.17.0)\n",
      "Requirement already satisfied: ipykernel>=4.5.1 in /Users/anj/Documents/workspace/digipresnet-site/venv/lib/python3.9/site-packages (from ipywidgets>=7.0.0->ipycytoscape) (5.3.4)\n",
      "Requirement already satisfied: ipython-genutils in /Users/anj/Documents/workspace/digipresnet-site/venv/lib/python3.9/site-packages (from traitlets>=4.3.1->ipywidgets>=7.0.0->ipycytoscape) (0.2.0)\n",
      "Requirement already satisfied: six in /Users/anj/Documents/workspace/digipresnet-site/venv/lib/python3.9/site-packages (from traitlets>=4.3.1->ipywidgets>=7.0.0->ipycytoscape) (1.15.0)\n",
      "Requirement already satisfied: notebook>=4.4.1 in /Users/anj/Documents/workspace/digipresnet-site/venv/lib/python3.9/site-packages (from widgetsnbextension~=3.5.0->ipywidgets>=7.0.0->ipycytoscape) (6.1.1)\n",
      "Requirement already satisfied: jsonschema!=2.5.0,>=2.4 in /Users/anj/Documents/workspace/digipresnet-site/venv/lib/python3.9/site-packages (from nbformat>=4.2.0->ipywidgets>=7.0.0->ipycytoscape) (3.2.0)\n",
      "Requirement already satisfied: jupyter-core in /Users/anj/Documents/workspace/digipresnet-site/venv/lib/python3.9/site-packages (from nbformat>=4.2.0->ipywidgets>=7.0.0->ipycytoscape) (4.6.3)\n",
      "Requirement already satisfied: setuptools>=18.5 in /Users/anj/Documents/workspace/digipresnet-site/venv/lib/python3.9/site-packages (from ipython>=4.0.0; python_version >= \"3.3\"->ipywidgets>=7.0.0->ipycytoscape) (50.3.2)\n",
      "Requirement already satisfied: appnope; sys_platform == \"darwin\" in /Users/anj/Documents/workspace/digipresnet-site/venv/lib/python3.9/site-packages (from ipython>=4.0.0; python_version >= \"3.3\"->ipywidgets>=7.0.0->ipycytoscape) (0.1.0)\n",
      "Requirement already satisfied: jedi>=0.10 in /Users/anj/Documents/workspace/digipresnet-site/venv/lib/python3.9/site-packages (from ipython>=4.0.0; python_version >= \"3.3\"->ipywidgets>=7.0.0->ipycytoscape) (0.17.2)\n",
      "Requirement already satisfied: pickleshare in /Users/anj/Documents/workspace/digipresnet-site/venv/lib/python3.9/site-packages (from ipython>=4.0.0; python_version >= \"3.3\"->ipywidgets>=7.0.0->ipycytoscape) (0.7.5)\n",
      "Requirement already satisfied: pexpect; sys_platform != \"win32\" in /Users/anj/Documents/workspace/digipresnet-site/venv/lib/python3.9/site-packages (from ipython>=4.0.0; python_version >= \"3.3\"->ipywidgets>=7.0.0->ipycytoscape) (4.8.0)\n",
      "Requirement already satisfied: pygments in /Users/anj/Documents/workspace/digipresnet-site/venv/lib/python3.9/site-packages (from ipython>=4.0.0; python_version >= \"3.3\"->ipywidgets>=7.0.0->ipycytoscape) (2.6.1)\n",
      "Requirement already satisfied: backcall in /Users/anj/Documents/workspace/digipresnet-site/venv/lib/python3.9/site-packages (from ipython>=4.0.0; python_version >= \"3.3\"->ipywidgets>=7.0.0->ipycytoscape) (0.2.0)\n",
      "Requirement already satisfied: prompt-toolkit!=3.0.0,!=3.0.1,<3.1.0,>=2.0.0 in /Users/anj/Documents/workspace/digipresnet-site/venv/lib/python3.9/site-packages (from ipython>=4.0.0; python_version >= \"3.3\"->ipywidgets>=7.0.0->ipycytoscape) (3.0.5)\n",
      "Requirement already satisfied: tornado>=4.2 in /Users/anj/Documents/workspace/digipresnet-site/venv/lib/python3.9/site-packages (from ipykernel>=4.5.1->ipywidgets>=7.0.0->ipycytoscape) (6.0.4)\n",
      "Requirement already satisfied: jupyter-client in /Users/anj/Documents/workspace/digipresnet-site/venv/lib/python3.9/site-packages (from ipykernel>=4.5.1->ipywidgets>=7.0.0->ipycytoscape) (6.1.6)\n",
      "Requirement already satisfied: pyzmq>=17 in /Users/anj/Documents/workspace/digipresnet-site/venv/lib/python3.9/site-packages (from notebook>=4.4.1->widgetsnbextension~=3.5.0->ipywidgets>=7.0.0->ipycytoscape) (19.0.2)\n",
      "Requirement already satisfied: nbconvert in /Users/anj/Documents/workspace/digipresnet-site/venv/lib/python3.9/site-packages (from notebook>=4.4.1->widgetsnbextension~=3.5.0->ipywidgets>=7.0.0->ipycytoscape) (5.6.1)\n",
      "Requirement already satisfied: prometheus-client in /Users/anj/Documents/workspace/digipresnet-site/venv/lib/python3.9/site-packages (from notebook>=4.4.1->widgetsnbextension~=3.5.0->ipywidgets>=7.0.0->ipycytoscape) (0.8.0)\n",
      "Requirement already satisfied: argon2-cffi in /Users/anj/Documents/workspace/digipresnet-site/venv/lib/python3.9/site-packages (from notebook>=4.4.1->widgetsnbextension~=3.5.0->ipywidgets>=7.0.0->ipycytoscape) (20.1.0)\n",
      "Requirement already satisfied: Send2Trash in /Users/anj/Documents/workspace/digipresnet-site/venv/lib/python3.9/site-packages (from notebook>=4.4.1->widgetsnbextension~=3.5.0->ipywidgets>=7.0.0->ipycytoscape) (1.5.0)\n",
      "Requirement already satisfied: terminado>=0.8.3 in /Users/anj/Documents/workspace/digipresnet-site/venv/lib/python3.9/site-packages (from notebook>=4.4.1->widgetsnbextension~=3.5.0->ipywidgets>=7.0.0->ipycytoscape) (0.8.3)\n",
      "Requirement already satisfied: jinja2 in /Users/anj/Documents/workspace/digipresnet-site/venv/lib/python3.9/site-packages (from notebook>=4.4.1->widgetsnbextension~=3.5.0->ipywidgets>=7.0.0->ipycytoscape) (2.11.2)\n",
      "Requirement already satisfied: attrs>=17.4.0 in /Users/anj/Documents/workspace/digipresnet-site/venv/lib/python3.9/site-packages (from jsonschema!=2.5.0,>=2.4->nbformat>=4.2.0->ipywidgets>=7.0.0->ipycytoscape) (19.3.0)\n",
      "Requirement already satisfied: pyrsistent>=0.14.0 in /Users/anj/Documents/workspace/digipresnet-site/venv/lib/python3.9/site-packages (from jsonschema!=2.5.0,>=2.4->nbformat>=4.2.0->ipywidgets>=7.0.0->ipycytoscape) (0.16.0)\n",
      "Requirement already satisfied: parso<0.8.0,>=0.7.0 in /Users/anj/Documents/workspace/digipresnet-site/venv/lib/python3.9/site-packages (from jedi>=0.10->ipython>=4.0.0; python_version >= \"3.3\"->ipywidgets>=7.0.0->ipycytoscape) (0.7.1)\n",
      "Requirement already satisfied: ptyprocess>=0.5 in /Users/anj/Documents/workspace/digipresnet-site/venv/lib/python3.9/site-packages (from pexpect; sys_platform != \"win32\"->ipython>=4.0.0; python_version >= \"3.3\"->ipywidgets>=7.0.0->ipycytoscape) (0.6.0)\n",
      "Requirement already satisfied: wcwidth in /Users/anj/Documents/workspace/digipresnet-site/venv/lib/python3.9/site-packages (from prompt-toolkit!=3.0.0,!=3.0.1,<3.1.0,>=2.0.0->ipython>=4.0.0; python_version >= \"3.3\"->ipywidgets>=7.0.0->ipycytoscape) (0.2.5)\n",
      "Requirement already satisfied: python-dateutil>=2.1 in /Users/anj/Documents/workspace/digipresnet-site/venv/lib/python3.9/site-packages (from jupyter-client->ipykernel>=4.5.1->ipywidgets>=7.0.0->ipycytoscape) (2.8.1)\n",
      "Requirement already satisfied: mistune<2,>=0.8.1 in /Users/anj/Documents/workspace/digipresnet-site/venv/lib/python3.9/site-packages (from nbconvert->notebook>=4.4.1->widgetsnbextension~=3.5.0->ipywidgets>=7.0.0->ipycytoscape) (0.8.4)\n",
      "Requirement already satisfied: defusedxml in /Users/anj/Documents/workspace/digipresnet-site/venv/lib/python3.9/site-packages (from nbconvert->notebook>=4.4.1->widgetsnbextension~=3.5.0->ipywidgets>=7.0.0->ipycytoscape) (0.6.0)\n",
      "Requirement already satisfied: entrypoints>=0.2.2 in /Users/anj/Documents/workspace/digipresnet-site/venv/lib/python3.9/site-packages (from nbconvert->notebook>=4.4.1->widgetsnbextension~=3.5.0->ipywidgets>=7.0.0->ipycytoscape) (0.3)\n",
      "Requirement already satisfied: testpath in /Users/anj/Documents/workspace/digipresnet-site/venv/lib/python3.9/site-packages (from nbconvert->notebook>=4.4.1->widgetsnbextension~=3.5.0->ipywidgets>=7.0.0->ipycytoscape) (0.4.4)\n",
      "Requirement already satisfied: bleach in /Users/anj/Documents/workspace/digipresnet-site/venv/lib/python3.9/site-packages (from nbconvert->notebook>=4.4.1->widgetsnbextension~=3.5.0->ipywidgets>=7.0.0->ipycytoscape) (3.1.5)\n",
      "Requirement already satisfied: pandocfilters>=1.4.1 in /Users/anj/Documents/workspace/digipresnet-site/venv/lib/python3.9/site-packages (from nbconvert->notebook>=4.4.1->widgetsnbextension~=3.5.0->ipywidgets>=7.0.0->ipycytoscape) (1.4.2)\n",
      "Requirement already satisfied: cffi>=1.0.0 in /Users/anj/Documents/workspace/digipresnet-site/venv/lib/python3.9/site-packages (from argon2-cffi->notebook>=4.4.1->widgetsnbextension~=3.5.0->ipywidgets>=7.0.0->ipycytoscape) (1.14.1)\n",
      "Requirement already satisfied: MarkupSafe>=0.23 in /Users/anj/Documents/workspace/digipresnet-site/venv/lib/python3.9/site-packages (from jinja2->notebook>=4.4.1->widgetsnbextension~=3.5.0->ipywidgets>=7.0.0->ipycytoscape) (1.1.1)\n",
      "Requirement already satisfied: webencodings in /Users/anj/Documents/workspace/digipresnet-site/venv/lib/python3.9/site-packages (from bleach->nbconvert->notebook>=4.4.1->widgetsnbextension~=3.5.0->ipywidgets>=7.0.0->ipycytoscape) (0.5.1)\n",
      "Requirement already satisfied: packaging in /Users/anj/Documents/workspace/digipresnet-site/venv/lib/python3.9/site-packages (from bleach->nbconvert->notebook>=4.4.1->widgetsnbextension~=3.5.0->ipywidgets>=7.0.0->ipycytoscape) (20.4)\n",
      "Requirement already satisfied: pycparser in /Users/anj/Documents/workspace/digipresnet-site/venv/lib/python3.9/site-packages (from cffi>=1.0.0->argon2-cffi->notebook>=4.4.1->widgetsnbextension~=3.5.0->ipywidgets>=7.0.0->ipycytoscape) (2.20)\n",
      "Requirement already satisfied: pyparsing>=2.0.2 in /Users/anj/Documents/workspace/digipresnet-site/venv/lib/python3.9/site-packages (from packaging->bleach->nbconvert->notebook>=4.4.1->widgetsnbextension~=3.5.0->ipywidgets>=7.0.0->ipycytoscape) (2.4.7)\n"
     ]
    }
   ],
   "source": [
    "!pip install networkx ipycytoscape"
   ]
  },
  {
   "cell_type": "code",
   "execution_count": 20,
   "metadata": {
    "tags": [
     "hide-input"
    ]
   },
   "outputs": [
    {
     "output_type": "display_data",
     "data": {
      "text/plain": "CytoscapeWidget(cytoscape_layout={'name': 'cola', 'nodeSpacing': 5, 'edgeLengthVal': 50, 'animate': True, 'ran…",
      "application/vnd.jupyter.widget-view+json": {
       "version_major": 2,
       "version_minor": 0,
       "model_id": "906e065a01a5452c9b426462cc53fa22"
      }
     },
     "metadata": {}
    }
   ],
   "source": [
    "#\n",
    "# Oh Hello There! \n",
    "# \n",
    "# This is the Python source code that's used to generate the illustrations for this page. It's just here in case anyone's interested in how the illustrations were created.\n",
    "#\n",
    "\n",
    "from ipywidgets import Layout\n",
    "from networkx import nx\n",
    "import ipycytoscape\n",
    "\n",
    "# Generate some random graphs:\n",
    "def plot_groups(groups=1, node_i=10, link_links=False, link_groups=False, width='100%', height='400px'):\n",
    "\n",
    "    # Accumulate the graph here:\n",
    "    G = None\n",
    "    nc = []\n",
    "\n",
    "    # Generate multiple groups:\n",
    "    for loop in range(groups):\n",
    "        # Generate a connected graph:\n",
    "        G1 = nx.connected_watts_strogatz_graph(node_i, 3, 0.5)\n",
    "        nx.set_node_attributes(G1, 'them1', \"classes\")\n",
    "\n",
    "        # Add the bridge node:\n",
    "        link_node = node_i\n",
    "        G1.add_node(link_node, classes='you')\n",
    "\n",
    "        # Add another connected graph:\n",
    "        G2 = nx.connected_watts_strogatz_graph(node_i, 5, 0.5)\n",
    "        nx.set_node_attributes(G2, 'them2', \"classes\")\n",
    "        G1 = nx.disjoint_union(G1, G2)\n",
    "\n",
    "        # Link the bridge node to the two graphs:\n",
    "        G1.add_edge(link_node,link_node - 1)\n",
    "        G1.add_edge(link_node,link_node + 1)\n",
    "\n",
    "        # Merge all the Gs\n",
    "        if G:\n",
    "            G = nx.disjoint_union(G, G1)\n",
    "        else:\n",
    "            G = G1\n",
    "\n",
    "        # Colour the nodes accordingly:\n",
    "        nc = nc + ['green']*node_i + ['red'] + ['blue']*node_i\n",
    "\n",
    "    # Nodes in each group:\n",
    "    group_nodes = 2*node_i + 1\n",
    "\n",
    "    # Link up the linkers (if requested):\n",
    "    if link_links:\n",
    "        for loop in range(groups - 1):\n",
    "            G.add_edge(loop*group_nodes + node_i, (loop+1)*group_nodes + node_i)\n",
    "\n",
    "    # Cross-link the groups as if like finds like (if requested):\n",
    "    # (only links groups in order, but that makes the result look nice!)\n",
    "    if link_groups:\n",
    "        for loop in range(groups - 1):\n",
    "            # How many links to add\n",
    "            for sni in range(2):\n",
    "                # Add 'green-green' link:\n",
    "                G.add_edge(loop*group_nodes + sni, (loop+1)*group_nodes + sni)\n",
    "                # Add 'blue-blue' link:\n",
    "                G.add_edge(loop*group_nodes + node_i + 1 + sni, (loop+1)*group_nodes + node_i + 1 + sni)\n",
    "\n",
    "\n",
    "    # Initial layout:\n",
    "    pos = nx.spring_layout(G)\n",
    "\n",
    "    # Layout and plot the graph:\n",
    "    network_widget = ipycytoscape.CytoscapeWidget(layout=Layout(width=width, height=height, margin='0px auto 0px auto'))\n",
    "    network_widget.user_zooming_enabled = False\n",
    "    network_widget.user_panning_enabled = False\n",
    "    network_widget.graph.add_graph_from_networkx(G)\n",
    "    network_widget.set_layout(name='cola',\n",
    "                      nodeSpacing = 5,\n",
    "                      edgeLengthVal = 50,\n",
    "                      animate = True,\n",
    "                      randomize = True, \n",
    "                      maxSimulationTime = 1000000)\n",
    "    network_widget.set_style([\n",
    "                            {\n",
    "                                'selector': 'node.you',\n",
    "                                'css': {\n",
    "                                    'background-color': 'red'\n",
    "                                }\n",
    "                            },\n",
    "                            {\n",
    "                                'selector': 'node.them1',\n",
    "                                'css': {\n",
    "                                    'background-color': 'green'\n",
    "                                }\n",
    "                            },\n",
    "                            {\n",
    "                                'selector': 'node.them2',\n",
    "                                'css': {\n",
    "                                    'background-color': 'blue'\n",
    "                                }\n",
    "                            }\n",
    "    ])\n",
    "    \n",
    "    return network_widget\n",
    "\n",
    "plot_groups(height='300px')"
   ]
  },
  {
   "cell_type": "markdown",
   "metadata": {},
   "source": [
    "Living across two worlds can be lonely. So above all else, you must find support, and be supported. Your managers will likely come from one of the two worlds, rather than growing up on the border, so may not understand the issues or perceive the risks.  If they can't help you defuse the dangers and fight the loneliness, they do not deserve your labour. \n",
    "\n",
    "But if you are given the support you need to be able to reach out, you'll find you are not alone.\n",
    "\n",
    "\n",
    "## Kin\n",
    "\n",
    "Many different organisations now recognise the importance of digital preservation, so while you may work in a team of only one or two individuals, there are other small teams in other organisations battling very similar problems.\n",
    "\n",
    "They are your kin.\n",
    "\n",
    "They likely operate in different contexts, with different goals and constraints.  But like you, they are go-betweens. They are bilingual. They are learning as they go. They are finding common ground. Just like you.  \n",
    "\n",
    "If you can meet these like minds, you can help each other. But you'll have to put in the work.\n",
    "\n",
    "### Meeting Places\n",
    "\n",
    "As the [Wikipedia list of digital preservation initiatives](https://en.wikipedia.org/wiki/List_of_digital_preservation_initiatives) shows, there are a _lot_ of potential meeting places.   Here, we briefly introduce some of the major ones, but this cannot and should not be considered an exaustive list.  One of the things you'll need to work on is researching them to find out which ones might work best for you.\n",
    "\n",
    "#### Conferences & Coalitions\n",
    "\n",
    "One of the best ways to meet your #digipres peers is through the projects and events run by the various national and international organisations that have been set up to facilitate wider collaboration.  \n",
    "\n",
    "Both the [Digital Preservation Coalition (DPC)](https://www.dpconline.org/) and the U.S. [National Digital Stewardship Alliance (NDSA)](http://www.digitalpreservation.gov/ndsa/) but a lot of work into supporting the digital preservation community.  They are both membership-based organisations, but make a lot of their work openly available.\n",
    "\n",
    "There are also a number of initiatives supporting specific areas of interest, including:\n",
    "\n",
    "- The [Open Preservation Foundation](https://openpreservation.org/) with is a strong focus on supporting open source tools used in digital preservation.\n",
    "- The [International Internet Preservation Consortium](https://netpreserve.org/), focussed on web archiving both as a means and a target of digital preservation.\n",
    "- The [BitCurator Consortium](https://bitcurator.net/bitcurator-consortium/), supporting the use of open source digital forensics tools for preservation purposes.\n",
    "- The [Software Heritage](https://www.softwareheritage.org/) initiative in collaboration with [UNESCO](https://en.unesco.org/themes/information-preservation).\n",
    "- The [No Time To Wait](https://mediaarea.net/NoTimeToWait) conference series, focusing on audiovisual preservation.\n",
    "\n",
    "The largest digital preservation conference is [iPres](https://ipres-conference.org/). This is a good place to meet peers, but you should also look out for digital preservation tracks in conferences more closely related to your particular situation.\n",
    "\n",
    "\n",
    "#### The #digipres Community\n",
    "\n",
    "Outside of the formal venues, there is a wider community of digital preservation practitioners who are keen to help support each other.\n",
    "\n",
    "For those able to work in the open and with a public profile, Twitter is a good option.  The [@digipresnews](https://twitter.com/digipresnews) account was set up to ensure important digital preservation blogs have a presence on Twitter, and as such, [the list of @digipresnews followers](https://twitter.com/digipresnews/followers) is a reasonable starting point.[^dpn] Another approach is to wander through the [#digipres](https://twitter.com/search?q=%23digipres) or [#DigitalPreservation](https://twitter.com/search?q=%23DigitalPreservation) hashtag feeds, or start with [this DigiPres Twitter List](https://twitter.com/i/lists/98975653) by [David Underdown](https://twitter.com/DavidUnderdown9).\n",
    "\n",
    "If tweets won't cut the mustard, there are a number of mailing lists that might be able to help. The [JISC Digital Preservation Mailing List](https://www.jiscmail.ac.uk/cgi-bin/webadmin?A0=DIGITAL-PRESERVATION) is the main one, but as above, there are often more domain-specific lists that might be better depending on the question and the context (e.g. [Research Data Management](https://www.jiscmail.ac.uk/cgi-bin/webadmin?A0=RESEARCH-DATAMAN), [Web Archiving](https://netpreserve.org/about-us/iipc-mailing-list/), [Digital Curation](https://groups.google.com/g/digital-curation), etc.)\n",
    "\n",
    "Although Twitter and mailing lists are good places to ask questions, it's not always easy to find out if you question has already been answered before, or to improve the answers over time.  This realisation lead to the creation of the [Digital Preservation Questions & Answers](https://qanda.digipres.org/), which was set up by some members of the #digipres community as a place to pool these useful tidbits over time.\n",
    "\n",
    "This idea also: [digipres.org](https://www.digipres.org/)\n",
    "\n",
    "\n",
    "[^dpn]: But [@digipresnews was set up by me](http://anjackson.github.io/keeping-codes/practice/DigiPresNews.html), so take an appropriate pinch of salt!\n"
   ]
  },
  {
   "cell_type": "code",
   "execution_count": 21,
   "metadata": {
    "tags": [
     "hide-input"
    ]
   },
   "outputs": [
    {
     "output_type": "display_data",
     "data": {
      "text/plain": "CytoscapeWidget(cytoscape_layout={'name': 'cola', 'nodeSpacing': 5, 'edgeLengthVal': 50, 'animate': True, 'ran…",
      "application/vnd.jupyter.widget-view+json": {
       "version_major": 2,
       "version_minor": 0,
       "model_id": "97756108552e46c19753216ed723674f"
      }
     },
     "metadata": {}
    }
   ],
   "source": [
    "plot_groups(groups=6)"
   ]
  },
  {
   "cell_type": "code",
   "execution_count": 22,
   "metadata": {
    "tags": [
     "hide-input"
    ]
   },
   "outputs": [
    {
     "output_type": "display_data",
     "data": {
      "text/plain": "CytoscapeWidget(cytoscape_layout={'name': 'cola', 'nodeSpacing': 5, 'edgeLengthVal': 50, 'animate': True, 'ran…",
      "application/vnd.jupyter.widget-view+json": {
       "version_major": 2,
       "version_minor": 0,
       "model_id": "ee9a45c1bbe046b9a18dc9dd7ed9730c"
      }
     },
     "metadata": {}
    }
   ],
   "source": [
    "plot_groups(groups=6, link_links=True)"
   ]
  },
  {
   "cell_type": "markdown",
   "metadata": {},
   "source": [
    "\n",
    "## Guide Books\n",
    "\n",
    "There are already a number of good guides to digital preservation in general. In particular, for those with a background in cultural heritage, I would recommend:\n",
    "\n",
    "- [DPCs Digital Preservation Handbook](https://www.dpconline.org/handbook)\n",
    "- [The Theory and Craft of Digital Preservation](https://jhupbooks.press.jhu.edu/title/theory-and-craft-digital-preservation) by [Trevor Owens](http://www.trevorowens.org/), to position digital preservation in the wider cultural heritage context and to provide a concrete framework for making progress ([see here for the open access version](https://osf.io/preprints/lissa/5cpjt/)).\n",
    "- [Ashley Blewer's](https://ashleyblewer.com/) [training slide decks](https://training.ashleyblewer.com/), for an introduction to the main concepts and pointers.\n",
    "- The [Wikipedia page on digital preservation](https://en.wikipedia.org/wiki/Digital_preservation).\n",
    "\n",
    "Curiously, there does not seem to be many equivalent publications for those coming to digital preservation from the information technology side -- even if you know a lot about IT, digital preservation requirements can be seem strange at first!\n",
    "\n",
    "Having said that, Ashley Blewer's [slides on Digital Preservation](https://training.ashleyblewer.com/presentations/digital-preservation.html#2) and related subjects (e.g. [OAIS](https://training.ashleyblewer.com/presentations/oais.html#2) and [Fixity](https://training.ashleyblewer.com/presentations/fixity.html#2)) are a good introduction to some of the key terminology.\n",
    "\n",
    "To complement these broader works, the goal here is to focus on specific issues that deserve more detailed exploration, and to look for common patterns and practices across a broad range of situations and contexts. \n",
    "\n",
    "## The Bad News\n",
    "\n",
    "Underfunded. Embattled. lack of nuance-clarity.\n",
    "\n",
    "- Web archiving\n",
    "- Digital curation\n",
    "- Digital scholarship\n",
    "- Digitization\n",
    "- Digital Heritage\n",
    "- \n",
    "\n",
    "### The Trap\n",
    "\n",
    "Tension between getting started and building on other's work.\n",
    "\n",
    "**n.b. add something on Vocational Awe** [Vocational Awe and Librarianship: The Lies We Tell Ourselves](http://www.inthelibrarywiththeleadpipe.org/2018/vocational-awe/)\n",
    "\n",
    "\n",
    "\n",
    "### Opportunities\n",
    "\n",
    "## Allies\n",
    "\n",
    "One of my favourite digital preservation stories is: [It Takes a Village to Save a Hard Drive](https://web.archive.org/web/20130916000537/http://notepad.benfinoradin.info/2013/09/12/it-takes-a-village-to-save-a-hard-drive) -- it's a perfect illustration of what \n",
    "\n",
    "[\"XFR STN\"](https://www.newmuseum.org/exhibitions/view/xfr-stn) (Transfer Station), an open-door artist-centred media archiving project.\n",
    "\n",
    "\n",
    "\n",
    "- software heritage archive\n",
    "- [sustaining software effort.](http://www.software.ac.uk/SustainingSoftware.html)  \n",
    "\n",
    "## Being the Bridge\n",
    "\n",
    "the idea of cross-linking individuals in similar roles across organisation, building a more resiliant mesh...\n"
   ]
  },
  {
   "cell_type": "code",
   "execution_count": 24,
   "metadata": {},
   "outputs": [
    {
     "output_type": "display_data",
     "data": {
      "text/plain": "CytoscapeWidget(cytoscape_layout={'name': 'cola', 'nodeSpacing': 5, 'edgeLengthVal': 50, 'animate': True, 'ran…",
      "application/vnd.jupyter.widget-view+json": {
       "version_major": 2,
       "version_minor": 0,
       "model_id": "e12bfce72a7e4a50a901ed4f146cabfe"
      }
     },
     "metadata": {}
    }
   ],
   "source": [
    "plot_groups(groups=6, link_links=True, link_groups=True)"
   ]
  },
  {
   "source": [
    "## All Of Us\n",
    "\n",
    "\n",
    "That we all decide?"
   ],
   "cell_type": "markdown",
   "metadata": {}
  }
 ],
 "metadata": {
  "kernelspec": {
   "display_name": "Python 3",
   "language": "python",
   "name": "python3"
  },
  "language_info": {
   "codemirror_mode": {
    "name": "ipython",
    "version": 3
   },
   "file_extension": ".py",
   "mimetype": "text/x-python",
   "name": "python",
   "nbconvert_exporter": "python",
   "pygments_lexer": "ipython3",
   "version": "3.9.0-final"
  }
 },
 "nbformat": 4,
 "nbformat_minor": 4
}