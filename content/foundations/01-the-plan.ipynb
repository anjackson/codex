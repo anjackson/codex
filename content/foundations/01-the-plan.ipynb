{
 "metadata": {
  "language_info": {
   "codemirror_mode": {
    "name": "ipython",
    "version": 3
   },
   "file_extension": ".py",
   "mimetype": "text/x-python",
   "name": "python",
   "nbconvert_exporter": "python",
   "pygments_lexer": "ipython3",
   "version": "3.9.0-final"
  },
  "orig_nbformat": 2,
  "kernelspec": {
   "name": "python3",
   "display_name": "Python 3"
  }
 },
 "nbformat": 4,
 "nbformat_minor": 2,
 "cells": [
  {
   "source": [
    "# The Plan\n",
    "\n",
    "This site is a place for me to explore specific issues relating to the preservation of digital resources, and attempt to map out how context affects preservation goals and tactics. As such, while I'll try to write as clearly as possible, some of it may make little sense unless you already know a bit about digital preservation. To fill that gap, rather than re-hash what others have already written so well, I'll suggest some links to get you started...\n",
    "\n",
    "## Outlinks\n",
    "\n",
    "There are already a number of good introductions to digital preservation in general.  For a high-level overview, The [Wikipedia page on digital preservation](https://en.wikipedia.org/wiki/Digital_preservation) is okay, and [Ashley Blewer's](https://ashleyblewer.com/) [training slide decks](https://training.ashleyblewer.com/) (especially the [slides on Digital Preservation](https://training.ashleyblewer.com/presentations/digital-preservation.html#2), [OAIS](https://training.ashleyblewer.com/presentations/oais.html#2) and [Fixity](https://training.ashleyblewer.com/presentations/fixity.html#2)) provide a good introduction to some of the key terminology.  \n",
    "\n",
    "The [Digital Preservation Coalition (DPC)](https://www.dpconline.org/) provide more [detailed resources](https://www.dpconline.org/digipres/what-is-digipres) like the [Digital Preservation Handbook](https://www.dpconline.org/handbook), while maintaining a keen focus on practical issues. \n",
    "\n",
    "For those with a background in cultural heritage, I would particularly recommend [The Theory and Craft of Digital Preservation](https://jhupbooks.press.jhu.edu/title/theory-and-craft-digital-preservation) by [Trevor Owens](http://www.trevorowens.org/), which positions digital preservation in the wider cultural heritage context and to provide a concrete framework for making progress ([see here for the open access version](https://osf.io/preprints/lissa/5cpjt/)).\n",
    "\n",
    "Curiously, there does not seem to be many equivalent publications for those coming to digital preservation from the information technology side [^itbooks] -- but be warned, even if you know a lot about IT, digital preservation requirements can be seem strange at first! These communication issues are usually more subtle than they seem.\n",
    "\n",
    "[^itbooks]: Any suggestions are very welcome!\n"
   ],
   "cell_type": "markdown",
   "metadata": {}
  },
  {
   "source": [
    "## Outline\n",
    "\n",
    "Since starting out in computational physics, I've worked on a wide range of research projects, eventually leading me to digital preservation (by helping build the [PLANETS Testbed](https://journal.code4lib.org/articles/83) as part of the [PLANETS Project](https://www.planets-project.eu/)) and then web archiving (as the technical lead for the [UK Web Archive](https://www.webarchive.org.uk/), collaborating with other [IIPC](https://netpreserve.org/) members). This [trajectory](https://anjackson.net/2017/04/04/digipres-lessons-learned/) has given me a chance to find out about a lot of different digital preservation endeavours from a wide range of international institutions, as well as building up my own experience.\n",
    "\n",
    "My goal here is then to leverage my technical background to focus on specific issues that deserve more detailed exploration, and to take advantage of the breadth of examples I've seen to look for common patterns and practices across a broad range of situations and contexts.\n",
    "\n",
    "In _Foundations_, I'll cover a few crucial concepts which I believe are universally applicable to digital preservation, whatever context you work in. I'll then build on these concepts in the following section, describing the different digital preservation _Patterns_ I've found. Each pattern has been sythesized from a set of practical experiences, examples of which are evidenced in the _Practices_ section.\n",
    "\n",
    "The site itself uses the [Jupyter Book](https://jupyterbook.org/) system, which means I can use [Jupyter Notebooks](https://jupyter.org/) to mingle prose and programming together. This is used to generate illustrations as well as providing concrete examples. You won't need to be able to understand the code to make sense of things, but they are easy to run and play about with if you're curious."
   ],
   "cell_type": "markdown",
   "metadata": {}
  },
  {
   "cell_type": "code",
   "execution_count": 1,
   "metadata": {},
   "outputs": [
    {
     "output_type": "stream",
     "name": "stdout",
     "text": [
      "Hello world...\n"
     ]
    }
   ],
   "source": [
    "print(\"Hello world...\")"
   ]
  },
  {
   "source": [
    " All you need to do is click the little rocket icon at the top of the page and choose where to run the [Jupyter notebook](https://jupyter.org/) that corresponds to the current page. I recommend using [Binder](https://mybinder.org/), but if you have a Google account then the [Google Colaboratory](https://colab.research.google.com/) is also a good option. \n",
    "\n",
    " ```{image} ../images/launch-this-page.png\n",
    ":alt: Launch This Page\n",
    ":width: 250px\n",
    ":align: center\n",
    "```\n",
    " "
   ],
   "cell_type": "markdown",
   "metadata": {}
  },
  {
   "source": [
    "## Feedback\n",
    "\n",
    "If you have any feedback about this site, you can contact me:\n",
    "\n",
    "- on Twitter [@anjacks0n](https://twitter.com/anjacks0n)\n",
    "- or via [email](mailto:anj@anjackson.net)\n",
    "\n",
    "## Where to begin?\n",
    "\n",
    "Well, before getting into technicalities, lets take a look around {doc}`/foundations/the-village`."
   ],
   "cell_type": "markdown",
   "metadata": {}
  }
 ]
}