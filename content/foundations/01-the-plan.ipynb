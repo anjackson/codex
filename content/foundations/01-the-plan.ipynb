{
 "metadata": {
  "language_info": {
   "codemirror_mode": {
    "name": "ipython",
    "version": 3
   },
   "file_extension": ".py",
   "mimetype": "text/x-python",
   "name": "python",
   "nbconvert_exporter": "python",
   "pygments_lexer": "ipython3",
   "version": 3
  },
  "orig_nbformat": 2
 },
 "nbformat": 4,
 "nbformat_minor": 2,
 "cells": [
  {
   "source": [
    "# The Plan\n",
    "\n",
    "Focus on preservation of digital resources.\n",
    "\n",
    "Goal is to understand how context affect action.\n",
    "\n",
    "\n",
    "\n",
    "## Who made this?\n",
    "\n",
    "My name is [Andrew Jackson](http://anjackson.net/) and I'm a physicist who now works in digital preservation and web archiving. I got my start in digital preservation helping build the [PLANETS Testbed](https://journal.code4lib.org/articles/83) as part of the [PLANETS Project](https://www.planets-project.eu/). I blogged a bit more about my background [here](https://anjackson.net/2017/04/04/digipres-lessons-learned/). \n",
    "\n",
    "\n",
    "\n",
    "## What's its not\n",
    "\n",
    "Comprehensive! Specific issues that deserve focus\n",
    "### Guide Books\n",
    "\n",
    "There are already a number of good guides to digital preservation in general. In particular, for those with a background in cultural heritage, I would recommend:\n",
    "\n",
    "- [DPCs Digital Preservation Handbook](https://www.dpconline.org/handbook)\n",
    "- [The Theory and Craft of Digital Preservation](https://jhupbooks.press.jhu.edu/title/theory-and-craft-digital-preservation) by [Trevor Owens](http://www.trevorowens.org/), to position digital preservation in the wider cultural heritage context and to provide a concrete framework for making progress ([see here for the open access version](https://osf.io/preprints/lissa/5cpjt/)).\n",
    "- [Ashley Blewer's](https://ashleyblewer.com/) [training slide decks](https://training.ashleyblewer.com/), for an introduction to the main concepts and pointers.\n",
    "- The [Wikipedia page on digital preservation](https://en.wikipedia.org/wiki/Digital_preservation).\n",
    "\n",
    "Curiously, there does not seem to be many equivalent publications for those coming to digital preservation from the information technology side -- even if you know a lot about IT, digital preservation requirements can be seem strange at first!\n",
    "\n",
    "Having said that, Ashley Blewer's [slides on Digital Preservation](https://training.ashleyblewer.com/presentations/digital-preservation.html#2) and related subjects (e.g. [OAIS](https://training.ashleyblewer.com/presentations/oais.html#2) and [Fixity](https://training.ashleyblewer.com/presentations/fixity.html#2)) are a good introduction to some of the key terminology.\n",
    "\n",
    "To complement these broader works, the goal here is to focus on specific issues that deserve more detailed exploration, and to look for common patterns and practices across a broad range of situations and contexts. \n",
    "\n",
    "## Structure\n",
    "\n",
    "Fundemental, patterns, ...\n",
    "\n",
    "## Level\n",
    "\n",
    "\n",
    "## Feedback\n",
    "\n",
    "If you have any feedback about this site, you can contact me:\n",
    "\n",
    "- on Twitter [@anjacks0n](https://twitter.com/anjacks0n)\n",
    "- or via [email](mailto:anj@anjackson.net)\n",
    "\n",
    "\n",
    "## Where to begin?\n",
    "\n",
    "Before getting into technicalities, lets take a look around {doc}`/foundations/the-village`.\n",
    "\n",
    "\n"
   ],
   "cell_type": "markdown",
   "metadata": {}
  },
  {
   "cell_type": "code",
   "execution_count": null,
   "metadata": {},
   "outputs": [],
   "source": []
  }
 ]
}