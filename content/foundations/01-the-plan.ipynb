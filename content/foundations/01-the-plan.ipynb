{
 "cells": [
  {
   "cell_type": "markdown",
   "metadata": {},
   "source": [
    "# The Plan\n",
    "\n",
    "In _Foundations_, I'll cover a few crucial concepts which I believe are universally applicable to digital preservation, whatever context you work in. \n",
    "\n",
    "I'll then build on these concepts to describe the different digital preservation _Patterns_ I've found, mapping out how context affects preservation goals and tactics. \n",
    "\n",
    "Each pattern has been sythesized from a set of practical experiences, examples of which are evidenced in the _Practices_ section.\n"
   ]
  },
  {
   "cell_type": "markdown",
   "metadata": {},
   "source": [
    "## Interactive notebooks\n",
    "\n",
    "This site uses the [Jupyter Book](https://jupyterbook.org/) system, which means I can use [Jupyter Notebooks](https://jupyter.org/) to mingle prose and programming together. This is used to generate illustrations as well as provide concrete examples. You won't need to be able to understand the code to make sense of things, but they are easy to run and play about with if you're curious.\n",
    "\n",
    "Here's a simple example, showing the frozen output of a simple command:"
   ]
  },
  {
   "cell_type": "code",
   "execution_count": 1,
   "metadata": {},
   "outputs": [
    {
     "name": "stdout",
     "output_type": "stream",
     "text": [
      "Hello world...\n"
     ]
    }
   ],
   "source": [
    "print(\"Hello world...\")"
   ]
  },
  {
   "cell_type": "markdown",
   "metadata": {},
   "source": [
    "As it is, it can't _do_ anything. It just shows what was done.\n",
    "\n",
    "To make it possible to re-run it, you can click the little rocket icon at the top of the page and choose where to run the [Jupyter notebook](https://jupyter.org/) that corresponds to the current page. This brings up a menu that looks like this:\n",
    " \n",
    " ```{image} ../images/launch-this-page.png\n",
    ":alt: Launch This Page\n",
    ":width: 250px\n",
    ":align: center\n",
    "```\n",
    "\n",
    "I recommend using the [Binder](https://mybinder.org/) option, but note that any edits you make there cannot be saved (easily). If you have a Google account then the [Google Colaboratory](https://colab.research.google.com/) can be handy as on there the notebooks can be saved and indeed edited collaboratively. \n",
    "\n",
    "Either way, you should end up with a _'live'_ copy of a page that you can play with.\n",
    "\n",
    "\n",
    "## Feedback\n",
    "\n",
    "If you have any feedback about this site, you can contact me:\n",
    "\n",
    "- on Twitter [@anjacks0n](https://twitter.com/anjacks0n)\n",
    "- or via [email](mailto:anj@anjackson.net)\n",
    "\n",
    "## Where to begin?\n",
    "\n",
    "Well, before getting into technicalities, lets take a look around {doc}`/foundations/02-the-village`.\n"
   ]
  }
 ],
 "metadata": {
  "jupytext": {
   "formats": "ipynb,md"
  },
  "kernelspec": {
   "display_name": "Python 3",
   "language": "python",
   "name": "python3"
  },
  "language_info": {
   "codemirror_mode": {
    "name": "ipython",
    "version": 3
   },
   "file_extension": ".py",
   "mimetype": "text/x-python",
   "name": "python",
   "nbconvert_exporter": "python",
   "pygments_lexer": "ipython3",
   "version": "3.9.5"
  }
 },
 "nbformat": 4,
 "nbformat_minor": 4
}
