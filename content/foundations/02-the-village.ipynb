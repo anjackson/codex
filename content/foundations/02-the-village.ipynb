{
 "cells": [
  {
   "cell_type": "markdown",
   "metadata": {},
   "source": [
    "# The Village\n",
    "\n",
    "You are not alone. This is fundamental."
   ]
  },
  {
   "cell_type": "code",
   "execution_count": 1,
   "metadata": {
    "tags": [
     "remove-cell"
    ]
   },
   "outputs": [
    {
     "name": "stdout",
     "output_type": "stream",
     "text": [
      "Requirement already satisfied: networkx in /Users/anj/Documents/workspace/digipresnet-site/venv/lib/python3.9/site-packages (2.5)\n",
      "Requirement already satisfied: ipycytoscape in /Users/anj/Documents/workspace/digipresnet-site/venv/lib/python3.9/site-packages (1.0.4)\n",
      "Requirement already satisfied: decorator>=4.3.0 in /Users/anj/Documents/workspace/digipresnet-site/venv/lib/python3.9/site-packages (from networkx) (4.4.2)\n",
      "Requirement already satisfied: ipywidgets>=7.0.0 in /Users/anj/Documents/workspace/digipresnet-site/venv/lib/python3.9/site-packages (from ipycytoscape) (7.5.1)\n",
      "Requirement already satisfied: spectate>=0.4.1 in /Users/anj/Documents/workspace/digipresnet-site/venv/lib/python3.9/site-packages (from ipycytoscape) (0.5.0)\n",
      "Requirement already satisfied: ipykernel>=4.5.1 in /Users/anj/Documents/workspace/digipresnet-site/venv/lib/python3.9/site-packages (from ipywidgets>=7.0.0->ipycytoscape) (5.3.4)\n",
      "Requirement already satisfied: traitlets>=4.3.1 in /Users/anj/Documents/workspace/digipresnet-site/venv/lib/python3.9/site-packages (from ipywidgets>=7.0.0->ipycytoscape) (4.3.3)\n",
      "Requirement already satisfied: nbformat>=4.2.0 in /Users/anj/Documents/workspace/digipresnet-site/venv/lib/python3.9/site-packages (from ipywidgets>=7.0.0->ipycytoscape) (5.0.7)\n",
      "Requirement already satisfied: ipython>=4.0.0; python_version >= \"3.3\" in /Users/anj/Documents/workspace/digipresnet-site/venv/lib/python3.9/site-packages (from ipywidgets>=7.0.0->ipycytoscape) (7.17.0)\n",
      "Requirement already satisfied: widgetsnbextension~=3.5.0 in /Users/anj/Documents/workspace/digipresnet-site/venv/lib/python3.9/site-packages (from ipywidgets>=7.0.0->ipycytoscape) (3.5.1)\n",
      "Requirement already satisfied: appnope; platform_system == \"Darwin\" in /Users/anj/Documents/workspace/digipresnet-site/venv/lib/python3.9/site-packages (from ipykernel>=4.5.1->ipywidgets>=7.0.0->ipycytoscape) (0.1.0)\n",
      "Requirement already satisfied: jupyter-client in /Users/anj/Documents/workspace/digipresnet-site/venv/lib/python3.9/site-packages (from ipykernel>=4.5.1->ipywidgets>=7.0.0->ipycytoscape) (6.1.6)\n",
      "Requirement already satisfied: tornado>=4.2 in /Users/anj/Documents/workspace/digipresnet-site/venv/lib/python3.9/site-packages (from ipykernel>=4.5.1->ipywidgets>=7.0.0->ipycytoscape) (6.0.4)\n",
      "Requirement already satisfied: six in /Users/anj/Documents/workspace/digipresnet-site/venv/lib/python3.9/site-packages (from traitlets>=4.3.1->ipywidgets>=7.0.0->ipycytoscape) (1.15.0)\n",
      "Requirement already satisfied: ipython-genutils in /Users/anj/Documents/workspace/digipresnet-site/venv/lib/python3.9/site-packages (from traitlets>=4.3.1->ipywidgets>=7.0.0->ipycytoscape) (0.2.0)\n",
      "Requirement already satisfied: jsonschema!=2.5.0,>=2.4 in /Users/anj/Documents/workspace/digipresnet-site/venv/lib/python3.9/site-packages (from nbformat>=4.2.0->ipywidgets>=7.0.0->ipycytoscape) (3.2.0)\n",
      "Requirement already satisfied: jupyter-core in /Users/anj/Documents/workspace/digipresnet-site/venv/lib/python3.9/site-packages (from nbformat>=4.2.0->ipywidgets>=7.0.0->ipycytoscape) (4.6.3)\n",
      "Requirement already satisfied: setuptools>=18.5 in /Users/anj/Documents/workspace/digipresnet-site/venv/lib/python3.9/site-packages (from ipython>=4.0.0; python_version >= \"3.3\"->ipywidgets>=7.0.0->ipycytoscape) (50.3.2)\n",
      "Requirement already satisfied: prompt-toolkit!=3.0.0,!=3.0.1,<3.1.0,>=2.0.0 in /Users/anj/Documents/workspace/digipresnet-site/venv/lib/python3.9/site-packages (from ipython>=4.0.0; python_version >= \"3.3\"->ipywidgets>=7.0.0->ipycytoscape) (3.0.5)\n",
      "Requirement already satisfied: jedi>=0.10 in /Users/anj/Documents/workspace/digipresnet-site/venv/lib/python3.9/site-packages (from ipython>=4.0.0; python_version >= \"3.3\"->ipywidgets>=7.0.0->ipycytoscape) (0.17.2)\n",
      "Requirement already satisfied: pexpect; sys_platform != \"win32\" in /Users/anj/Documents/workspace/digipresnet-site/venv/lib/python3.9/site-packages (from ipython>=4.0.0; python_version >= \"3.3\"->ipywidgets>=7.0.0->ipycytoscape) (4.8.0)\n",
      "Requirement already satisfied: pygments in /Users/anj/Documents/workspace/digipresnet-site/venv/lib/python3.9/site-packages (from ipython>=4.0.0; python_version >= \"3.3\"->ipywidgets>=7.0.0->ipycytoscape) (2.6.1)\n",
      "Requirement already satisfied: pickleshare in /Users/anj/Documents/workspace/digipresnet-site/venv/lib/python3.9/site-packages (from ipython>=4.0.0; python_version >= \"3.3\"->ipywidgets>=7.0.0->ipycytoscape) (0.7.5)\n",
      "Requirement already satisfied: backcall in /Users/anj/Documents/workspace/digipresnet-site/venv/lib/python3.9/site-packages (from ipython>=4.0.0; python_version >= \"3.3\"->ipywidgets>=7.0.0->ipycytoscape) (0.2.0)\n",
      "Requirement already satisfied: notebook>=4.4.1 in /Users/anj/Documents/workspace/digipresnet-site/venv/lib/python3.9/site-packages (from widgetsnbextension~=3.5.0->ipywidgets>=7.0.0->ipycytoscape) (6.1.1)\n",
      "Requirement already satisfied: python-dateutil>=2.1 in /Users/anj/Documents/workspace/digipresnet-site/venv/lib/python3.9/site-packages (from jupyter-client->ipykernel>=4.5.1->ipywidgets>=7.0.0->ipycytoscape) (2.8.1)\n",
      "Requirement already satisfied: pyzmq>=13 in /Users/anj/Documents/workspace/digipresnet-site/venv/lib/python3.9/site-packages (from jupyter-client->ipykernel>=4.5.1->ipywidgets>=7.0.0->ipycytoscape) (19.0.2)\n",
      "Requirement already satisfied: pyrsistent>=0.14.0 in /Users/anj/Documents/workspace/digipresnet-site/venv/lib/python3.9/site-packages (from jsonschema!=2.5.0,>=2.4->nbformat>=4.2.0->ipywidgets>=7.0.0->ipycytoscape) (0.16.0)\n",
      "Requirement already satisfied: attrs>=17.4.0 in /Users/anj/Documents/workspace/digipresnet-site/venv/lib/python3.9/site-packages (from jsonschema!=2.5.0,>=2.4->nbformat>=4.2.0->ipywidgets>=7.0.0->ipycytoscape) (19.3.0)\n",
      "Requirement already satisfied: wcwidth in /Users/anj/Documents/workspace/digipresnet-site/venv/lib/python3.9/site-packages (from prompt-toolkit!=3.0.0,!=3.0.1,<3.1.0,>=2.0.0->ipython>=4.0.0; python_version >= \"3.3\"->ipywidgets>=7.0.0->ipycytoscape) (0.2.5)\n",
      "Requirement already satisfied: parso<0.8.0,>=0.7.0 in /Users/anj/Documents/workspace/digipresnet-site/venv/lib/python3.9/site-packages (from jedi>=0.10->ipython>=4.0.0; python_version >= \"3.3\"->ipywidgets>=7.0.0->ipycytoscape) (0.7.1)\n",
      "Requirement already satisfied: ptyprocess>=0.5 in /Users/anj/Documents/workspace/digipresnet-site/venv/lib/python3.9/site-packages (from pexpect; sys_platform != \"win32\"->ipython>=4.0.0; python_version >= \"3.3\"->ipywidgets>=7.0.0->ipycytoscape) (0.6.0)\n",
      "Requirement already satisfied: terminado>=0.8.3 in /Users/anj/Documents/workspace/digipresnet-site/venv/lib/python3.9/site-packages (from notebook>=4.4.1->widgetsnbextension~=3.5.0->ipywidgets>=7.0.0->ipycytoscape) (0.8.3)\n",
      "Requirement already satisfied: nbconvert in /Users/anj/Documents/workspace/digipresnet-site/venv/lib/python3.9/site-packages (from notebook>=4.4.1->widgetsnbextension~=3.5.0->ipywidgets>=7.0.0->ipycytoscape) (5.6.1)\n",
      "Requirement already satisfied: Send2Trash in /Users/anj/Documents/workspace/digipresnet-site/venv/lib/python3.9/site-packages (from notebook>=4.4.1->widgetsnbextension~=3.5.0->ipywidgets>=7.0.0->ipycytoscape) (1.5.0)\n",
      "Requirement already satisfied: prometheus-client in /Users/anj/Documents/workspace/digipresnet-site/venv/lib/python3.9/site-packages (from notebook>=4.4.1->widgetsnbextension~=3.5.0->ipywidgets>=7.0.0->ipycytoscape) (0.8.0)\n",
      "Requirement already satisfied: argon2-cffi in /Users/anj/Documents/workspace/digipresnet-site/venv/lib/python3.9/site-packages (from notebook>=4.4.1->widgetsnbextension~=3.5.0->ipywidgets>=7.0.0->ipycytoscape) (20.1.0)\n",
      "Requirement already satisfied: jinja2 in /Users/anj/Documents/workspace/digipresnet-site/venv/lib/python3.9/site-packages (from notebook>=4.4.1->widgetsnbextension~=3.5.0->ipywidgets>=7.0.0->ipycytoscape) (2.11.2)\n",
      "Requirement already satisfied: bleach in /Users/anj/Documents/workspace/digipresnet-site/venv/lib/python3.9/site-packages (from nbconvert->notebook>=4.4.1->widgetsnbextension~=3.5.0->ipywidgets>=7.0.0->ipycytoscape) (3.1.5)\n",
      "Requirement already satisfied: pandocfilters>=1.4.1 in /Users/anj/Documents/workspace/digipresnet-site/venv/lib/python3.9/site-packages (from nbconvert->notebook>=4.4.1->widgetsnbextension~=3.5.0->ipywidgets>=7.0.0->ipycytoscape) (1.4.2)\n",
      "Requirement already satisfied: defusedxml in /Users/anj/Documents/workspace/digipresnet-site/venv/lib/python3.9/site-packages (from nbconvert->notebook>=4.4.1->widgetsnbextension~=3.5.0->ipywidgets>=7.0.0->ipycytoscape) (0.6.0)\n",
      "Requirement already satisfied: testpath in /Users/anj/Documents/workspace/digipresnet-site/venv/lib/python3.9/site-packages (from nbconvert->notebook>=4.4.1->widgetsnbextension~=3.5.0->ipywidgets>=7.0.0->ipycytoscape) (0.4.4)\n",
      "Requirement already satisfied: mistune<2,>=0.8.1 in /Users/anj/Documents/workspace/digipresnet-site/venv/lib/python3.9/site-packages (from nbconvert->notebook>=4.4.1->widgetsnbextension~=3.5.0->ipywidgets>=7.0.0->ipycytoscape) (0.8.4)\n",
      "Requirement already satisfied: entrypoints>=0.2.2 in /Users/anj/Documents/workspace/digipresnet-site/venv/lib/python3.9/site-packages (from nbconvert->notebook>=4.4.1->widgetsnbextension~=3.5.0->ipywidgets>=7.0.0->ipycytoscape) (0.3)\n",
      "Requirement already satisfied: cffi>=1.0.0 in /Users/anj/Documents/workspace/digipresnet-site/venv/lib/python3.9/site-packages (from argon2-cffi->notebook>=4.4.1->widgetsnbextension~=3.5.0->ipywidgets>=7.0.0->ipycytoscape) (1.14.1)\n",
      "Requirement already satisfied: MarkupSafe>=0.23 in /Users/anj/Documents/workspace/digipresnet-site/venv/lib/python3.9/site-packages (from jinja2->notebook>=4.4.1->widgetsnbextension~=3.5.0->ipywidgets>=7.0.0->ipycytoscape) (1.1.1)\n",
      "Requirement already satisfied: webencodings in /Users/anj/Documents/workspace/digipresnet-site/venv/lib/python3.9/site-packages (from bleach->nbconvert->notebook>=4.4.1->widgetsnbextension~=3.5.0->ipywidgets>=7.0.0->ipycytoscape) (0.5.1)\n",
      "Requirement already satisfied: packaging in /Users/anj/Documents/workspace/digipresnet-site/venv/lib/python3.9/site-packages (from bleach->nbconvert->notebook>=4.4.1->widgetsnbextension~=3.5.0->ipywidgets>=7.0.0->ipycytoscape) (20.4)\n",
      "Requirement already satisfied: pycparser in /Users/anj/Documents/workspace/digipresnet-site/venv/lib/python3.9/site-packages (from cffi>=1.0.0->argon2-cffi->notebook>=4.4.1->widgetsnbextension~=3.5.0->ipywidgets>=7.0.0->ipycytoscape) (2.20)\n",
      "Requirement already satisfied: pyparsing>=2.0.2 in /Users/anj/Documents/workspace/digipresnet-site/venv/lib/python3.9/site-packages (from packaging->bleach->nbconvert->notebook>=4.4.1->widgetsnbextension~=3.5.0->ipywidgets>=7.0.0->ipycytoscape) (2.4.7)\n"
     ]
    }
   ],
   "source": [
    "!pip install networkx ipycytoscape"
   ]
  },
  {
   "cell_type": "code",
   "execution_count": 2,
   "metadata": {
    "tags": [
     "hide-input"
    ]
   },
   "outputs": [
    {
     "data": {
      "application/vnd.jupyter.widget-view+json": {
       "model_id": "5670e12fbada41dc985df77e9f450fdb",
       "version_major": 2,
       "version_minor": 0
      },
      "text/plain": [
       "CytoscapeWidget(cytoscape_layout={'name': 'cola', 'nodeSpacing': 5, 'edgeLengthVal': 50, 'animate': True, 'ran…"
      ]
     },
     "metadata": {},
     "output_type": "display_data"
    }
   ],
   "source": [
    "#\n",
    "# Oh Hello There! \n",
    "# \n",
    "# This is the Python source code that's used to generate the illustrations for this page. It's just here in case anyone's interested in how the illustrations were created.\n",
    "#\n",
    "\n",
    "from ipywidgets import Layout\n",
    "from networkx import nx\n",
    "import ipycytoscape\n",
    "\n",
    "# Generate some random graphs:\n",
    "def plot_groups(groups=1, node_i=10, link_links=False, link_groups=False, width='100%', height='400px'):\n",
    "\n",
    "    # Accumulate the graph here:\n",
    "    G = None\n",
    "    nc = []\n",
    "\n",
    "    # Number of links:\n",
    "    nlinks = int(node_i/3.0)\n",
    "    if nlinks == 0 and node_i > 1:\n",
    "        nlinks = 1\n",
    "\n",
    "    # Generate multiple groups:\n",
    "    for loop in range(groups):\n",
    "        # Generate a connected graph:\n",
    "        G1 = nx.connected_watts_strogatz_graph(node_i, nlinks, 0.5)\n",
    "        nx.set_node_attributes(G1, 'them1', \"classes\")\n",
    "\n",
    "        # Add the bridge node:\n",
    "        link_node = node_i\n",
    "        G1.add_node(link_node, classes='you')\n",
    "\n",
    "        # Add another connected graph:\n",
    "        G2 = nx.connected_watts_strogatz_graph(node_i, nlinks, 0.5)\n",
    "        nx.set_node_attributes(G2, 'them2', \"classes\")\n",
    "        G1 = nx.disjoint_union(G1, G2)\n",
    "\n",
    "        # Link the bridge node to the two graphs:\n",
    "        G1.add_edge(link_node,link_node - 1)\n",
    "        G1.add_edge(link_node,link_node + 1)\n",
    "\n",
    "        # Merge all the Gs\n",
    "        if G:\n",
    "            G = nx.disjoint_union(G, G1)\n",
    "        else:\n",
    "            G = G1\n",
    "\n",
    "        # Colour the nodes accordingly:\n",
    "        nc = nc + ['green']*node_i + ['red'] + ['blue']*node_i\n",
    "\n",
    "    # Nodes in each group:\n",
    "    group_nodes = 2*node_i + 1\n",
    "\n",
    "    # Link up the linkers (if requested):\n",
    "    if link_links:\n",
    "        for loop in range(groups - 1):\n",
    "            G.add_edge(loop*group_nodes + node_i, (loop+1)*group_nodes + node_i, classes=\"digipres\")\n",
    "\n",
    "    # Cross-link the groups as if like finds like (if requested):\n",
    "    # (only links groups in order, but that makes the result look nice!)\n",
    "    if link_groups:\n",
    "        for loop in range(groups - 1):\n",
    "            # How many links to add\n",
    "            for sni in range(2):\n",
    "                # Add 'green-green' link:\n",
    "                G.add_edge(loop*group_nodes + sni, (loop+1)*group_nodes + sni)\n",
    "                # Add 'blue-blue' link:\n",
    "                G.add_edge(loop*group_nodes + node_i + 1 + sni, (loop+1)*group_nodes + node_i + 1 + sni)\n",
    "\n",
    "\n",
    "    # Initial layout:\n",
    "    pos = nx.spring_layout(G)\n",
    "\n",
    "    # Layout and plot the graph:\n",
    "    network_widget = ipycytoscape.CytoscapeWidget(layout=Layout(width=width, height=height, margin='0px auto 0px auto'))\n",
    "    network_widget.user_zooming_enabled = False\n",
    "    network_widget.user_panning_enabled = False\n",
    "    network_widget.graph.add_graph_from_networkx(G)\n",
    "    network_widget.set_layout(name='cola',\n",
    "                      nodeSpacing = 5,\n",
    "                      edgeLengthVal = 50,\n",
    "                      animate = True,\n",
    "                      randomize = True, \n",
    "                      maxSimulationTime = 1000000)\n",
    "    network_widget.set_style([\n",
    "                            {\n",
    "                                'selector': 'node.you',\n",
    "                                'css': {\n",
    "                                    'background-color': 'red'\n",
    "                                }\n",
    "                            },\n",
    "                            {\n",
    "                                'selector': 'node.them1',\n",
    "                                'css': {\n",
    "                                    'background-color': 'green'\n",
    "                                }\n",
    "                            },\n",
    "                            {\n",
    "                                'selector': 'node.them2',\n",
    "                                'css': {\n",
    "                                    'background-color': 'blue'\n",
    "                                }\n",
    "                            }\n",
    "    ])\n",
    "    \n",
    "    return network_widget\n",
    "\n",
    "plot_groups(height='300px')"
   ]
  },
  {
   "cell_type": "markdown",
   "metadata": {},
   "source": [
    "Digital preservation is built on borderlands. On one side, the rapidly evolving _new world_ of modern information technology. On the other, the _ancient land_ of cultural heritage, of libraries and archives.\n",
    "\n",
    "Your work is to build a bridge between these cultures; to help each understand the other; to find common purpose; to help both sides learn to _build together_. As the go-between, you will learn both languages. You will be the messenger, and we all know the dangers of being the messenger when the news is bad.\n",
    "\n",
    "Living across two worlds can be hard. So above all else, you must find support, and be supported. Your managers will likely come from one of the two worlds, so may not understand the issues or perceive the risks.  If they can't help you defuse the dangers and fight the loneliness, leave. \n",
    "\n",
    "But if you are given the support you need to be able to reach out, you'll find you are not alone.\n"
   ]
  },
  {
   "cell_type": "code",
   "execution_count": 3,
   "metadata": {
    "tags": [
     "hide-input"
    ]
   },
   "outputs": [
    {
     "data": {
      "application/vnd.jupyter.widget-view+json": {
       "model_id": "495a34ec6b0042d98e17f8ad6f697536",
       "version_major": 2,
       "version_minor": 0
      },
      "text/plain": [
       "CytoscapeWidget(cytoscape_layout={'name': 'cola', 'nodeSpacing': 5, 'edgeLengthVal': 50, 'animate': True, 'ran…"
      ]
     },
     "metadata": {},
     "output_type": "display_data"
    }
   ],
   "source": [
    "plot_groups(groups=6)"
   ]
  },
  {
   "cell_type": "markdown",
   "metadata": {},
   "source": [
    "## Kin\n",
    "\n",
    "Many different organisations now recognise the importance of digital preservation, so while you may work alone or in a small team, there are others in other organisations battling very similar problems.\n",
    "\n",
    "They are your kin.\n",
    "\n",
    "They likely operate in different contexts, with different goals and constraints.  But like you, they are go-betweens. They are bridges. They are learning as they go. They are finding common ground. Just like you.\n",
    "\n",
    "If you can meet these like minds, you can help each other. But you'll have to put in the work.\n"
   ]
  },
  {
   "cell_type": "markdown",
   "metadata": {},
   "source": [
    "### Meeting Places\n",
    "\n",
    "As the [Wikipedia list of digital preservation initiatives](https://en.wikipedia.org/wiki/List_of_digital_preservation_initiatives) shows, there are a _lot_ of potential meeting places.   Here, I'm briefly introduce a handful of those that have helped me on my journey, but this cannot and should not be considered an exaustive list as it is heavily biased by my experiences. One of the things you'll need to work on is researching these organisations, to find out which ones might work for you.\n",
    "\n",
    "\n",
    "#### Conferences & Coalitions\n",
    "\n",
    "One of the ways to meet your peers is through the projects and events run by the various national and international organisations that have been set up to facilitate wider collaboration.  \n",
    "\n",
    "Both the [Digital Preservation Coalition (DPC)](https://www.dpconline.org/) and the U.S. [National Digital Stewardship Alliance (NDSA)](http://www.digitalpreservation.gov/ndsa/) put a lot of work into supporting the digital preservation community.  They are both membership-based organisations, but make a lot of their work openly available.\n",
    "\n",
    "There are also a number of initiatives supporting specific areas of interest, including:\n",
    "\n",
    "- The [Open Preservation Foundation](https://openpreservation.org/) with is a strong focus on supporting open source tools used in digital preservation.\n",
    "- The [International Internet Preservation Consortium](https://netpreserve.org/), focussed on web archiving both as a means and a target of digital preservation.\n",
    "- The [BitCurator Consortium](https://bitcurator.net/bitcurator-consortium/), supporting the use of open source digital forensics tools for preservation purposes.\n",
    "- The [Software Heritage](https://www.softwareheritage.org/) initiative in collaboration with [UNESCO](https://en.unesco.org/themes/information-preservation).\n",
    "- The [No Time To Wait](https://mediaarea.net/NoTimeToWait) conference series, focusing on audiovisual preservation.\n",
    "- The [Software Sustainability Institute](https://www.software.ac.uk/)\n",
    "\n",
    "The largest digital preservation conference is [iPres](https://ipres-conference.org/). This is a good place to meet peers, but you should also look out for digital preservation tracks in conferences more closely related to your particular situation.\n",
    "\n",
    "\n",
    "#### The #digipres Community\n",
    "\n",
    "Outside of the formal venues, there is a wider community of digital preservation practitioners who are keen to help support each other. \n",
    "\n",
    "For those able to work in the open and with a public profile, Twitter is a good option.  I [set up](http://anjackson.github.io/keeping-codes/practice/DigiPresNews.html) [@digipresnews](https://twitter.com/digipresnews) account was set up to ensure important digital preservation blogs have a presence on Twitter, and as such, [the list of @digipresnews followers](https://twitter.com/digipresnews/followers) is a reasonable starting point. Another approach is to wander through the [#digipres](https://twitter.com/search?q=%23digipres) or [#DigitalPreservation](https://twitter.com/search?q=%23DigitalPreservation) hashtag feeds, or start with [this DigiPres Twitter List](https://twitter.com/i/lists/98975653) by [David Underdown](https://twitter.com/DavidUnderdown9).\n",
    "\n",
    "Alternatively, off social media, there are a number of mailing lists that may help. The [JISC Digital Preservation Mailing List](https://www.jiscmail.ac.uk/cgi-bin/webadmin?A0=DIGITAL-PRESERVATION) is one widely-used option, but as above, there are often more domain-specific lists that might be better depending on the question and the context (e.g. [Research Data Management](https://www.jiscmail.ac.uk/cgi-bin/webadmin?A0=RESEARCH-DATAMAN), [Web Archiving](https://netpreserve.org/about-us/iipc-mailing-list/), [Digital Curation](https://groups.google.com/g/digital-curation), etc.)\n",
    "\n",
    "Although Twitter and mailing lists are good places to ask questions, it's not always easy to find out if you question has already been answered before, or to improve the answers over time.  This realisation lead to the creation of the [Digital Preservation Questions & Answers](https://qanda.digipres.org/), which was set up by some members of the #digipres community as a place to pool these useful tidbits over time.\n",
    "\n",
    "As well as these forums, some members of the #digipres community has tried to build a shared information hub in the form of [digipres.org](https://www.digipres.org/).  There are a lot of digital preservation tools and information out there, and [digipres.org](https://www.digipres.org/) attempt to make sure you can find what you need!"
   ]
  },
  {
   "cell_type": "code",
   "execution_count": 4,
   "metadata": {
    "tags": [
     "hide-input"
    ]
   },
   "outputs": [
    {
     "data": {
      "application/vnd.jupyter.widget-view+json": {
       "model_id": "81f5249269574592ba81ad84b0a64b38",
       "version_major": 2,
       "version_minor": 0
      },
      "text/plain": [
       "CytoscapeWidget(cytoscape_layout={'name': 'cola', 'nodeSpacing': 5, 'edgeLengthVal': 50, 'animate': True, 'ran…"
      ]
     },
     "metadata": {},
     "output_type": "display_data"
    }
   ],
   "source": [
    "plot_groups(groups=6, link_links=True)"
   ]
  },
  {
   "cell_type": "markdown",
   "metadata": {},
   "source": [
    "## The Bad News\n",
    "\n",
    "One of the things library Twitter folks like to ridicule is the endless stream of editorials about [\"the future of libraries\"](https://www.google.co.uk/search?q=%22the+future+of+libraries%22&tbs=sbd:1,ar:1&tbm=nws&source=lnt&sa=X&biw=2003&bih=1027&dpr=2), usually written by someone who has seen an eBook once but never talked to a librarian.  There's usually little of value in these articles, but I think the fact that they _keep coming back_ does indicate that many still see libraries and archives through the prism of print.\n",
    "\n",
    "And, to be honest, I think there is some truth to that.  I think libraries and archives have been deeply disrupted by modern information technology, and we're still working through the consequences. I think our institutions have had _decades_ to become heavily optimized for handling print, and the modifications required to handle digital content are not yet fully understood. This problem manifests itself in a number of ways:\n",
    "\n",
    "### Underfunding \n",
    "\n",
    "Digital preservation is underfunded. _Hugely_ underfunded. \n",
    "\n",
    "It's certainly not the _only_ problem, by any means. But it _amplifies_ everything, like a microphone too close to the speaker.\n",
    "\n",
    "The cultural heritage sector has generally seen cuts upon cuts over recent years, rather than any kind of ongoing investment. This has meant organisations structured around preserving physical things straining to create a digital version of themselves, on small money, with and tiny teams.\n",
    "\n",
    "One of my favourite examples in recent years was [\"XFR STN\"](https://www.newmuseum.org/exhibitions/view/xfr-stn) (Transfer Station) -- an open-door artist-centred media archiving project -- and this blog post about it: [It Takes a Village to Save a Hard Drive](https://web.archive.org/web/20130916000537/http://notepad.benfinoradin.info/2013/09/12/it-takes-a-village-to-save-a-hard-drive). It perfectly illustrate the amazing potential of this kind of interdisciplinary work, but the `07/17–09/08/2013` dates buried in the FAQ very clearly illustrates the problem.\n",
    "\n",
    "We do our best to help each other out, but it's important to recognise that this is a kind of coping mechanism -- a consequence of our mistreatment. We can support each other, but must also beware the dangers of [vocational awe](http://www.inthelibrarywiththeleadpipe.org/2018/vocational-awe/).\n",
    "\n",
    "\n",
    "### Fragmentation\n",
    "\n",
    "There is _so much_ to be done, all while fighting institutional inertia in order to get _anything_ done. This can leave us feeling undermined and embattled. The _\"like minds\"_ you find will be able to offer a sympathetic ear, and share their own experiences.  But there's a trap here. Venting shared frustrations brings you closer to those _outside_ your organisation, but can isolate you from those _inside_ it. _Misery loves company_, and it may linger too long.\n"
   ]
  },
  {
   "cell_type": "code",
   "execution_count": 5,
   "metadata": {
    "tags": [
     "hide-input"
    ]
   },
   "outputs": [
    {
     "data": {
      "application/vnd.jupyter.widget-view+json": {
       "model_id": "45b7cafe9b3d4802959e8ae11539f4bd",
       "version_major": 2,
       "version_minor": 0
      },
      "text/plain": [
       "CytoscapeWidget(cytoscape_layout={'name': 'cola', 'nodeSpacing': 5, 'edgeLengthVal': 50, 'animate': True, 'ran…"
      ]
     },
     "metadata": {},
     "output_type": "display_data"
    }
   ],
   "source": [
    "network_widget = plot_groups(groups=6, link_links=True)\n",
    "network_widget.set_style([\n",
    "                            {\n",
    "                                'selector': 'node.you',\n",
    "                                'css': {\n",
    "                                    'background-color': 'red',\n",
    "                                    'height': 60,\n",
    "                                    'width': 60\n",
    "                                }\n",
    "                            },\n",
    "                            {\n",
    "                                'selector': 'node.them1',\n",
    "                                'css': {\n",
    "                                    'background-color': 'green',\n",
    "                                    'opacity': 0.25\n",
    "                                }\n",
    "                            },\n",
    "                            {\n",
    "                                'selector': 'node.them2',\n",
    "                                'css': {\n",
    "                                    'background-color': 'blue',\n",
    "                                    'opacity': 0.25\n",
    "                                }\n",
    "                            },\n",
    "                            {\n",
    "                                'selector': 'edge',\n",
    "                                'css': {\n",
    "                                    'opacity': 0.25\n",
    "                                }\n",
    "                            },\n",
    "                            {\n",
    "                                'selector': 'edge.digipres',\n",
    "                                'css': {\n",
    "                                    'opacity': 1.0,\n",
    "                                    'width': 15,\n",
    "                                    'line-color': '#555'\n",
    "                                }\n",
    "                            }])\n",
    "network_widget"
   ]
  },
  {
   "cell_type": "markdown",
   "metadata": {},
   "source": [
    "Sometimes people end up feeling that only us digital preservation people _get it_. If it's easier and more fun to imagine how things _could_ be than it is to get your institions to take _one more damn step forward_, it's tempting to avoid the conflict. At it's worst, this can lead to immensly ambitious digital preservation ideals that only seem ideal because they will never be blunted by the realities of implementation.[^rirant]\n",
    "\n",
    "[^rirant]: In the future, this will probably link to something about Representation Information Registries.\n",
    "\n",
    "### Community Tensions\n",
    "\n",
    "Digital preservation is part of a [Cambrian Explosion](https://en.wikipedia.org/wiki/Cambrian_explosion) of digital culture. It's everywhere at the same time, but thinly spread.\n",
    "\n",
    "There's a kind of core _Digital Preservation_ community that focusses on digital preservation as a distinct and singular field of research and practice. But this approach tends to abstract away the context in which preservation is taking place, which makes it harder to collaborate other people who are doing essentially the same thing but under slightly different circumstances.\n",
    "\n",
    "Even just in and around libraries and archives, there are lots of fields that are in some way 'doing digital preservation', but framing it differently and in somewhat inconsistent terms. These include (but are not limited to):\n",
    "\n",
    "- Digital curation\n",
    "- Digital scholarship\n",
    "- Digital libraries\n",
    "- Digital repositories\n",
    "- Digitization\n",
    "- Research data management\n",
    "- Web archiving\n",
    "\n",
    "The lack of consistent terminology can be frustrating, but right now there's no general acceptance that e.g. 'digital preservation' means 'preserving digital things' and does _not_ mean 'preserving things digitally'. To build the alliances we need, it may be better to accept the situation and try to be more explicit depending on the context, rather than demand compliance ahead of consensus.\n",
    "\n",
    "And that's just our neighbours.\n",
    "\n",
    "There are many potential allies out there in the wider world, and potential for collaboration on a truly global scale. They may use very different language, but every data standardisation and interoperability group is a potential ally. Anyone who works on interoperabilty, data takeout, open data, information security, \n",
    "\n",
    "\n",
    "Tension between getting started and building on other's work.\n",
    "\n",
    "## Making Connections\n",
    "\n",
    "the idea of cross-linking individuals in similar roles across organisation, building a more resiliant mesh...  Internal joining up, storage, IT, security, etc.\n",
    "\n",
    "\n",
    "\n",
    "\n",
    "\n"
   ]
  },
  {
   "cell_type": "code",
   "execution_count": 6,
   "metadata": {
    "tags": [
     "hide-input"
    ]
   },
   "outputs": [
    {
     "data": {
      "application/vnd.jupyter.widget-view+json": {
       "model_id": "b85120a4981e43caab0744e6ca448ea4",
       "version_major": 2,
       "version_minor": 0
      },
      "text/plain": [
       "CytoscapeWidget(cytoscape_layout={'name': 'cola', 'nodeSpacing': 5, 'edgeLengthVal': 50, 'animate': True, 'ran…"
      ]
     },
     "metadata": {},
     "output_type": "display_data"
    }
   ],
   "source": [
    "plot_groups(groups=6, link_links=True, link_groups=True)"
   ]
  },
  {
   "cell_type": "markdown",
   "metadata": {},
   "source": [
    "What gets saved will be what we choose to save, together.\n",
    "\n",
    "We are not alone. This is fundemental.\n"
   ]
  },
  {
   "cell_type": "code",
   "execution_count": null,
   "metadata": {},
   "outputs": [],
   "source": []
  }
 ],
 "metadata": {
  "kernelspec": {
   "display_name": "Python 3",
   "language": "python",
   "name": "python3"
  },
  "language_info": {
   "codemirror_mode": {
    "name": "ipython",
    "version": 3
   },
   "file_extension": ".py",
   "mimetype": "text/x-python",
   "name": "python",
   "nbconvert_exporter": "python",
   "pygments_lexer": "ipython3",
   "version": "3.9.0"
  }
 },
 "nbformat": 4,
 "nbformat_minor": 4
}
